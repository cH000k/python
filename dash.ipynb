{
 "cells": [
  {
   "cell_type": "code",
   "execution_count": 1,
   "metadata": {},
   "outputs": [],
   "source": [
    "from jupyter_dash import JupyterDash\n",
    "import dash\n",
    "from dash import dcc\n",
    "from dash import html\n",
    "from dash import dash_table\n",
    "import pandas as pd\n",
    "import plotly.express as px"
   ]
  },
  {
   "cell_type": "code",
   "execution_count": 2,
   "metadata": {},
   "outputs": [],
   "source": [
    "app = JupyterDash(__name__)\n",
    "\n",
    "# Create server variable with Flask server object for use with gunicorn\n",
    "server = app.server\n",
    "\n",
    "# Create Dataframe\n",
    "df = pd.read_csv(\"pokemon.csv\")\n",
    "#df = pd.read_csv('https://raw.githubusercontent.com/plotly/datasets/master/solar.csv')\n",
    "\n",
    "# Get Total Rows\n",
    "count = len(df.index)\n",
    "\n",
    "# Get Total Num of Legendary Pokemon\n",
    "legendary_count = df.loc[df[\"Legendary\"] == True].shape[0]\n",
    "\n",
    "# Sample Bar Graph\n",
    "# df2 = pd.DataFrame({\n",
    "#     \"Fruit\": [\"Apples\", \"Oranges\", \"Bananas\", \"Apples\", \"Oranges\", \"Bananas\"],\n",
    "#     \"Amount\": [4, 1, 2, 2, 4, 5],\n",
    "#     \"City\": [\"SF\", \"SF\", \"SF\", \"Montreal\", \"Montreal\", \"Montreal\"]\n",
    "# })\n",
    "\n",
    "\n",
    "# Get Unique Values of one Column and make it to a list\n",
    "type1_names = df[\"Type 1\"].unique().tolist()\n",
    "\n",
    "# Get Count of each value and store to a variable\n",
    "type1_values = []\n",
    "\n",
    "for type in type1_names:\n",
    "    value_count = df.loc[df[\"Type 1\"] == type].shape[0]\n",
    "    type1_values.append(value_count)\n",
    "\n",
    "df3 = pd.DataFrame({\n",
    "    \"Types\": type1_names,\n",
    "    \"\": type1_values\n",
    "})\n",
    "\n",
    "# Bar Chart\n",
    "fig = px.bar(df3, x=\"Types\", y=\"\", barmode=\"group\")\n",
    "#Disable/Remove Axis label\n",
    "#fig.update_yaxes(visible=False, showticklabels=True)\n",
    "\n",
    "# Construct App Layout\n",
    "app.layout = html.Div(children=[\n",
    "    html.H1(children='POKEMON LIST', style={'text-align': 'center',  'font-size': '3rem'}),\n",
    "\n",
    "    # Total Number of Pokemons\n",
    "    html.Div(children=[\n",
    "        html.Label(\"Total Number of Pokemons: \", style={'font-weight': 'bold', 'font-size': '2rem'}),\n",
    "        html.Span(count,  style={'font-size': '2rem'})\n",
    "    ]),\n",
    "\n",
    "    # Total Number of Legendary Pokemons\n",
    "    html.Div(children=[\n",
    "        html.Label(\"Number of Legendary Pokemons: \", style={'font-weight': 'bold', 'font-size': '2rem'}),\n",
    "        html.Span(legendary_count,  style={'font-size': '2rem'})\n",
    "    ]),\n",
    "    html.Br(),\n",
    "    \n",
    "    # Pokemon Bar Graph by Type 1 Count\n",
    "    dcc.Graph(\n",
    "            id='example-graph',\n",
    "            figure=fig\n",
    "        ),\n",
    "\n",
    "    # Table List of all Pokemons\n",
    "    dash_table.DataTable(df.to_dict('records'), [{\"name\": i, \"id\": i} for i in df.columns]),\n",
    "   \n",
    "])\n"
   ]
  },
  {
   "cell_type": "code",
   "execution_count": 3,
   "metadata": {},
   "outputs": [
    {
     "name": "stdout",
     "output_type": "stream",
     "text": [
      "Dash app running on http://127.0.0.1:8050/\n"
     ]
    }
   ],
   "source": [
    "app.run_server()"
   ]
  },
  {
   "cell_type": "markdown",
   "metadata": {},
   "source": [
    "# Get Number of Rows\n",
    "df = pd.read_csv(\"pokemon.csv\")\n",
    "print(len(df.index))"
   ]
  },
  {
   "cell_type": "markdown",
   "metadata": {},
   "source": [
    "# Display Index Details\n",
    "print(df.index)"
   ]
  },
  {
   "cell_type": "code",
   "execution_count": null,
   "metadata": {},
   "outputs": [],
   "source": [
    "legendary_count = df.loc[df[\"Legendary\"] == True].shape[0]\n",
    "print(legendary_count)"
   ]
  },
  {
   "cell_type": "code",
   "execution_count": 14,
   "metadata": {},
   "outputs": [
    {
     "name": "stdout",
     "output_type": "stream",
     "text": [
      "['Grass', 'Fire', 'Water', 'Bug', 'Normal', 'Poison', 'Electric', 'Ground', 'Fairy', 'Fighting', 'Psychic', 'Rock', 'Ghost', 'Ice', 'Dragon', 'Dark', 'Steel', 'Flying']\n",
      "[70, 52, 112, 69, 98, 28, 44, 32, 17, 27, 57, 44, 32, 24, 32, 31, 27, 4]\n"
     ]
    }
   ],
   "source": [
    "# Get Unique Values of one Column and make it to a list\n",
    "\n",
    "type1_names = df[\"Type 1\"].unique().tolist()\n",
    "print(type1_names)\n",
    "\n",
    "# Get Count of each value and store to a variable\n",
    "type1_values = []\n",
    "\n",
    "for type in type1_names:\n",
    "    value_count = df.loc[df[\"Type 1\"] == type].shape[0]\n",
    "    type1_values.append(value_count)\n",
    "\n",
    "print(type1_values)"
   ]
  },
  {
   "cell_type": "code",
   "execution_count": 31,
   "metadata": {},
   "outputs": [
    {
     "name": "stdout",
     "output_type": "stream",
     "text": [
      "{'Grass': 70, 'Fire': 52, 'Water': 112, 'Bug': 69, 'Normal': 98, 'Poison': 28, 'Electric': 44, 'Ground': 32, 'Fairy': 17, 'Fighting': 27, 'Psychic': 57, 'Rock': 44, 'Ghost': 32, 'Ice': 24, 'Dragon': 32, 'Dark': 31, 'Steel': 27, 'Flying': 4}\n",
      "-------------------------------\n"
     ]
    }
   ],
   "source": [
    "# Create Dictionaries from Two Lists\n",
    "type1_dict = dict(zip(type1_names, type1_values))\n",
    "print(type1_dict)\n",
    "print(\"-------------------------------\")"
   ]
  },
  {
   "cell_type": "code",
   "execution_count": 8,
   "metadata": {},
   "outputs": [
    {
     "name": "stdout",
     "output_type": "stream",
     "text": [
      "                   #       Total         HP      Attack     Defense  \\\n",
      "Type 1                                                                \n",
      "Bug       334.492754  378.927536  56.884058   70.971014   70.724638   \n",
      "Dark      461.354839  445.741935  66.806452   88.387097   70.225806   \n",
      "Dragon    474.375000  550.531250  83.312500  112.125000   86.375000   \n",
      "Electric  363.500000  443.409091  59.795455   69.090909   66.295455   \n",
      "Fairy     449.529412  413.176471  74.117647   61.529412   65.705882   \n",
      "Fighting  363.851852  416.444444  69.851852   96.777778   65.925926   \n",
      "Fire      327.403846  458.076923  69.903846   84.769231   67.769231   \n",
      "Flying    677.750000  485.000000  70.750000   78.750000   66.250000   \n",
      "Ghost     486.500000  439.562500  64.437500   73.781250   81.187500   \n",
      "Grass     344.871429  421.142857  67.271429   73.214286   70.800000   \n",
      "Ground    356.281250  437.500000  73.781250   95.750000   84.843750   \n",
      "Ice       423.541667  433.458333  72.000000   72.750000   71.416667   \n",
      "Normal    319.173469  401.683673  77.275510   73.469388   59.846939   \n",
      "Poison    251.785714  399.142857  67.250000   74.678571   68.821429   \n",
      "Psychic   380.807018  475.947368  70.631579   71.456140   67.684211   \n",
      "Rock      392.727273  453.750000  65.363636   92.863636  100.795455   \n",
      "Steel     442.851852  487.703704  65.222222   92.703704  126.370370   \n",
      "Water     303.089286  430.455357  72.062500   74.151786   72.946429   \n",
      "\n",
      "            Sp. Atk    Sp. Def       Speed  Generation  Legendary  \n",
      "Type 1                                                             \n",
      "Bug       53.869565  64.797101   61.681159    3.217391   0.000000  \n",
      "Dark      74.645161  69.516129   76.161290    4.032258   0.064516  \n",
      "Dragon    96.843750  88.843750   83.031250    3.875000   0.375000  \n",
      "Electric  90.022727  73.704545   84.500000    3.272727   0.090909  \n",
      "Fairy     78.529412  84.705882   48.588235    4.117647   0.058824  \n",
      "Fighting  53.111111  64.703704   66.074074    3.370370   0.000000  \n",
      "Fire      88.980769  72.211538   74.442308    3.211538   0.096154  \n",
      "Flying    94.250000  72.500000  102.500000    5.500000   0.500000  \n",
      "Ghost     79.343750  76.468750   64.343750    4.187500   0.062500  \n",
      "Grass     77.500000  70.428571   61.928571    3.357143   0.042857  \n",
      "Ground    56.468750  62.750000   63.906250    3.156250   0.125000  \n",
      "Ice       77.541667  76.291667   63.458333    3.541667   0.083333  \n",
      "Normal    55.816327  63.724490   71.551020    3.051020   0.020408  \n",
      "Poison    60.428571  64.392857   63.571429    2.535714   0.000000  \n",
      "Psychic   98.403509  86.280702   81.491228    3.385965   0.245614  \n",
      "Rock      63.340909  75.477273   55.909091    3.454545   0.090909  \n",
      "Steel     67.518519  80.629630   55.259259    3.851852   0.148148  \n",
      "Water     74.812500  70.517857   65.964286    2.857143   0.035714  \n"
     ]
    }
   ],
   "source": [
    "print(df.groupby([\"Type 1\"]).mean())"
   ]
  },
  {
   "cell_type": "code",
   "execution_count": 13,
   "metadata": {},
   "outputs": [
    {
     "name": "stdout",
     "output_type": "stream",
     "text": [
      "70\n",
      "52\n"
     ]
    }
   ],
   "source": [
    "print(df.loc[df[\"Type 1\"] == \"Grass\"].shape[0]) #70\n",
    "print(df.loc[df[\"Type 1\"] == \"Fire\"].shape[0]) #52"
   ]
  },
  {
   "cell_type": "code",
   "execution_count": 38,
   "metadata": {},
   "outputs": [
    {
     "name": "stdout",
     "output_type": "stream",
     "text": [
      "[1, 2, 3, 5, 10]\n"
     ]
    }
   ],
   "source": [
    "list = [2,5,3,10,1]\n",
    "\n",
    "list.sort()\n",
    "\n",
    "print(list)"
   ]
  },
  {
   "cell_type": "code",
   "execution_count": 22,
   "metadata": {},
   "outputs": [
    {
     "name": "stdout",
     "output_type": "stream",
     "text": [
      "2022-09-27\n",
      "2022-09-01\n"
     ]
    }
   ],
   "source": [
    "# How to Get Start and End Date of Current Month\n",
    "from datetime import date\n",
    "today = str(date.today())\n",
    "print(today)\n",
    "end = today[-2:]\n",
    "start = today.replace(end, \"01\")\n",
    "print(start)"
   ]
  },
  {
   "cell_type": "code",
   "execution_count": 33,
   "metadata": {},
   "outputs": [
    {
     "name": "stdout",
     "output_type": "stream",
     "text": [
      "9/27/2022\n"
     ]
    }
   ],
   "source": [
    "# How to Convert Date Format\n",
    "import datetime\n",
    "today = str(date.today())\n",
    "format = \"%Y-%m-%d\"\n",
    "\n",
    "datetime = datetime.datetime.strptime(today, format).strftime(\"%m/%d/%Y\")\n",
    "\n",
    "# Remove Leading Zero from Month\n",
    "print(datetime[1:])"
   ]
  },
  {
   "cell_type": "code",
   "execution_count": 34,
   "metadata": {},
   "outputs": [
    {
     "name": "stdout",
     "output_type": "stream",
     "text": [
      "09/27/2022\n"
     ]
    }
   ],
   "source": [
    "# How to Remove Time from Date\n",
    "date1 = \"09/27/2022 14:09\"\n",
    "\n",
    "print(date1.split()[0])"
   ]
  },
  {
   "cell_type": "code",
   "execution_count": null,
   "metadata": {},
   "outputs": [],
   "source": []
  }
 ],
 "metadata": {
  "kernelspec": {
   "display_name": "Python 3.10.4 64-bit",
   "language": "python",
   "name": "python3"
  },
  "language_info": {
   "codemirror_mode": {
    "name": "ipython",
    "version": 3
   },
   "file_extension": ".py",
   "mimetype": "text/x-python",
   "name": "python",
   "nbconvert_exporter": "python",
   "pygments_lexer": "ipython3",
   "version": "3.10.4"
  },
  "orig_nbformat": 4,
  "vscode": {
   "interpreter": {
    "hash": "b769e006912ec37d22d70e5a86561f700ac3296e9c585175429d129c45e25b86"
   }
  }
 },
 "nbformat": 4,
 "nbformat_minor": 2
}
