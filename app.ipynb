{
 "cells": [
  {
   "cell_type": "code",
   "execution_count": 1,
   "metadata": {},
   "outputs": [],
   "source": [
    "import dash\n",
    "import dash_core_components as dcc\n",
    "import dash_html_components as html\n",
    "import dash_bootstrap_components as dbc"
   ]
  },
  {
   "cell_type": "code",
   "execution_count": null,
   "metadata": {},
   "outputs": [],
   "source": [
    "import pandas as pd\n",
    "import os\n",
    "import plotly.express as px\n",
    "import plotly.graph_objects as go\n",
    "from datetime import date"
   ]
  },
  {
   "cell_type": "markdown",
   "metadata": {},
   "source": [
    "INCIDENT TICKETS"
   ]
  },
  {
   "cell_type": "code",
   "execution_count": null,
   "metadata": {},
   "outputs": [],
   "source": [
    "# Create initial Dataframe\n",
    "df_incident = pd.read_csv('incident_copy.csv')\n",
    "df_incident.head()"
   ]
  },
  {
   "cell_type": "code",
   "execution_count": null,
   "metadata": {},
   "outputs": [],
   "source": [
    "# Replace NaN values with '01-01-2200' then save new Dataframe to same file\n",
    "df_incident['resolved_at'].fillna('01-01-2200 00:00:00', inplace=True)\n",
    "df_incident['closed_at'].fillna('01-01-2200 00:00:00', inplace=True)\n",
    "\n",
    "df_incident.to_csv('path', index=False)"
   ]
  },
  {
   "cell_type": "code",
   "execution_count": null,
   "metadata": {},
   "outputs": [],
   "source": [
    "# Recreate Dataframe and conver Date columns to Datetime format\n",
    "d_parser = lambda x: pd.datetime.strptime(x, '%Y-%m-%d %H:%M:%S')\n",
    "\n",
    "df_incident = pd.read_csv('testing.csv', parse_dates=['opened_at', 'closed_at', 'resolved_at'],\n",
    "                            date_parser = d_parser , encoding = 'unicode_escape')\n",
    "                            \n",
    "df_incident.head()"
   ]
  },
  {
   "cell_type": "markdown",
   "metadata": {},
   "source": [
    "Incident Tickets Opened - Current Month"
   ]
  },
  {
   "cell_type": "code",
   "execution_count": null,
   "metadata": {},
   "outputs": [],
   "source": [
    "# Get Number of Opened Tickets on Current Month\n",
    "\n",
    "# Get current date today and its corresponding first day of the same month\n",
    "month_date_today = date.today()\n",
    "split_month_date_today = str(month_date_today).split('-')\n",
    "month_first_day = str(month_date_today).replace(str(f\"-{split_month_date_today[-1]}\"), str(f\"-01\"))\n",
    "\n",
    "date_filter_inc_currmonth = (df_incident['opened_at'] >= month_first_day)\n",
    "currmonth_opened_ticket = len(date_filter_inc_currmonth.loc[date_filter_inc_currmonth])\n",
    "\n",
    "print(currmonth_opened_ticket)"
   ]
  },
  {
   "cell_type": "markdown",
   "metadata": {},
   "source": [
    "Incident Tickets Opened - Current Year"
   ]
  },
  {
   "cell_type": "code",
   "execution_count": null,
   "metadata": {},
   "outputs": [],
   "source": [
    "# Get Number of Opened Tickets on Current Year\n",
    "\n",
    "year_first_day = month_first_day.replace(str(f\"-{split_month_date_today[1]}\"), str(f\"-01\"))\n",
    "\n",
    "curryear_opened_ticket = df_incident.loc[df_incident['opened_at'] >= year_first_day].shape[0]\n",
    "\n",
    "print(curryear_opened_ticket)"
   ]
  },
  {
   "cell_type": "markdown",
   "metadata": {},
   "source": [
    "Incident Tickets Opened - YTD"
   ]
  },
  {
   "cell_type": "code",
   "execution_count": null,
   "metadata": {},
   "outputs": [],
   "source": [
    "# Get Ticket Opened Count YTD\n",
    "ytd_opened_ticket = df_incident.shape[0]\n",
    "\n",
    "print(ytd_opened_ticket)"
   ]
  },
  {
   "cell_type": "markdown",
   "metadata": {},
   "source": [
    "Incident Tickets Resolved - Current Month"
   ]
  },
  {
   "cell_type": "code",
   "execution_count": null,
   "metadata": {},
   "outputs": [],
   "source": [
    "# Get Number of Resovled Tickets on Current Month\n",
    "date_filter_inc_currmonth = (df_incident['resolved_at'] >= month_first_day) & (df_incident['resolved_at'] != '2200-01-01')\n",
    "\n",
    "currmonth_resolved_ticket = len(date_filter_inc_currmonth.loc[date_filter_inc_currmonth])\n",
    "\n",
    "print(currmonth_resolved_ticket)"
   ]
  },
  {
   "cell_type": "markdown",
   "metadata": {},
   "source": [
    "Incident Tickets Resolved - Current Year"
   ]
  },
  {
   "cell_type": "code",
   "execution_count": null,
   "metadata": {},
   "outputs": [],
   "source": [
    "# Get Number of Resolved Tickets on Current Year\n",
    "\n",
    "year_first_month = month_first_day.replace(str(f\"-{split_month_date_today[1]}\"), str(f\"-01\"))\n",
    "date_filter_inc_curryear = (df_incident['resolved_at'] >= year_first_month) & (df_incident['resolved_at'] != '2200-01-01')\n",
    "\n",
    "curryear_resolved_ticket = len(date_filter_inc_curryear.loc[date_filter_inc_curryear])\n",
    "\n",
    "print(curryear_resolved_ticket)"
   ]
  },
  {
   "cell_type": "markdown",
   "metadata": {},
   "source": [
    "Incident Tickets Resolved - YTD"
   ]
  },
  {
   "cell_type": "code",
   "execution_count": null,
   "metadata": {},
   "outputs": [],
   "source": [
    "# Get Ticket Resolved Count - YTD\n",
    "total_closed_count = df_incident.loc[df_incident['state'] == 'Closed'].shape[0]\n",
    "total_resolved_count = df_incident.loc[df_incident['state'] == 'Resolved'].shape[0]\n",
    "total_closed_resolved_count = total_closed_count + total_resolved_count\n",
    "\n",
    "print(f\"total_closed_resolved_count: {total_closed_resolved_count}\")"
   ]
  },
  {
   "cell_type": "markdown",
   "metadata": {},
   "source": [
    "Volume of Incidents by Issue Type"
   ]
  },
  {
   "cell_type": "code",
   "execution_count": null,
   "metadata": {},
   "outputs": [],
   "source": [
    "# Get all 'Research Assessment' types\n",
    "research_assessment_types = df_incident[\"u_research_assessment\"].unique().tolist()\n",
    "\n",
    "print(research_assessment_types)"
   ]
  },
  {
   "cell_type": "code",
   "execution_count": null,
   "metadata": {},
   "outputs": [],
   "source": [
    "# Get Count for each 'Research Assessment'\n",
    "\n",
    "research_assessment_count = []\n",
    "\n",
    "for issue_type in research_assessment_types:\n",
    "    count = df_incident.loc[df_incident[\"u_research_assessment\"] == issue_type].shape[0]\n",
    "    research_assessment_count.append(count)\n",
    "\n",
    "    print(f\"issue_type: {issue_type} - {count}\")\n",
    "\n",
    "print(research_assessment_count)"
   ]
  },
  {
   "cell_type": "code",
   "execution_count": null,
   "metadata": {},
   "outputs": [],
   "source": [
    "# Create DataFrame for Research Assessment Count\n",
    "df_research_assessment = pd.DataFrame({\n",
    "    \"Research Assessment\": research_assessment_types,\n",
    "    \"Count\": research_assessment_count\n",
    "})\n",
    "\n",
    "df_research_assessment = df_research_assessment.sort_values('Count', ascending=False)\n",
    "\n",
    "df_research_assessment"
   ]
  },
  {
   "cell_type": "code",
   "execution_count": null,
   "metadata": {},
   "outputs": [],
   "source": [
    "# Make Bar Chart for df_research_assessment\n",
    "fig = px.bar(df_research_assessment, x=\"Research Assessment\", y=\"\", barmode=\"group\", text_auto=True)"
   ]
  },
  {
   "cell_type": "markdown",
   "metadata": {},
   "source": [
    "CARD"
   ]
  },
  {
   "cell_type": "code",
   "execution_count": null,
   "metadata": {},
   "outputs": [],
   "source": [
    "first_card = dbc.Card(\n",
    "    dbc.CardBody(\n",
    "        [\n",
    "            html.H5(\"Incident Tickets (Opened)- Current Month\", className=\"card-title\", style={'font-size': '1.5rem'}),\n",
    "            html.P(currmonth_opened_ticket, style={'font-size': '5rem', 'font-weight': 'bold'}),\n",
    "        ]\n",
    "    )\n",
    ")\n",
    "\n",
    "second_card = dbc.Card(\n",
    "    dbc.CardBody(\n",
    "        [\n",
    "            html.H5(\"Incident Tickets(Resolved) - Current Month\", className=\"card-title\", style={'font-size': '1.5rem'}),\n",
    "            html.P(currmonth_resolved_ticket, style={'font-size': '5rem', 'font-weight': 'bold'}),\n",
    "        ]\n",
    "    )\n",
    ")\n",
    "\n",
    "third_card = dbc.Card(\n",
    "    dbc.CardBody(\n",
    "        [\n",
    "            html.H5(\"Incident Volume - Closed\", className=\"card-title\", style={'font-size': '1.5rem'}),\n",
    "            html.P(total_closed_count, style={'font-size': '5rem', 'font-weight': 'bold'}),\n",
    "        ]\n",
    "    )\n",
    ")\n",
    "\n",
    "fourth_card = dbc.Card(\n",
    "    dbc.CardBody(\n",
    "        [\n",
    "            html.H5(\"Incident Volume - Resolved - Current Month\", className=\"card-title\", style={'font-size': '1.5rem'}),\n",
    "            html.P(total_resolved_count, style={'font-size': '5rem', 'font-weight': 'bold'}),\n",
    "        ]\n",
    "    )\n",
    "),\n",
    "\n",
    "cards = dbc.Row(\n",
    "    [\n",
    "        dbc.Col(first_card, width = 3),\n",
    "        dbc.Col(second_card, width = 3),\n",
    "        dbc.Col(third_card, width = 3),\n",
    "        dbc.Col(fourth_card, width = 3),\n",
    "    ]\n",
    ")"
   ]
  },
  {
   "cell_type": "markdown",
   "metadata": {},
   "source": [
    "AP Incident Tickets Opened and Resolved"
   ]
  },
  {
   "cell_type": "code",
   "execution_count": null,
   "metadata": {},
   "outputs": [],
   "source": [
    "# Get distinct values of Year-Month from all data and store in a list\n",
    "\n",
    "selected_year = '2022'\n",
    "\n",
    "initial_year_month_list = df_incident['opened_at'].dt.strftime('%Y-%m').unique().tolist()\n",
    "year_month_list = []\n",
    "\n",
    "for x in initial_year_month_list:\n",
    "    if selected_year in x:\n",
    "        year_month_list.append(x)\n",
    "\n",
    "print(year_month_list)\n",
    "\n",
    "# Get available month names for selected year\n",
    "get_month_names = df_incident.loc[df_incident[]]"
   ]
  },
  {
   "cell_type": "code",
   "execution_count": null,
   "metadata": {},
   "outputs": [],
   "source": [
    "year_month_count_opened = []\n",
    "\n",
    "for get_curr_year_month in year_month_list:\n",
    "\n",
    "    get_curr_month = get_curr_year_month.split('-')[1]\n",
    "    get_curr_year = get_curr_year_month.split('-')[0]\n",
    "    get_next_month = int(get_curr_month) + 1\n",
    "    get_next_year = int(get_curr_year) + 1\n",
    "\n",
    "    if get_next_month > 12:\n",
    "        \n",
    "        get_next_month = 1;\n",
    "        get_next_year_month = get_curr_year_month.replace(str(f\"-{get_curr_month}\"), str(f\"-{get_next_month}\"))\n",
    "        get_next_year_month = get_next_year_month.replace(str(get_curr_year), str(get_next_year))\n",
    "\n",
    "        count = df_incident.loc[(df_incident['opened_at'] < f\"{get_next_year_month}-01\") & \n",
    "                                (df_incident['opened_at'] >= f\"{get_curr_year_month}-01\")]\n",
    "\n",
    "        year_month_count_opened.append(count.shape[0])\n",
    "    else:\n",
    "        get_next_year_month = get_curr_year_month.replace(str(f\"-{get_curr_month}\"), str(f\"-{get_next_month}\"))\n",
    "\n",
    "        count = df_incident.loc[(df_incident['opened_at'] < f\"{get_next_year_month}-01\") & \n",
    "                                (df_incident['opened_at'] >= f\"{get_curr_year_month}-01\")]\n",
    "\n",
    "        year_month_count_opened.append(count.shape[0])\n",
    "\n",
    "print(year_month_count_opened)"
   ]
  },
  {
   "cell_type": "code",
   "execution_count": null,
   "metadata": {},
   "outputs": [],
   "source": [
    "# Get Resolved Ticket Count for each Year-Month\n",
    "year_month_count_resolved = []\n",
    "\n",
    "for get_curr_year_month in year_month_list:\n",
    "\n",
    "    get_curr_month = get_curr_year_month.split('-')[1]\n",
    "    get_curr_year = get_curr_year_month.split('-')[0]\n",
    "    get_next_month = int(get_curr_month) + 1\n",
    "    get_next_year = int(get_curr_year) + 1\n",
    "\n",
    "    if get_next_month > 12:\n",
    "        \n",
    "        get_next_month = 1;\n",
    "        get_next_year_month = get_curr_year_month.replace(str(f\"-{get_curr_month}\"), str(f\"-{get_next_month}\"))\n",
    "        get_next_year_month = get_next_year_month.replace(str(get_curr_year), str(get_next_year))\n",
    "\n",
    "        count = df_incident.loc[(df_incident['resolved_at'] < f\"{get_next_year_month}-01\") & \n",
    "                                (df_incident['resolved_at'] >= f\"{get_curr_year_month}-01\")]\n",
    "\n",
    "        year_month_count_resolved.append(count.shape[0])\n",
    "    else:\n",
    "        get_next_year_month = get_curr_year_month.replace(str(f\"-{get_curr_month}\"), str(f\"-{get_next_month}\"))\n",
    "\n",
    "        count = df_incident.loc[(df_incident['resolved_at'] < f\"{get_next_year_month}-01\") & \n",
    "                                (df_incident['resolved_at'] >= f\"{get_curr_year_month}-01\")]\n",
    "\n",
    "        year_month_count_resolved.append(count.shape[0])\n",
    "\n",
    "print(year_month_count_resolved)"
   ]
  },
  {
   "cell_type": "code",
   "execution_count": null,
   "metadata": {},
   "outputs": [],
   "source": []
  },
  {
   "cell_type": "code",
   "execution_count": null,
   "metadata": {},
   "outputs": [],
   "source": [
    "app = JupyterDash(__name__, external_stylesheets=[dbc.themes.MATERIA])\n",
    "\n",
    "# Create server variable with Flask server object for use with gunicorn\n",
    "server = app.server\n",
    "\n",
    "# Construct App Layout\n",
    "app.layout = dbc.Container(\n",
    "    [\n",
    "        dcc.Graph(\n",
    "            id='example-graph',\n",
    "            figure=fig\n",
    "        ),\n",
    "        dcc.Graph(\n",
    "            id='example-graph-2',\n",
    "            figure=fig2\n",
    "        ),\n",
    "    ]\n",
    ")\n",
    "\n",
    "app.run_server()"
   ]
  },
  {
   "cell_type": "code",
   "execution_count": null,
   "metadata": {},
   "outputs": [],
   "source": []
  }
 ],
 "metadata": {
  "kernelspec": {
   "display_name": "Python 3.10.4 64-bit",
   "language": "python",
   "name": "python3"
  },
  "language_info": {
   "codemirror_mode": {
    "name": "ipython",
    "version": 3
   },
   "file_extension": ".py",
   "mimetype": "text/x-python",
   "name": "python",
   "nbconvert_exporter": "python",
   "pygments_lexer": "ipython3",
   "version": "3.10.4"
  },
  "orig_nbformat": 4,
  "vscode": {
   "interpreter": {
    "hash": "b769e006912ec37d22d70e5a86561f700ac3296e9c585175429d129c45e25b86"
   }
  }
 },
 "nbformat": 4,
 "nbformat_minor": 2
}
