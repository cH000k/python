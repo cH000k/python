{
 "cells": [
  {
   "cell_type": "code",
   "execution_count": 1,
   "metadata": {},
   "outputs": [],
   "source": [
    "import dash\n",
    "# import dash_core_components as dcc\n",
    "from dash import dcc\n",
    "# import dash_html_components as html\n",
    "from dash import html\n",
    "import dash_bootstrap_components as dbc"
   ]
  },
  {
   "cell_type": "code",
   "execution_count": 2,
   "metadata": {},
   "outputs": [],
   "source": [
    "import pandas as pd\n",
    "import plotly.express as px\n",
    "import plotly.graph_objects as go\n",
    "from datetime import date"
   ]
  },
  {
   "cell_type": "code",
   "execution_count": 3,
   "metadata": {},
   "outputs": [],
   "source": [
    "from jupyter_dash import JupyterDash\n",
    "app = JupyterDash(__name__, external_stylesheets=[dbc.themes.MATERIA])"
   ]
  },
  {
   "cell_type": "markdown",
   "metadata": {},
   "source": [
    "INCIDENT TICKETS"
   ]
  },
  {
   "cell_type": "code",
   "execution_count": 4,
   "metadata": {},
   "outputs": [
    {
     "data": {
      "text/html": [
       "<div>\n",
       "<style scoped>\n",
       "    .dataframe tbody tr th:only-of-type {\n",
       "        vertical-align: middle;\n",
       "    }\n",
       "\n",
       "    .dataframe tbody tr th {\n",
       "        vertical-align: top;\n",
       "    }\n",
       "\n",
       "    .dataframe thead th {\n",
       "        text-align: right;\n",
       "    }\n",
       "</style>\n",
       "<table border=\"1\" class=\"dataframe\">\n",
       "  <thead>\n",
       "    <tr style=\"text-align: right;\">\n",
       "      <th></th>\n",
       "      <th>number</th>\n",
       "      <th>state</th>\n",
       "      <th>opened_at</th>\n",
       "      <th>resolved_at</th>\n",
       "      <th>closed_at</th>\n",
       "      <th>u_research_assessment</th>\n",
       "    </tr>\n",
       "  </thead>\n",
       "  <tbody>\n",
       "    <tr>\n",
       "      <th>0</th>\n",
       "      <td>INC1234567</td>\n",
       "      <td>In Progress</td>\n",
       "      <td>1/1/2023</td>\n",
       "      <td>NaN</td>\n",
       "      <td>NaN</td>\n",
       "      <td>Credential Issue</td>\n",
       "    </tr>\n",
       "    <tr>\n",
       "      <th>1</th>\n",
       "      <td>INC1234568</td>\n",
       "      <td>In Progress</td>\n",
       "      <td>1/2/2023</td>\n",
       "      <td>NaN</td>\n",
       "      <td>NaN</td>\n",
       "      <td>Data Issue</td>\n",
       "    </tr>\n",
       "    <tr>\n",
       "      <th>2</th>\n",
       "      <td>INC1234569</td>\n",
       "      <td>In Progress</td>\n",
       "      <td>1/3/2023</td>\n",
       "      <td>NaN</td>\n",
       "      <td>NaN</td>\n",
       "      <td>Login Issue</td>\n",
       "    </tr>\n",
       "    <tr>\n",
       "      <th>3</th>\n",
       "      <td>INC1234570</td>\n",
       "      <td>In Progress</td>\n",
       "      <td>1/4/2023</td>\n",
       "      <td>NaN</td>\n",
       "      <td>NaN</td>\n",
       "      <td>Product Issue</td>\n",
       "    </tr>\n",
       "    <tr>\n",
       "      <th>4</th>\n",
       "      <td>INC1234571</td>\n",
       "      <td>Resolved</td>\n",
       "      <td>1/5/2023</td>\n",
       "      <td>1/6/2023</td>\n",
       "      <td>NaN</td>\n",
       "      <td>System Issue</td>\n",
       "    </tr>\n",
       "  </tbody>\n",
       "</table>\n",
       "</div>"
      ],
      "text/plain": [
       "       number        state opened_at resolved_at closed_at  \\\n",
       "0  INC1234567  In Progress  1/1/2023         NaN       NaN   \n",
       "1  INC1234568  In Progress  1/2/2023         NaN       NaN   \n",
       "2  INC1234569  In Progress  1/3/2023         NaN       NaN   \n",
       "3  INC1234570  In Progress  1/4/2023         NaN       NaN   \n",
       "4  INC1234571     Resolved  1/5/2023    1/6/2023       NaN   \n",
       "\n",
       "  u_research_assessment  \n",
       "0      Credential Issue  \n",
       "1            Data Issue  \n",
       "2           Login Issue  \n",
       "3         Product Issue  \n",
       "4          System Issue  "
      ]
     },
     "execution_count": 4,
     "metadata": {},
     "output_type": "execute_result"
    }
   ],
   "source": [
    "# Create initial Dataframe\n",
    "df_incident = pd.read_csv('/Users/noel.c.joaquin/Desktop/INC_YTD_10282022 - Copy.csv')\n",
    "df_incident.head()"
   ]
  },
  {
   "cell_type": "code",
   "execution_count": 5,
   "metadata": {},
   "outputs": [
    {
     "data": {
      "text/html": [
       "<div>\n",
       "<style scoped>\n",
       "    .dataframe tbody tr th:only-of-type {\n",
       "        vertical-align: middle;\n",
       "    }\n",
       "\n",
       "    .dataframe tbody tr th {\n",
       "        vertical-align: top;\n",
       "    }\n",
       "\n",
       "    .dataframe thead th {\n",
       "        text-align: right;\n",
       "    }\n",
       "</style>\n",
       "<table border=\"1\" class=\"dataframe\">\n",
       "  <thead>\n",
       "    <tr style=\"text-align: right;\">\n",
       "      <th></th>\n",
       "      <th>number</th>\n",
       "      <th>state</th>\n",
       "      <th>opened_at</th>\n",
       "      <th>resolved_at</th>\n",
       "      <th>closed_at</th>\n",
       "      <th>u_research_assessment</th>\n",
       "    </tr>\n",
       "  </thead>\n",
       "  <tbody>\n",
       "    <tr>\n",
       "      <th>0</th>\n",
       "      <td>INC1234567</td>\n",
       "      <td>In Progress</td>\n",
       "      <td>1/1/2023</td>\n",
       "      <td>1/1/2200</td>\n",
       "      <td>1/1/2200</td>\n",
       "      <td>Credential Issue</td>\n",
       "    </tr>\n",
       "    <tr>\n",
       "      <th>1</th>\n",
       "      <td>INC1234568</td>\n",
       "      <td>In Progress</td>\n",
       "      <td>1/2/2023</td>\n",
       "      <td>1/1/2200</td>\n",
       "      <td>1/1/2200</td>\n",
       "      <td>Data Issue</td>\n",
       "    </tr>\n",
       "    <tr>\n",
       "      <th>2</th>\n",
       "      <td>INC1234569</td>\n",
       "      <td>In Progress</td>\n",
       "      <td>1/3/2023</td>\n",
       "      <td>1/1/2200</td>\n",
       "      <td>1/1/2200</td>\n",
       "      <td>Login Issue</td>\n",
       "    </tr>\n",
       "    <tr>\n",
       "      <th>3</th>\n",
       "      <td>INC1234570</td>\n",
       "      <td>In Progress</td>\n",
       "      <td>1/4/2023</td>\n",
       "      <td>1/1/2200</td>\n",
       "      <td>1/1/2200</td>\n",
       "      <td>Product Issue</td>\n",
       "    </tr>\n",
       "    <tr>\n",
       "      <th>4</th>\n",
       "      <td>INC1234571</td>\n",
       "      <td>Resolved</td>\n",
       "      <td>1/5/2023</td>\n",
       "      <td>1/6/2023</td>\n",
       "      <td>1/1/2200</td>\n",
       "      <td>System Issue</td>\n",
       "    </tr>\n",
       "  </tbody>\n",
       "</table>\n",
       "</div>"
      ],
      "text/plain": [
       "       number        state opened_at resolved_at closed_at  \\\n",
       "0  INC1234567  In Progress  1/1/2023    1/1/2200  1/1/2200   \n",
       "1  INC1234568  In Progress  1/2/2023    1/1/2200  1/1/2200   \n",
       "2  INC1234569  In Progress  1/3/2023    1/1/2200  1/1/2200   \n",
       "3  INC1234570  In Progress  1/4/2023    1/1/2200  1/1/2200   \n",
       "4  INC1234571     Resolved  1/5/2023    1/6/2023  1/1/2200   \n",
       "\n",
       "  u_research_assessment  \n",
       "0      Credential Issue  \n",
       "1            Data Issue  \n",
       "2           Login Issue  \n",
       "3         Product Issue  \n",
       "4          System Issue  "
      ]
     },
     "execution_count": 5,
     "metadata": {},
     "output_type": "execute_result"
    }
   ],
   "source": [
    "# Replace NaN values with '01-01-2200' \n",
    "df_incident['resolved_at'].fillna('1/1/2200', inplace=True)\n",
    "df_incident['closed_at'].fillna('1/1/2200', inplace=True)\n",
    "df_incident.head()"
   ]
  },
  {
   "cell_type": "code",
   "execution_count": 6,
   "metadata": {},
   "outputs": [],
   "source": [
    "# Save new Dataframe \n",
    "df_incident.to_csv('/Users/noel.c.joaquin/Desktop/Python/INC_YTD_10282022.csv', index=False)"
   ]
  },
  {
   "cell_type": "code",
   "execution_count": 7,
   "metadata": {},
   "outputs": [
    {
     "name": "stderr",
     "output_type": "stream",
     "text": [
      "C:\\Users\\noel.c.joaquin\\AppData\\Local\\Temp\\ipykernel_4512\\2387817310.py:2: FutureWarning: The pandas.datetime class is deprecated and will be removed from pandas in a future version. Import from datetime module instead.\n",
      "  d_parser = lambda x: pd.datetime.strptime(x, '%m/%d/%Y')\n",
      "C:\\Users\\noel.c.joaquin\\AppData\\Local\\Temp\\ipykernel_4512\\2387817310.py:2: FutureWarning: The pandas.datetime class is deprecated and will be removed from pandas in a future version. Import from datetime module instead.\n",
      "  d_parser = lambda x: pd.datetime.strptime(x, '%m/%d/%Y')\n",
      "C:\\Users\\noel.c.joaquin\\AppData\\Local\\Temp\\ipykernel_4512\\2387817310.py:2: FutureWarning: The pandas.datetime class is deprecated and will be removed from pandas in a future version. Import from datetime module instead.\n",
      "  d_parser = lambda x: pd.datetime.strptime(x, '%m/%d/%Y')\n"
     ]
    },
    {
     "data": {
      "text/html": [
       "<div>\n",
       "<style scoped>\n",
       "    .dataframe tbody tr th:only-of-type {\n",
       "        vertical-align: middle;\n",
       "    }\n",
       "\n",
       "    .dataframe tbody tr th {\n",
       "        vertical-align: top;\n",
       "    }\n",
       "\n",
       "    .dataframe thead th {\n",
       "        text-align: right;\n",
       "    }\n",
       "</style>\n",
       "<table border=\"1\" class=\"dataframe\">\n",
       "  <thead>\n",
       "    <tr style=\"text-align: right;\">\n",
       "      <th></th>\n",
       "      <th>number</th>\n",
       "      <th>state</th>\n",
       "      <th>opened_at</th>\n",
       "      <th>resolved_at</th>\n",
       "      <th>closed_at</th>\n",
       "      <th>u_research_assessment</th>\n",
       "    </tr>\n",
       "  </thead>\n",
       "  <tbody>\n",
       "    <tr>\n",
       "      <th>0</th>\n",
       "      <td>INC1234567</td>\n",
       "      <td>In Progress</td>\n",
       "      <td>2023-01-01</td>\n",
       "      <td>2200-01-01</td>\n",
       "      <td>2200-01-01</td>\n",
       "      <td>Credential Issue</td>\n",
       "    </tr>\n",
       "    <tr>\n",
       "      <th>1</th>\n",
       "      <td>INC1234568</td>\n",
       "      <td>In Progress</td>\n",
       "      <td>2023-01-02</td>\n",
       "      <td>2200-01-01</td>\n",
       "      <td>2200-01-01</td>\n",
       "      <td>Data Issue</td>\n",
       "    </tr>\n",
       "    <tr>\n",
       "      <th>2</th>\n",
       "      <td>INC1234569</td>\n",
       "      <td>In Progress</td>\n",
       "      <td>2023-01-03</td>\n",
       "      <td>2200-01-01</td>\n",
       "      <td>2200-01-01</td>\n",
       "      <td>Login Issue</td>\n",
       "    </tr>\n",
       "    <tr>\n",
       "      <th>3</th>\n",
       "      <td>INC1234570</td>\n",
       "      <td>In Progress</td>\n",
       "      <td>2023-01-04</td>\n",
       "      <td>2200-01-01</td>\n",
       "      <td>2200-01-01</td>\n",
       "      <td>Product Issue</td>\n",
       "    </tr>\n",
       "    <tr>\n",
       "      <th>4</th>\n",
       "      <td>INC1234571</td>\n",
       "      <td>Resolved</td>\n",
       "      <td>2023-01-05</td>\n",
       "      <td>2023-01-06</td>\n",
       "      <td>2200-01-01</td>\n",
       "      <td>System Issue</td>\n",
       "    </tr>\n",
       "  </tbody>\n",
       "</table>\n",
       "</div>"
      ],
      "text/plain": [
       "       number        state  opened_at resolved_at  closed_at  \\\n",
       "0  INC1234567  In Progress 2023-01-01  2200-01-01 2200-01-01   \n",
       "1  INC1234568  In Progress 2023-01-02  2200-01-01 2200-01-01   \n",
       "2  INC1234569  In Progress 2023-01-03  2200-01-01 2200-01-01   \n",
       "3  INC1234570  In Progress 2023-01-04  2200-01-01 2200-01-01   \n",
       "4  INC1234571     Resolved 2023-01-05  2023-01-06 2200-01-01   \n",
       "\n",
       "  u_research_assessment  \n",
       "0      Credential Issue  \n",
       "1            Data Issue  \n",
       "2           Login Issue  \n",
       "3         Product Issue  \n",
       "4          System Issue  "
      ]
     },
     "execution_count": 7,
     "metadata": {},
     "output_type": "execute_result"
    }
   ],
   "source": [
    "# Recreate Dataframe and conver Date columns to Datetime format\n",
    "d_parser = lambda x: pd.datetime.strptime(x, '%m/%d/%Y')\n",
    "\n",
    "df_incident = pd.read_csv('/Users/noel.c.joaquin/Desktop/Python/INC_YTD_10282022.csv', parse_dates=['opened_at', 'closed_at', 'resolved_at'],\n",
    "                            date_parser = d_parser , encoding = 'unicode_escape')\n",
    "                            \n",
    "df_incident.head()"
   ]
  },
  {
   "cell_type": "markdown",
   "metadata": {},
   "source": [
    "Incident Tickets Opened - Current Month"
   ]
  },
  {
   "cell_type": "code",
   "execution_count": 18,
   "metadata": {},
   "outputs": [
    {
     "name": "stdout",
     "output_type": "stream",
     "text": [
      "0\n"
     ]
    }
   ],
   "source": [
    "# Get Number of Opened Tickets on Current Month\n",
    "\n",
    "# Get current date today and its corresponding first day of the same month\n",
    "month_date_today = date.today()\n",
    "split_month_date_today = str(month_date_today).split('-')\n",
    "month_first_day = str(month_date_today).replace(str(f\"-{split_month_date_today[-1]}\"), str(f\"-01\"))\n",
    "\n",
    "# date_filter_inc_currmonth = (df_incident['opened_at'] >= month_first_day)\n",
    "date_filter_inc_currmonth = (df_incident['opened_at'] >= month_first_day) & (df_incident['opened_at'] <= str(month_date_today))\n",
    "currmonth_opened_ticket = len(date_filter_inc_currmonth.loc[date_filter_inc_currmonth])\n",
    "\n",
    "print(currmonth_opened_ticket)"
   ]
  },
  {
   "cell_type": "markdown",
   "metadata": {},
   "source": [
    "Incident Tickets Opened - Current Year"
   ]
  },
  {
   "cell_type": "code",
   "execution_count": null,
   "metadata": {},
   "outputs": [],
   "source": [
    "# Get Number of Opened Tickets on Current Year\n",
    "\n",
    "year_first_day = month_first_day.replace(str(f\"-{split_month_date_today[1]}\"), str(f\"-01\"))\n",
    "\n",
    "curryear_opened_ticket = df_incident.loc[df_incident['opened_at'] >= year_first_day].shape[0]\n",
    "\n",
    "print(curryear_opened_ticket)"
   ]
  },
  {
   "cell_type": "markdown",
   "metadata": {},
   "source": [
    "Incident Tickets Opened - YTD"
   ]
  },
  {
   "cell_type": "code",
   "execution_count": null,
   "metadata": {},
   "outputs": [],
   "source": [
    "# Get Ticket Opened Count YTD\n",
    "ytd_opened_ticket = df_incident.shape[0]\n",
    "\n",
    "print(ytd_opened_ticket)"
   ]
  },
  {
   "cell_type": "markdown",
   "metadata": {},
   "source": [
    "Incident Tickets Resolved - Current Month"
   ]
  },
  {
   "cell_type": "code",
   "execution_count": null,
   "metadata": {},
   "outputs": [],
   "source": [
    "# Get Number of Resovled Tickets on Current Month\n",
    "date_filter_inc_currmonth = (df_incident['resolved_at'] >= month_first_day) & (df_incident['resolved_at'] != '2200-01-01')\n",
    "\n",
    "currmonth_resolved_ticket = len(date_filter_inc_currmonth.loc[date_filter_inc_currmonth])\n",
    "\n",
    "print(currmonth_resolved_ticket)"
   ]
  },
  {
   "cell_type": "markdown",
   "metadata": {},
   "source": [
    "Incident Tickets Resolved - Current Year"
   ]
  },
  {
   "cell_type": "code",
   "execution_count": null,
   "metadata": {},
   "outputs": [],
   "source": [
    "# Get Number of Resolved Tickets on Current Year\n",
    "\n",
    "year_first_month = month_first_day.replace(str(f\"-{split_month_date_today[1]}\"), str(f\"-01\"))\n",
    "date_filter_inc_curryear = (df_incident['resolved_at'] >= year_first_month) & (df_incident['resolved_at'] != '2200-01-01')\n",
    "\n",
    "curryear_resolved_ticket = len(date_filter_inc_curryear.loc[date_filter_inc_curryear])\n",
    "\n",
    "print(curryear_resolved_ticket)"
   ]
  },
  {
   "cell_type": "markdown",
   "metadata": {},
   "source": [
    "Incident Tickets Resolved - YTD"
   ]
  },
  {
   "cell_type": "code",
   "execution_count": null,
   "metadata": {},
   "outputs": [],
   "source": [
    "# Get Ticket Resolved Count - YTD\n",
    "total_closed_count = df_incident.loc[df_incident['state'] == 'Closed'].shape[0]\n",
    "total_resolved_count = df_incident.loc[df_incident['state'] == 'Resolved'].shape[0]\n",
    "total_closed_resolved_count = total_closed_count + total_resolved_count\n",
    "\n",
    "print(f\"total_closed_resolved_count: {total_closed_resolved_count}\")"
   ]
  },
  {
   "cell_type": "markdown",
   "metadata": {},
   "source": [
    "Volume of Incidents by Issue Type"
   ]
  },
  {
   "cell_type": "code",
   "execution_count": null,
   "metadata": {},
   "outputs": [],
   "source": [
    "# Get all 'Research Assessment' types\n",
    "research_assessment_types = df_incident[\"u_research_assessment\"].unique().tolist()\n",
    "\n",
    "print(research_assessment_types)"
   ]
  },
  {
   "cell_type": "code",
   "execution_count": null,
   "metadata": {},
   "outputs": [],
   "source": [
    "# Get Count for each 'Research Assessment'\n",
    "\n",
    "research_assessment_count = []\n",
    "\n",
    "for issue_type in research_assessment_types:\n",
    "    count = df_incident.loc[df_incident[\"u_research_assessment\"] == issue_type].shape[0]\n",
    "    research_assessment_count.append(count)\n",
    "\n",
    "    print(f\"issue_type: {issue_type} - {count}\")\n",
    "\n",
    "print(research_assessment_count)"
   ]
  },
  {
   "cell_type": "code",
   "execution_count": null,
   "metadata": {},
   "outputs": [],
   "source": [
    "# Create DataFrame for Research Assessment Count\n",
    "df_research_assessment = pd.DataFrame({\n",
    "    \"Research Assessment\": research_assessment_types,\n",
    "    \"Count\": research_assessment_count\n",
    "})\n",
    "\n",
    "df_research_assessment = df_research_assessment.sort_values('Count', ascending=False)\n",
    "\n",
    "df_research_assessment"
   ]
  },
  {
   "cell_type": "code",
   "execution_count": null,
   "metadata": {},
   "outputs": [],
   "source": [
    "# Make Bar Chart for df_research_assessment\n",
    "fig = px.bar(df_research_assessment, x=\"Research Assessment\", y=\"\", barmode=\"group\", text_auto=True)"
   ]
  },
  {
   "cell_type": "markdown",
   "metadata": {},
   "source": [
    "CARD"
   ]
  },
  {
   "cell_type": "code",
   "execution_count": null,
   "metadata": {},
   "outputs": [],
   "source": [
    "first_card = dbc.Card(\n",
    "    dbc.CardBody(\n",
    "        [\n",
    "            html.H5(\"Incident Tickets (Opened)- Current Month\", className=\"card-title\", style={'font-size': '1.5rem'}),\n",
    "            html.P(currmonth_opened_ticket, style={'font-size': '5rem', 'font-weight': 'bold'}),\n",
    "        ]\n",
    "    )\n",
    ")\n",
    "\n",
    "second_card = dbc.Card(\n",
    "    dbc.CardBody(\n",
    "        [\n",
    "            html.H5(\"Incident Tickets(Resolved) - Current Month\", className=\"card-title\", style={'font-size': '1.5rem'}),\n",
    "            html.P(currmonth_resolved_ticket, style={'font-size': '5rem', 'font-weight': 'bold'}),\n",
    "        ]\n",
    "    )\n",
    ")\n",
    "\n",
    "third_card = dbc.Card(\n",
    "    dbc.CardBody(\n",
    "        [\n",
    "            html.H5(\"Incident Volume - Closed\", className=\"card-title\", style={'font-size': '1.5rem'}),\n",
    "            html.P(total_closed_count, style={'font-size': '5rem', 'font-weight': 'bold'}),\n",
    "        ]\n",
    "    )\n",
    ")\n",
    "\n",
    "fourth_card = dbc.Card(\n",
    "    dbc.CardBody(\n",
    "        [\n",
    "            html.H5(\"Incident Volume - Resolved - Current Month\", className=\"card-title\", style={'font-size': '1.5rem'}),\n",
    "            html.P(total_resolved_count, style={'font-size': '5rem', 'font-weight': 'bold'}),\n",
    "        ]\n",
    "    )\n",
    "),\n",
    "\n",
    "cards = dbc.Row(\n",
    "    [\n",
    "        dbc.Col(first_card, width = 3),\n",
    "        dbc.Col(second_card, width = 3),\n",
    "        dbc.Col(third_card, width = 3),\n",
    "        dbc.Col(fourth_card, width = 3),\n",
    "    ]\n",
    ")"
   ]
  },
  {
   "cell_type": "markdown",
   "metadata": {},
   "source": [
    "AP Incident Tickets Opened and Resolved"
   ]
  },
  {
   "cell_type": "code",
   "execution_count": null,
   "metadata": {},
   "outputs": [],
   "source": [
    "# Get distinct values of Year-Month from all data and store in a list\n",
    "\n",
    "selected_year = '2022'\n",
    "\n",
    "initial_year_month_list = df_incident['opened_at'].dt.strftime('%Y-%m').unique().tolist()\n",
    "year_month_list = []\n",
    "\n",
    "for x in initial_year_month_list:\n",
    "    if selected_year in x:\n",
    "        year_month_list.append(x)\n",
    "\n",
    "print(year_month_list)\n",
    "\n",
    "# Get available month names for selected year\n",
    "get_month_names = df_incident.loc[df_incident[]]"
   ]
  },
  {
   "cell_type": "code",
   "execution_count": null,
   "metadata": {},
   "outputs": [],
   "source": [
    "year_month_count_opened = []\n",
    "\n",
    "for get_curr_year_month in year_month_list:\n",
    "\n",
    "    get_curr_month = get_curr_year_month.split('-')[1]\n",
    "    get_curr_year = get_curr_year_month.split('-')[0]\n",
    "    get_next_month = int(get_curr_month) + 1\n",
    "    get_next_year = int(get_curr_year) + 1\n",
    "\n",
    "    if get_next_month > 12:\n",
    "        \n",
    "        get_next_month = 1;\n",
    "        get_next_year_month = get_curr_year_month.replace(str(f\"-{get_curr_month}\"), str(f\"-{get_next_month}\"))\n",
    "        get_next_year_month = get_next_year_month.replace(str(get_curr_year), str(get_next_year))\n",
    "\n",
    "        count = df_incident.loc[(df_incident['opened_at'] < f\"{get_next_year_month}-01\") & \n",
    "                                (df_incident['opened_at'] >= f\"{get_curr_year_month}-01\")]\n",
    "\n",
    "        year_month_count_opened.append(count.shape[0])\n",
    "    else:\n",
    "        get_next_year_month = get_curr_year_month.replace(str(f\"-{get_curr_month}\"), str(f\"-{get_next_month}\"))\n",
    "\n",
    "        count = df_incident.loc[(df_incident['opened_at'] < f\"{get_next_year_month}-01\") & \n",
    "                                (df_incident['opened_at'] >= f\"{get_curr_year_month}-01\")]\n",
    "\n",
    "        year_month_count_opened.append(count.shape[0])\n",
    "\n",
    "print(year_month_count_opened)"
   ]
  },
  {
   "cell_type": "code",
   "execution_count": null,
   "metadata": {},
   "outputs": [],
   "source": [
    "# Get Resolved Ticket Count for each Year-Month\n",
    "year_month_count_resolved = []\n",
    "\n",
    "for get_curr_year_month in year_month_list:\n",
    "\n",
    "    get_curr_month = get_curr_year_month.split('-')[1]\n",
    "    get_curr_year = get_curr_year_month.split('-')[0]\n",
    "    get_next_month = int(get_curr_month) + 1\n",
    "    get_next_year = int(get_curr_year) + 1\n",
    "\n",
    "    if get_next_month > 12:\n",
    "        \n",
    "        get_next_month = 1;\n",
    "        get_next_year_month = get_curr_year_month.replace(str(f\"-{get_curr_month}\"), str(f\"-{get_next_month}\"))\n",
    "        get_next_year_month = get_next_year_month.replace(str(get_curr_year), str(get_next_year))\n",
    "\n",
    "        count = df_incident.loc[(df_incident['resolved_at'] < f\"{get_next_year_month}-01\") & \n",
    "                                (df_incident['resolved_at'] >= f\"{get_curr_year_month}-01\")]\n",
    "\n",
    "        year_month_count_resolved.append(count.shape[0])\n",
    "    else:\n",
    "        get_next_year_month = get_curr_year_month.replace(str(f\"-{get_curr_month}\"), str(f\"-{get_next_month}\"))\n",
    "\n",
    "        count = df_incident.loc[(df_incident['resolved_at'] < f\"{get_next_year_month}-01\") & \n",
    "                                (df_incident['resolved_at'] >= f\"{get_curr_year_month}-01\")]\n",
    "\n",
    "        year_month_count_resolved.append(count.shape[0])\n",
    "\n",
    "print(year_month_count_resolved)"
   ]
  },
  {
   "cell_type": "code",
   "execution_count": null,
   "metadata": {},
   "outputs": [],
   "source": [
    "# Create DataFrame for 'opened_at' column based on 'year_month_list' and 'year_month_count'\n",
    "df_inc_open_and_close = pd.DataFrame({\n",
    "    \"month_year\": year_month_list,\n",
    "    \"count_open\": year_month_count_opened,\n",
    "    \"count_resolved\": year_month_count_resolved\n",
    "})\n",
    "\n",
    "df_inc_open_and_close"
   ]
  },
  {
   "cell_type": "code",
   "execution_count": null,
   "metadata": {},
   "outputs": [],
   "source": [
    "# Create figure for 'df_inc_open_and_close'\n",
    "colors = px.colors.qualitative.Set3\n",
    "\n",
    "fig2 = go.Figure(data=[\n",
    "    go.Bar(name='Opened', x=get_month_names, y=year_month_count_opened, text=year_month_count_opened, marker=dict(color=colors[4])),\n",
    "    go.Bar(name='Resolved', x=get_month_names, y=year_month_count_resolved, text=year_month_count_resolved, marker=dict(color=colors[3])),\n",
    "])"
   ]
  },
  {
   "cell_type": "markdown",
   "metadata": {},
   "source": [
    "TASK TICKETS"
   ]
  },
  {
   "cell_type": "code",
   "execution_count": null,
   "metadata": {},
   "outputs": [],
   "source": [
    "# Create SCTASK DataFrame\n",
    "\n",
    "d_parser = lambda x: pd.datetime.strptime(x, '%m-%d-%Y %H:%M:%S')\n",
    "\n",
    "df_task = pd.read_csv('incident_copy.csv', parse_dates=['opened_at', 'closed_at'], date_parser = d_parser, encoding='unicord_escape')"
   ]
  },
  {
   "cell_type": "code",
   "execution_count": null,
   "metadata": {},
   "outputs": [],
   "source": [
    "# Get Opened Task Count for each Year-opened_task = []\n",
    "\n",
    "for get_curr_year_month in year_month_list:\n",
    "\n",
    "    get_curr_month = get_curr_year_month.split('-')[1]\n",
    "    get_curr_year = get_curr_year_month.split('-')[0]\n",
    "    get_next_month = int(get_curr_month) + 1\n",
    "    get_next_year = int(get_curr_year) + 1\n",
    "\n",
    "    if get_next_month > 12:\n",
    "        \n",
    "        get_next_month = 1;\n",
    "        get_next_year_month = get_curr_year_month.replace(str(f\"-{get_curr_month}\"), str(f\"-{get_next_month}\"))\n",
    "        get_next_year_month = get_next_year_month.replace(str(get_curr_year), str(get_next_year))\n",
    "\n",
    "        count = df_incident.loc[(df_incident['opened_at'] < f\"{get_next_year_month}-01\") & \n",
    "                                (df_incident['opened_at'] >= f\"{get_curr_year_month}-01\")]\n",
    "\n",
    "        year_month_count_opened_task.append(count.shape[0])\n",
    "    else:\n",
    "        get_next_year_month = get_curr_year_month.replace(str(f\"-{get_curr_month}\"), str(f\"-{get_next_month}\"))\n",
    "\n",
    "        count = df_incident.loc[(df_incident['opened_at'] < f\"{get_next_year_month}-01\") & \n",
    "                                (df_incident['opened_at'] >= f\"{get_curr_year_month}-01\")]\n",
    "\n",
    "        year_month_count_opened_task.append(count.shape[0])\n",
    "\n",
    "print(year_month_count_opened_task)"
   ]
  },
  {
   "cell_type": "code",
   "execution_count": null,
   "metadata": {},
   "outputs": [],
   "source": [
    "# Create DataFrame\n",
    "df_inc_and_task_open = pd.DataFrame({\n",
    "    \"month_year\": year_month_list,\n",
    "    \"count_open_inc\": year_month_count_opened,\n",
    "    \"count_open_task\": year_month_count_opened_task\n",
    "})\n",
    "\n",
    "print(df_inc_and_task_open)"
   ]
  },
  {
   "cell_type": "code",
   "execution_count": null,
   "metadata": {},
   "outputs": [],
   "source": [
    "# Create figure for 'df_inc_and_task_open'\n",
    "colors = px.colors.qualitative.Set3\n",
    "\n",
    "fig3 = go.Figure(data=[\n",
    "    go.Bar(name='Opened', x=get_month_names, y=year_month_count_opened, text=year_month_count_opened, marker=dict(color=colors[4])),\n",
    "    go.Bar(name='Resolved', x=get_month_names, y=year_month_count_opened_task, text=year_month_count_opened_task, marker=dict(color=colors[3])),\n",
    "])"
   ]
  },
  {
   "cell_type": "code",
   "execution_count": null,
   "metadata": {},
   "outputs": [],
   "source": [
    "# Create server variable with Flask server object for use with gunicorn\n",
    "server = app.server\n",
    "\n",
    "# Construct App Layout\n",
    "app.layout = dbc.Container([\n",
    "    \n",
    "])\n",
    "\n",
    "app.run_server()"
   ]
  },
  {
   "cell_type": "code",
   "execution_count": null,
   "metadata": {},
   "outputs": [],
   "source": []
  }
 ],
 "metadata": {
  "kernelspec": {
   "display_name": "Python 3.10.4 64-bit",
   "language": "python",
   "name": "python3"
  },
  "language_info": {
   "codemirror_mode": {
    "name": "ipython",
    "version": 3
   },
   "file_extension": ".py",
   "mimetype": "text/x-python",
   "name": "python",
   "nbconvert_exporter": "python",
   "pygments_lexer": "ipython3",
   "version": "3.10.4"
  },
  "orig_nbformat": 4,
  "vscode": {
   "interpreter": {
    "hash": "b769e006912ec37d22d70e5a86561f700ac3296e9c585175429d129c45e25b86"
   }
  }
 },
 "nbformat": 4,
 "nbformat_minor": 2
}
