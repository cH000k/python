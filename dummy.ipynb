{
 "cells": [
  {
   "cell_type": "code",
   "execution_count": 1,
   "metadata": {},
   "outputs": [],
   "source": [
    "import pandas as pd\n",
    "from datetime import date\n",
    "import numpy as np"
   ]
  },
  {
   "cell_type": "code",
   "execution_count": 2,
   "metadata": {},
   "outputs": [
    {
     "data": {
      "text/html": [
       "<div>\n",
       "<style scoped>\n",
       "    .dataframe tbody tr th:only-of-type {\n",
       "        vertical-align: middle;\n",
       "    }\n",
       "\n",
       "    .dataframe tbody tr th {\n",
       "        vertical-align: top;\n",
       "    }\n",
       "\n",
       "    .dataframe thead th {\n",
       "        text-align: right;\n",
       "    }\n",
       "</style>\n",
       "<table border=\"1\" class=\"dataframe\">\n",
       "  <thead>\n",
       "    <tr style=\"text-align: right;\">\n",
       "      <th></th>\n",
       "      <th>number</th>\n",
       "      <th>opened_at</th>\n",
       "      <th>resolved_at</th>\n",
       "    </tr>\n",
       "  </thead>\n",
       "  <tbody>\n",
       "    <tr>\n",
       "      <th>0</th>\n",
       "      <td>INC1234567</td>\n",
       "      <td>1/2/2023</td>\n",
       "      <td>1/2/2023</td>\n",
       "    </tr>\n",
       "    <tr>\n",
       "      <th>1</th>\n",
       "      <td>INC1234568</td>\n",
       "      <td>1/3/2023</td>\n",
       "      <td>1/5/2023</td>\n",
       "    </tr>\n",
       "    <tr>\n",
       "      <th>2</th>\n",
       "      <td>INC1234569</td>\n",
       "      <td>1/4/2023</td>\n",
       "      <td>1/6/2023</td>\n",
       "    </tr>\n",
       "    <tr>\n",
       "      <th>3</th>\n",
       "      <td>INC1234570</td>\n",
       "      <td>1/5/2023</td>\n",
       "      <td>1/9/2023</td>\n",
       "    </tr>\n",
       "    <tr>\n",
       "      <th>4</th>\n",
       "      <td>INC1234571</td>\n",
       "      <td>1/6/2023</td>\n",
       "      <td>1/9/2023</td>\n",
       "    </tr>\n",
       "    <tr>\n",
       "      <th>5</th>\n",
       "      <td>INC1234572</td>\n",
       "      <td>1/9/2023</td>\n",
       "      <td>1/9/2023</td>\n",
       "    </tr>\n",
       "    <tr>\n",
       "      <th>6</th>\n",
       "      <td>INC1234573</td>\n",
       "      <td>1/10/2023</td>\n",
       "      <td>1/10/2023</td>\n",
       "    </tr>\n",
       "    <tr>\n",
       "      <th>7</th>\n",
       "      <td>INC1234574</td>\n",
       "      <td>1/11/2023</td>\n",
       "      <td>1/12/2023</td>\n",
       "    </tr>\n",
       "    <tr>\n",
       "      <th>8</th>\n",
       "      <td>INC1234575</td>\n",
       "      <td>1/12/2023</td>\n",
       "      <td>1/13/2023</td>\n",
       "    </tr>\n",
       "    <tr>\n",
       "      <th>9</th>\n",
       "      <td>INC1234576</td>\n",
       "      <td>1/13/2023</td>\n",
       "      <td>1/18/2023</td>\n",
       "    </tr>\n",
       "    <tr>\n",
       "      <th>10</th>\n",
       "      <td>INC1234577</td>\n",
       "      <td>1/16/2023</td>\n",
       "      <td>1/18/2023</td>\n",
       "    </tr>\n",
       "    <tr>\n",
       "      <th>11</th>\n",
       "      <td>INC1234578</td>\n",
       "      <td>1/17/2023</td>\n",
       "      <td>1/19/2023</td>\n",
       "    </tr>\n",
       "    <tr>\n",
       "      <th>12</th>\n",
       "      <td>INC1234579</td>\n",
       "      <td>1/18/2023</td>\n",
       "      <td>1/20/2023</td>\n",
       "    </tr>\n",
       "    <tr>\n",
       "      <th>13</th>\n",
       "      <td>INC1234580</td>\n",
       "      <td>1/19/2023</td>\n",
       "      <td>1/21/2023</td>\n",
       "    </tr>\n",
       "    <tr>\n",
       "      <th>14</th>\n",
       "      <td>INC1234581</td>\n",
       "      <td>1/20/2023</td>\n",
       "      <td>1/22/2023</td>\n",
       "    </tr>\n",
       "  </tbody>\n",
       "</table>\n",
       "</div>"
      ],
      "text/plain": [
       "        number  opened_at resolved_at\n",
       "0   INC1234567   1/2/2023    1/2/2023\n",
       "1   INC1234568   1/3/2023    1/5/2023\n",
       "2   INC1234569   1/4/2023    1/6/2023\n",
       "3   INC1234570   1/5/2023    1/9/2023\n",
       "4   INC1234571   1/6/2023    1/9/2023\n",
       "5   INC1234572   1/9/2023    1/9/2023\n",
       "6   INC1234573  1/10/2023   1/10/2023\n",
       "7   INC1234574  1/11/2023   1/12/2023\n",
       "8   INC1234575  1/12/2023   1/13/2023\n",
       "9   INC1234576  1/13/2023   1/18/2023\n",
       "10  INC1234577  1/16/2023   1/18/2023\n",
       "11  INC1234578  1/17/2023   1/19/2023\n",
       "12  INC1234579  1/18/2023   1/20/2023\n",
       "13  INC1234580  1/19/2023   1/21/2023\n",
       "14  INC1234581  1/20/2023   1/22/2023"
      ]
     },
     "execution_count": 2,
     "metadata": {},
     "output_type": "execute_result"
    }
   ],
   "source": [
    "df = pd.read_csv('C:\\\\Users\\\\noel.c.joaquin\\\\Desktop\\\\dummy_data.csv')\n",
    "df_copy = df\n",
    "df_copy"
   ]
  },
  {
   "cell_type": "code",
   "execution_count": null,
   "metadata": {},
   "outputs": [],
   "source": [
    "df_copy['date_diff'] = df_copy['resolved_at'] - df_copy['opened_at']\n",
    "df_copy"
   ]
  },
  {
   "cell_type": "code",
   "execution_count": 4,
   "metadata": {},
   "outputs": [
    {
     "name": "stdout",
     "output_type": "stream",
     "text": [
      "Number of business days is: 5\n",
      "start: 2023-01-23\n"
     ]
    }
   ],
   "source": [
    "import datetime\n",
    "start = datetime.date(2023, 1, 23)\n",
    "end = datetime.date(2023, 1, 30)\n",
    "\n",
    "days = np.busday_count(start, end)\n",
    "print('Number of business days is:', days)\n",
    "print(f'start: {start}')"
   ]
  },
  {
   "cell_type": "code",
   "execution_count": null,
   "metadata": {},
   "outputs": [],
   "source": [
    "# https://pynative.com/python-get-business-days/"
   ]
  }
 ],
 "metadata": {
  "kernelspec": {
   "display_name": "Python 3",
   "language": "python",
   "name": "python3"
  },
  "language_info": {
   "codemirror_mode": {
    "name": "ipython",
    "version": 3
   },
   "file_extension": ".py",
   "mimetype": "text/x-python",
   "name": "python",
   "nbconvert_exporter": "python",
   "pygments_lexer": "ipython3",
   "version": "3.10.4"
  },
  "orig_nbformat": 4,
  "vscode": {
   "interpreter": {
    "hash": "b769e006912ec37d22d70e5a86561f700ac3296e9c585175429d129c45e25b86"
   }
  }
 },
 "nbformat": 4,
 "nbformat_minor": 2
}
