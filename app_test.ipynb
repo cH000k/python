{
 "cells": [
  {
   "cell_type": "code",
   "execution_count": null,
   "metadata": {},
   "outputs": [],
   "source": [
    "import dash\n",
    "# import dash_core_components as dcc\n",
    "from dash import dcc\n",
    "# import dash_html_components as html\n",
    "from dash import html\n",
    "import dash_bootstrap_components as dbc"
   ]
  },
  {
   "cell_type": "code",
   "execution_count": null,
   "metadata": {},
   "outputs": [],
   "source": [
    "import pandas as pd\n",
    "import plotly.express as px\n",
    "import plotly.graph_objects as go\n",
    "from datetime import date"
   ]
  },
  {
   "cell_type": "code",
   "execution_count": null,
   "metadata": {},
   "outputs": [],
   "source": [
    "from jupyter_dash import JupyterDash\n",
    "from dash.dependencies import Input, Output\n",
    "app = JupyterDash(__name__, external_stylesheets=[dbc.themes.MATERIA])"
   ]
  },
  {
   "cell_type": "markdown",
   "metadata": {},
   "source": [
    "IMPORT INCIDENT TICKETS"
   ]
  },
  {
   "cell_type": "code",
   "execution_count": null,
   "metadata": {},
   "outputs": [],
   "source": [
    "# Create initial Dataframe\n",
    "df_incident = pd.read_csv('/Users/noel.c.joaquin/Desktop/BASE_DATA/INC_YTD_nov2022.csv')\n",
    "# df_incident.info()"
   ]
  },
  {
   "cell_type": "code",
   "execution_count": null,
   "metadata": {},
   "outputs": [],
   "source": [
    "# Replace NaN values with '01-01-2200' \n",
    "df_incident['resolved_at'].fillna('01/01/2200', inplace=True)\n",
    "df_incident['closed_at'].fillna('01/01/2200', inplace=True)\n",
    "# df_incident.info()"
   ]
  },
  {
   "cell_type": "code",
   "execution_count": null,
   "metadata": {},
   "outputs": [],
   "source": [
    "# Save new Dataframe \n",
    "df_incident.to_csv('/Users/noel.c.joaquin/Desktop/Python/INC_YTD_nov2022.csv', index=False)"
   ]
  },
  {
   "cell_type": "code",
   "execution_count": null,
   "metadata": {},
   "outputs": [],
   "source": [
    "# Recreate Dataframe and conver Date columns to Datetime format\n",
    "d_parser = lambda x: pd.datetime.strptime(x, '%m/%d/%Y')\n",
    "\n",
    "df_incident = pd.read_csv('/Users/noel.c.joaquin/Desktop/Python/INC_YTD_nov2022.csv', parse_dates=['opened_at', 'closed_at', 'resolved_at'],\n",
    "                            date_parser = d_parser , encoding = 'unicode_escape')\n",
    "                            \n",
    "# df_incident.head()"
   ]
  },
  {
   "cell_type": "markdown",
   "metadata": {},
   "source": [
    "IMPORT TASK TICKETS"
   ]
  },
  {
   "cell_type": "code",
   "execution_count": null,
   "metadata": {},
   "outputs": [],
   "source": [
    "# Create initial Dataframe\n",
    "df_task = pd.read_csv('/Users/noel.c.joaquin/Desktop/BASE_DATA/TASK_YTD_nov2022.csv')\n",
    "df_task.info()"
   ]
  },
  {
   "cell_type": "code",
   "execution_count": null,
   "metadata": {},
   "outputs": [],
   "source": [
    "# Fill any null values\n",
    "df_task['closed_at'].fillna('01/01/2200', inplace=True)\n",
    "# df_task.info()"
   ]
  },
  {
   "cell_type": "code",
   "execution_count": null,
   "metadata": {},
   "outputs": [],
   "source": [
    "# Save new Dataframe \n",
    "df_task.to_csv('/Users/noel.c.joaquin/Desktop/Python/TASK_YTD_nov2022.csv', index=False)"
   ]
  },
  {
   "cell_type": "code",
   "execution_count": null,
   "metadata": {},
   "outputs": [],
   "source": [
    "# Create SCTASK DataFrame\n",
    "d_parser = lambda x: pd.datetime.strptime(x, '%m/%d/%Y')\n",
    "\n",
    "df_task = pd.read_csv('/Users/noel.c.joaquin/Desktop/Python/TASK_YTD_nov2022.csv', parse_dates=['opened_at', 'closed_at'], date_parser = d_parser, encoding='unicode_escape')\n",
    "\n",
    "# df_task.head()"
   ]
  },
  {
   "cell_type": "markdown",
   "metadata": {},
   "source": [
    "GLOBAL VARIABLES"
   ]
  },
  {
   "cell_type": "code",
   "execution_count": null,
   "metadata": {},
   "outputs": [],
   "source": [
    "month_date_today = date.today()\n",
    "split_month_date_today = str(month_date_today).split('-')\n",
    "month_first_day = str(month_date_today).replace(str(f\"-{split_month_date_today[-1]}\"), str(f\"-01\")) "
   ]
  },
  {
   "cell_type": "markdown",
   "metadata": {},
   "source": [
    "CARD COUNTS - INC Opened and Resolved"
   ]
  },
  {
   "cell_type": "code",
   "execution_count": null,
   "metadata": {},
   "outputs": [],
   "source": [
    "def inc_count_or(timeline, state, df):    \n",
    "    count = 0\n",
    "\n",
    "    if timeline == 'current-month':\n",
    "        date_filter_inc_currmonth = (df[state] >= month_first_day)\n",
    "        count = len(date_filter_inc_currmonth.loc[date_filter_inc_currmonth])\n",
    "        return count\n",
    "    elif timeline == 'last-month':\n",
    "        return count\n",
    "    elif timeline == 'current-year':\n",
    "        year_first_day = month_first_day.replace(str(f\"-{split_month_date_today[1]}\"), str(f\"-01\"))\n",
    "        count = df.loc[df[state] >= year_first_day].shape[0]\n",
    "        return count\n",
    "    elif timeline == 'ytd':\n",
    "        count = df.shape[0]\n",
    "        return count\n",
    "\n",
    "# INCIDENTS\n",
    "inc_opened_cm = inc_count_or('current-month', 'opened_at', df_incident)\n",
    "inc_opened_lm = inc_count_or('last-month', 'opened_at', df_incident)\n",
    "inc_opened_cy = inc_count_or('current-year', 'opened_at', df_incident)\n",
    "inc_opened_ytd = inc_count_or('ytd', 'opened_at', df_incident)\n",
    "\n",
    "inc_resolved_cm = inc_count_or('current-month', 'resolved_at', df_incident)\n",
    "inc_resolved_lm = inc_count_or('last-month', 'resolved_at', df_incident)\n",
    "inc_resolved_cy = inc_count_or('current-year', 'resolved_at', df_incident)\n",
    "inc_resolved_ytd = inc_count_or('ytd', 'resolved_at', df_incident)\n",
    "\n",
    "# TASKS\n",
    "# task_opened_lm = inc_count_or('last-month', 'opened_at', df_task)\n",
    "# task_opened_cm = inc_count_or('current-month', 'opened_at', df_task)\n",
    "# task_opened_cy = inc_count_or('current-year', 'opened_at', df_task)\n",
    "# task_opened_ytd = inc_count_or('ytd', 'opened_at', df_task)\n",
    "\n",
    "# task_resolved_cm = inc_count_or('current-month', 'closed_at', df_task)\n",
    "# task_resolved_lm = inc_count_or('last-month', 'closed_at', df_task)\n",
    "# task_resolved_cy = inc_count_or('current-year', 'closed_at', df_task)\n",
    "# task_resolved_ytd = inc_count_or('ytd', 'closed_at', df_task)"
   ]
  },
  {
   "cell_type": "code",
   "execution_count": null,
   "metadata": {},
   "outputs": [],
   "source": [
    "print(f\"inc_opened_cm: {inc_opened_cm}\")\n",
    "print(f\"inc_opened_lm: {inc_opened_lm}\")\n",
    "print(f\"inc_opened_cy: {inc_opened_cy}\")\n",
    "print(f\"inc_opened_ytd: {inc_opened_ytd}\")\n",
    "\n",
    "print(\"----------------------\")\n",
    "\n",
    "print(f\"inc_resolved_cm: {inc_resolved_cm}\")\n",
    "print(f\"inc_resolved_lm: {inc_resolved_lm}\")\n",
    "print(f\"inc_resolved_cy: {inc_resolved_cy}\")\n",
    "print(f\"inc_resolved_ytd: {inc_resolved_ytd}\")"
   ]
  },
  {
   "cell_type": "markdown",
   "metadata": {},
   "source": [
    "Volume of Incidents by Issue Type"
   ]
  },
  {
   "cell_type": "code",
   "execution_count": null,
   "metadata": {},
   "outputs": [],
   "source": [
    "# Get all 'Research Assessment' types\n",
    "research_assessment_types = df_incident[\"u_research_assessment\"].unique().tolist()\n",
    "# print(research_assessment_types)\n",
    "\n",
    "# Get Count for each 'Research Assessment'\n",
    "research_assessment_count = []\n",
    "for issue_type in research_assessment_types:\n",
    "    count = df_incident.loc[df_incident[\"u_research_assessment\"] == issue_type].shape[0]\n",
    "    research_assessment_count.append(count)\n",
    "\n",
    "    print(f\"issue_type: {issue_type} - {count}\")\n",
    "# print(research_assessment_count)\n",
    "\n",
    "# Create DataFrame for Research Assessment Count\n",
    "df_research_assessment = pd.DataFrame({\n",
    "    \"Research Assessment\": research_assessment_types,\n",
    "    \"\": research_assessment_count\n",
    "})\n",
    "\n",
    "df_research_assessment = df_research_assessment.sort_values('', ascending=False)\n",
    "df_research_assessment"
   ]
  },
  {
   "cell_type": "code",
   "execution_count": null,
   "metadata": {},
   "outputs": [],
   "source": [
    "# Make Bar Chart for df_research_assessment\n",
    "fig = px.bar(df_research_assessment, x=\"Research Assessment\", y=\"\", barmode=\"group\", text_auto=True)\n",
    "fig.show()"
   ]
  },
  {
   "cell_type": "markdown",
   "metadata": {},
   "source": [
    "CARD"
   ]
  },
  {
   "cell_type": "code",
   "execution_count": null,
   "metadata": {},
   "outputs": [],
   "source": [
    "def card_count(title, title_size, data, data_size):\n",
    "    card = dbc.Card(\n",
    "            dbc.CardBody(\n",
    "                [\n",
    "                    html.H5(title, className=\"card-title\", style={'font-size': title_size}),\n",
    "                    html.P(data, style={'font-size': data_size, 'font-weight': 'bold'}),\n",
    "                ]\n",
    "            )\n",
    "        )\n",
    "    \n",
    "    return card\n",
    "\n",
    "card_inc_opened = card_count('Incidents Opened', '1.5rem', inc_opened_cm, '5rem')\n",
    "card_inc_resolved = card_count('Incidents Resolved', '1.5rem', inc_resolved_cm, '5rem')\n",
    "card_task_opened = card_count('Incidents Opened', '1.5rem', inc_opened_cm, '5rem')\n",
    "card_task_resolved = card_count('Incidents Resolved', '1.5rem', inc_resolved_cm, '5rem')\n",
    "\n",
    "cards = dbc.Row(\n",
    "        [\n",
    "            dbc.Col(card_inc_opened, width = 3),\n",
    "            dbc.Col(card_inc_resolved, width = 3),\n",
    "            dbc.Col(card_task_opened, width = 3),\n",
    "            dbc.Col(card_task_resolved, width = 3),\n",
    "        ]\n",
    "    )\n"
   ]
  },
  {
   "cell_type": "markdown",
   "metadata": {},
   "source": [
    "Tickets Opened and Resolved"
   ]
  },
  {
   "cell_type": "code",
   "execution_count": null,
   "metadata": {},
   "outputs": [],
   "source": [
    "def year_month_data(selected_year, state, df):\n",
    "\n",
    "    initial_year_month_list = df[state].dt.strftime('%Y-%m').unique().tolist()\n",
    "    year_month_list = []\n",
    "\n",
    "    for x in initial_year_month_list:\n",
    "        if selected_year in x:\n",
    "            year_month_list.append(x)\n",
    "\n",
    "    # Get available month names for selected year\n",
    "    get_month_names = df.loc[df[state] > selected_year][state].dt.strftime('%b').unique().tolist()\n",
    "\n",
    "    return year_month_list, get_month_names\n",
    "    \n",
    "inc_ym_2022, inc_mn_2022 = year_month_data('2022', 'opened_at' df_incident)\n",
    "print(inc_ym_2022)\n",
    "print(inc_mn_2022)"
   ]
  },
  {
   "cell_type": "code",
   "execution_count": null,
   "metadata": {},
   "outputs": [],
   "source": [
    "def year_month_count_opened(year_month_list, state, df):\n",
    "    year_month_count_opened = []\n",
    "\n",
    "    for get_curr_year_month in year_month_list:\n",
    "\n",
    "        get_curr_month = get_curr_year_month.split('-')[1]\n",
    "        get_curr_year = get_curr_year_month.split('-')[0]\n",
    "        get_next_month = int(get_curr_month) + 1\n",
    "        get_next_year = int(get_curr_year) + 1\n",
    "\n",
    "        if get_next_month > 12:\n",
    "            \n",
    "            get_next_month = 1;\n",
    "            get_next_year_month = get_curr_year_month.replace(str(f\"-{get_curr_month}\"), str(f\"-{get_next_month}\"))\n",
    "            get_next_year_month = get_next_year_month.replace(str(get_curr_year), str(get_next_year))\n",
    "\n",
    "            count = df.loc[(df[state] < f\"{get_next_year_month}-01\") & \n",
    "                                    (df[state] >= f\"{get_curr_year_month}-01\")]\n",
    "\n",
    "            year_month_count_opened.append(count.shape[0])\n",
    "        else:\n",
    "            get_next_year_month = get_curr_year_month.replace(str(f\"-{get_curr_month}\"), str(f\"-{get_next_month}\"))\n",
    "\n",
    "            count = df.loc[(df[state] < f\"{get_next_year_month}-01\") & \n",
    "                                    (df[state] >= f\"{get_curr_year_month}-01\")]\n",
    "\n",
    "            year_month_count_opened.append(count.shape[0])\n",
    "\n",
    "    return year_month_count_opened\n",
    "\n",
    "inc_ymc_opened_2022 = year_month_count_opened(inc_ym_2022, 'opened_at' ,df_incident)\n",
    "inc_ymc_resolved_2022 = year_month_count_opened(inc_ym_2022, 'resolved_at' ,df_incident)\n",
    "\n",
    "task_ymc_opened_2022 = year_month_count_opened(inc_ym_2022, 'opened_at' ,df_task)\n",
    "task_ymc_resolved_2022 = year_month_count_opened(inc_ym_2022, 'closed_at' ,df_task)\n",
    "\n",
    "print(f\"inc_ymc_opened_2022: {inc_ymc_opened_2022}\")\n",
    "print(f\"inc_ymc_resolved_2022: {inc_ymc_resolved_2022}\")\n",
    "print(f\"task_ymc_opened_2022: {task_ymc_opened_2022}\")\n",
    "print(f\"task_ymc_resolved_2022 : {task_ymc_resolved_2022 }\")\n"
   ]
  },
  {
   "cell_type": "code",
   "execution_count": null,
   "metadata": {},
   "outputs": [],
   "source": [
    "# Create DataFrame for 'opened_at' column based on 'year_month_list' and 'year_month_count'\n",
    "df_inc_open_and_close = pd.DataFrame({\n",
    "    \"month_year\": inc_ym_2022,\n",
    "    \"count_open\": inc_ymc_opened_2022,\n",
    "    \"count_resolved\": inc_ymc_resolved_2022\n",
    "})\n",
    "\n",
    "df_inc_open_and_close"
   ]
  },
  {
   "cell_type": "code",
   "execution_count": null,
   "metadata": {},
   "outputs": [],
   "source": [
    "# Create figure for 'df_inc_open_and_close'\n",
    "colors = px.colors.qualitative.Set3\n",
    "\n",
    "fig2 = go.Figure(data=[\n",
    "    go.Bar(name='Opened', x=inc_mn_2022, y=inc_ymc_opened_2022, text=inc_ymc_opened_2022, marker=dict(color=colors[4])),\n",
    "    go.Bar(name='Resolved', x=inc_mn_2022, y=inc_ymc_resolved_2022, text=inc_ymc_resolved_2022, marker=dict(color=colors[3])),\n",
    "])\n",
    "\n",
    "fig2.show()"
   ]
  },
  {
   "cell_type": "markdown",
   "metadata": {},
   "source": [
    "TASK TICKETS"
   ]
  },
  {
   "cell_type": "code",
   "execution_count": null,
   "metadata": {},
   "outputs": [],
   "source": [
    "# # Get Opened Task Count for each Year-opened_task = []\n",
    "\n",
    "# year_month_count_opened_task = []\n",
    "\n",
    "# for get_curr_year_month in year_month_list:\n",
    "\n",
    "#     get_curr_month = get_curr_year_month.split('-')[1]\n",
    "#     get_curr_year = get_curr_year_month.split('-')[0]\n",
    "#     get_next_month = int(get_curr_month) + 1\n",
    "#     get_next_year = int(get_curr_year) + 1\n",
    "\n",
    "#     if get_next_month > 12:\n",
    "        \n",
    "#         get_next_month = 1;\n",
    "#         get_next_year_month = get_curr_year_month.replace(str(f\"-{get_curr_month}\"), str(f\"-{get_next_month}\"))\n",
    "#         get_next_year_month = get_next_year_month.replace(str(get_curr_year), str(get_next_year))\n",
    "\n",
    "#         count = df_task.loc[(df_task['opened_at'] < f\"{get_next_year_month}-01\") & \n",
    "#                                 (df_task['opened_at'] >= f\"{get_curr_year_month}-01\")]\n",
    "\n",
    "#         year_month_count_opened_task.append(count.shape[0])\n",
    "#     else:\n",
    "#         get_next_year_month = get_curr_year_month.replace(str(f\"-{get_curr_month}\"), str(f\"-{get_next_month}\"))\n",
    "\n",
    "#         count = df_task.loc[(df_task['opened_at'] < f\"{get_next_year_month}-01\") & \n",
    "#                                 (df_task['opened_at'] >= f\"{get_curr_year_month}-01\")]\n",
    "\n",
    "#         year_month_count_opened_task.append(count.shape[0])\n",
    "\n",
    "# print(year_month_count_opened_task)"
   ]
  },
  {
   "cell_type": "code",
   "execution_count": null,
   "metadata": {},
   "outputs": [],
   "source": [
    "# # Create DataFrame\n",
    "# df_inc_and_task_open = pd.DataFrame({\n",
    "#     \"month_year\": year_month_list,\n",
    "#     \"count_open_inc\": year_month_count_opened,\n",
    "#     \"count_open_task\": year_month_count_opened_task\n",
    "# })\n",
    "\n",
    "# print(df_inc_and_task_open)"
   ]
  },
  {
   "cell_type": "code",
   "execution_count": null,
   "metadata": {},
   "outputs": [],
   "source": [
    "# # Create figure for 'df_inc_and_task_open'\n",
    "# colors = px.colors.qualitative.Set3\n",
    "\n",
    "# fig3 = go.Figure(data=[\n",
    "#     go.Bar(name='Incidents', x=get_month_names, y=year_month_count_opened, text=year_month_count_opened, marker=dict(color=colors[4])),\n",
    "#     go.Bar(name='Tasks', x=get_month_names, y=year_month_count_opened_task, text=year_month_count_opened_task, marker=dict(color=colors[3])),\n",
    "# ])\n",
    "\n",
    "# fig3"
   ]
  },
  {
   "cell_type": "code",
   "execution_count": null,
   "metadata": {},
   "outputs": [],
   "source": [
    "# Filler Pie Chart\n",
    "df_pie = px.data.tips()\n",
    "fig_pie = px.pie(df_pie, values='tip', names='day', color='day',\n",
    "             color_discrete_map={'Thur':'lightcyan',\n",
    "                                 'Fri':'cyan',\n",
    "                                 'Sat':'royalblue',\n",
    "                                 'Sun':'darkblue'})\n",
    "fig_pie.show()"
   ]
  },
  {
   "cell_type": "code",
   "execution_count": null,
   "metadata": {},
   "outputs": [],
   "source": [
    "# Create server variable with Flask server object for use with gunicorn\n",
    "server = app.server\n",
    "\n",
    "# Construct App Layout\n",
    "app.layout = html.Div(children=[\n",
    "    html.H1('Analytics Platform Ticket Dashboard'),\n",
    "    dcc.Tabs(id=\"tabs-content-input\", value='current-month', children=[\n",
    "        dcc.Tab(label='Current Month', value='current-month'),\n",
    "        dcc.Tab(label='Last Month', value='last-month'),\n",
    "        dcc.Tab(label='Current Year', value='current-year'),\n",
    "        dcc.Tab(label='Year to Date', value='ytd')\n",
    "    ]),\n",
    "    html.Div(id='tabs-content-output')\n",
    "])\n",
    "\n",
    "@app.callback(Output('tabs-content-output', 'children'),\n",
    "              Input('tabs-content-input', 'value'))\n",
    "def render_content(tab):\n",
    "    if tab == 'current-month':\n",
    "        return html.Div([\n",
    "            cards\n",
    "        ])\n",
    "    elif tab == 'last-month':\n",
    "        return html.Div([\n",
    "            cards\n",
    "        ])\n",
    "    elif tab == 'current-year':\n",
    "        return html.Div([\n",
    "            cards\n",
    "        ])\n",
    "    elif tab == 'ytd':\n",
    "        return html.Div([\n",
    "            cards\n",
    "        ])\n",
    "\n",
    "app.run_server()"
   ]
  },
  {
   "cell_type": "code",
   "execution_count": null,
   "metadata": {},
   "outputs": [],
   "source": []
  }
 ],
 "metadata": {
  "kernelspec": {
   "display_name": "Python 3.10.4 64-bit",
   "language": "python",
   "name": "python3"
  },
  "language_info": {
   "codemirror_mode": {
    "name": "ipython",
    "version": 3
   },
   "file_extension": ".py",
   "mimetype": "text/x-python",
   "name": "python",
   "nbconvert_exporter": "python",
   "pygments_lexer": "ipython3",
   "version": "3.10.4"
  },
  "orig_nbformat": 4,
  "vscode": {
   "interpreter": {
    "hash": "b769e006912ec37d22d70e5a86561f700ac3296e9c585175429d129c45e25b86"
   }
  }
 },
 "nbformat": 4,
 "nbformat_minor": 2
}
