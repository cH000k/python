{
 "cells": [
  {
   "cell_type": "code",
   "execution_count": 1,
   "metadata": {},
   "outputs": [],
   "source": [
    "import dash\n",
    "# import dash_core_components as dcc\n",
    "from dash import dcc\n",
    "# import dash_html_components as html\n",
    "from dash import html\n",
    "import dash_bootstrap_components as dbc"
   ]
  },
  {
   "cell_type": "code",
   "execution_count": 2,
   "metadata": {},
   "outputs": [],
   "source": [
    "import pandas as pd\n",
    "import plotly.express as px\n",
    "import plotly.graph_objects as go\n",
    "from datetime import date"
   ]
  },
  {
   "cell_type": "code",
   "execution_count": 3,
   "metadata": {},
   "outputs": [],
   "source": [
    "from jupyter_dash import JupyterDash\n",
    "from dash.dependencies import Input, Output\n",
    "app = JupyterDash(__name__, external_stylesheets=[dbc.themes.MATERIA])"
   ]
  },
  {
   "cell_type": "markdown",
   "metadata": {},
   "source": [
    "INCIDENT TICKETS"
   ]
  },
  {
   "cell_type": "code",
   "execution_count": 4,
   "metadata": {},
   "outputs": [
    {
     "name": "stdout",
     "output_type": "stream",
     "text": [
      "<class 'pandas.core.frame.DataFrame'>\n",
      "RangeIndex: 83 entries, 0 to 82\n",
      "Data columns (total 6 columns):\n",
      " #   Column                 Non-Null Count  Dtype \n",
      "---  ------                 --------------  ----- \n",
      " 0   number                 83 non-null     object\n",
      " 1   state                  83 non-null     object\n",
      " 2   opened_at              83 non-null     object\n",
      " 3   resolved_at            75 non-null     object\n",
      " 4   closed_at              74 non-null     object\n",
      " 5   u_research_assessment  79 non-null     object\n",
      "dtypes: object(6)\n",
      "memory usage: 4.0+ KB\n"
     ]
    }
   ],
   "source": [
    "# Create initial Dataframe\n",
    "df_incident = pd.read_csv('/Users/noel.c.joaquin/Desktop/BASE_DATA/INC_YTD_nov2022.csv')\n",
    "df_incident.info()"
   ]
  },
  {
   "cell_type": "code",
   "execution_count": 5,
   "metadata": {},
   "outputs": [
    {
     "name": "stdout",
     "output_type": "stream",
     "text": [
      "<class 'pandas.core.frame.DataFrame'>\n",
      "RangeIndex: 83 entries, 0 to 82\n",
      "Data columns (total 6 columns):\n",
      " #   Column                 Non-Null Count  Dtype \n",
      "---  ------                 --------------  ----- \n",
      " 0   number                 83 non-null     object\n",
      " 1   state                  83 non-null     object\n",
      " 2   opened_at              83 non-null     object\n",
      " 3   resolved_at            83 non-null     object\n",
      " 4   closed_at              83 non-null     object\n",
      " 5   u_research_assessment  79 non-null     object\n",
      "dtypes: object(6)\n",
      "memory usage: 4.0+ KB\n"
     ]
    }
   ],
   "source": [
    "# Replace NaN values with '01-01-2200' \n",
    "df_incident['resolved_at'].fillna('1/1/2200', inplace=True)\n",
    "df_incident['closed_at'].fillna('1/1/2200', inplace=True)\n",
    "df_incident.info()"
   ]
  },
  {
   "cell_type": "code",
   "execution_count": 6,
   "metadata": {},
   "outputs": [],
   "source": [
    "# Save new Dataframe \n",
    "df_incident.to_csv('/Users/noel.c.joaquin/Desktop/Python/INC_YTD_nov2022.csv', index=False)"
   ]
  },
  {
   "cell_type": "code",
   "execution_count": 7,
   "metadata": {},
   "outputs": [
    {
     "name": "stderr",
     "output_type": "stream",
     "text": [
      "C:\\Users\\noel.c.joaquin\\AppData\\Local\\Temp\\ipykernel_20592\\1630154363.py:2: FutureWarning: The pandas.datetime class is deprecated and will be removed from pandas in a future version. Import from datetime module instead.\n",
      "  d_parser = lambda x: pd.datetime.strptime(x, '%m/%d/%Y')\n",
      "C:\\Users\\noel.c.joaquin\\AppData\\Local\\Temp\\ipykernel_20592\\1630154363.py:2: FutureWarning: The pandas.datetime class is deprecated and will be removed from pandas in a future version. Import from datetime module instead.\n",
      "  d_parser = lambda x: pd.datetime.strptime(x, '%m/%d/%Y')\n",
      "C:\\Users\\noel.c.joaquin\\AppData\\Local\\Temp\\ipykernel_20592\\1630154363.py:2: FutureWarning: The pandas.datetime class is deprecated and will be removed from pandas in a future version. Import from datetime module instead.\n",
      "  d_parser = lambda x: pd.datetime.strptime(x, '%m/%d/%Y')\n"
     ]
    },
    {
     "data": {
      "text/html": [
       "<div>\n",
       "<style scoped>\n",
       "    .dataframe tbody tr th:only-of-type {\n",
       "        vertical-align: middle;\n",
       "    }\n",
       "\n",
       "    .dataframe tbody tr th {\n",
       "        vertical-align: top;\n",
       "    }\n",
       "\n",
       "    .dataframe thead th {\n",
       "        text-align: right;\n",
       "    }\n",
       "</style>\n",
       "<table border=\"1\" class=\"dataframe\">\n",
       "  <thead>\n",
       "    <tr style=\"text-align: right;\">\n",
       "      <th></th>\n",
       "      <th>number</th>\n",
       "      <th>state</th>\n",
       "      <th>opened_at</th>\n",
       "      <th>resolved_at</th>\n",
       "      <th>closed_at</th>\n",
       "      <th>u_research_assessment</th>\n",
       "    </tr>\n",
       "  </thead>\n",
       "  <tbody>\n",
       "    <tr>\n",
       "      <th>0</th>\n",
       "      <td>INC1234577</td>\n",
       "      <td>Resolved</td>\n",
       "      <td>2022-01-01</td>\n",
       "      <td>2022-01-02</td>\n",
       "      <td>2022-02-01</td>\n",
       "      <td>Data Issue</td>\n",
       "    </tr>\n",
       "    <tr>\n",
       "      <th>1</th>\n",
       "      <td>INC1234578</td>\n",
       "      <td>Resolved</td>\n",
       "      <td>2022-01-02</td>\n",
       "      <td>2022-01-03</td>\n",
       "      <td>2022-02-02</td>\n",
       "      <td>Login Issue</td>\n",
       "    </tr>\n",
       "    <tr>\n",
       "      <th>2</th>\n",
       "      <td>INC1234579</td>\n",
       "      <td>Resolved</td>\n",
       "      <td>2022-01-03</td>\n",
       "      <td>2022-01-04</td>\n",
       "      <td>2022-02-03</td>\n",
       "      <td>Product Issue</td>\n",
       "    </tr>\n",
       "    <tr>\n",
       "      <th>3</th>\n",
       "      <td>INC1234580</td>\n",
       "      <td>Resolved</td>\n",
       "      <td>2022-01-04</td>\n",
       "      <td>2022-01-05</td>\n",
       "      <td>2022-02-04</td>\n",
       "      <td>System Issue</td>\n",
       "    </tr>\n",
       "    <tr>\n",
       "      <th>4</th>\n",
       "      <td>INC1234581</td>\n",
       "      <td>Resolved</td>\n",
       "      <td>2022-01-05</td>\n",
       "      <td>2022-01-06</td>\n",
       "      <td>2022-02-05</td>\n",
       "      <td>Workspace Issue</td>\n",
       "    </tr>\n",
       "  </tbody>\n",
       "</table>\n",
       "</div>"
      ],
      "text/plain": [
       "       number     state  opened_at resolved_at  closed_at  \\\n",
       "0  INC1234577  Resolved 2022-01-01  2022-01-02 2022-02-01   \n",
       "1  INC1234578  Resolved 2022-01-02  2022-01-03 2022-02-02   \n",
       "2  INC1234579  Resolved 2022-01-03  2022-01-04 2022-02-03   \n",
       "3  INC1234580  Resolved 2022-01-04  2022-01-05 2022-02-04   \n",
       "4  INC1234581  Resolved 2022-01-05  2022-01-06 2022-02-05   \n",
       "\n",
       "  u_research_assessment  \n",
       "0            Data Issue  \n",
       "1           Login Issue  \n",
       "2         Product Issue  \n",
       "3          System Issue  \n",
       "4       Workspace Issue  "
      ]
     },
     "execution_count": 7,
     "metadata": {},
     "output_type": "execute_result"
    }
   ],
   "source": [
    "# Recreate Dataframe and conver Date columns to Datetime format\n",
    "d_parser = lambda x: pd.datetime.strptime(x, '%m/%d/%Y')\n",
    "\n",
    "df_task = pd.read_csv('/Users/noel.c.joaquin/Desktop/Python/INC_YTD_nov2022.csv', parse_dates=['opened_at', 'closed_at', 'resolved_at'],\n",
    "                            date_parser = d_parser , encoding = 'unicode_escape')\n",
    "                            \n",
    "df_task.head()"
   ]
  },
  {
   "cell_type": "code",
   "execution_count": 21,
   "metadata": {},
   "outputs": [],
   "source": [
    "month_date_today = date.today()\n",
    "split_month_date_today = str(month_date_today).split('-')\n",
    "month_first_day = str(month_date_today).replace(str(f\"-{split_month_date_today[-1]}\"), str(f\"-01\")) "
   ]
  },
  {
   "cell_type": "markdown",
   "metadata": {},
   "source": [
    "CARD COUNTS - INC Opened"
   ]
  },
  {
   "cell_type": "code",
   "execution_count": 22,
   "metadata": {},
   "outputs": [],
   "source": [
    "def inc_opened_count(timeline):    \n",
    "    count = 0\n",
    "\n",
    "    if timeline == 'current-month':\n",
    "        date_filter_inc_currmonth = (df_task['opened_at'] >= month_first_day)\n",
    "        count = len(date_filter_inc_currmonth.loc[date_filter_inc_currmonth])\n",
    "        return count\n",
    "    elif timeline == 'last-month':\n",
    "        return count\n",
    "    elif timeline == 'current-year':\n",
    "        year_first_day = month_first_day.replace(str(f\"-{split_month_date_today[1]}\"), str(f\"-01\"))\n",
    "        count = df_task.loc[df_task['opened_at'] >= year_first_day].shape[0]\n",
    "        return count\n",
    "    elif timeline == 'ytd':\n",
    "        count = df_task.shape[0]\n",
    "        return count\n",
    "        "
   ]
  },
  {
   "cell_type": "code",
   "execution_count": 23,
   "metadata": {},
   "outputs": [
    {
     "name": "stdout",
     "output_type": "stream",
     "text": [
      "inc_ocm: 9\n",
      "inc_olm: 0\n",
      "inc_ocy: 43\n",
      "inc_oytd: 83\n"
     ]
    }
   ],
   "source": [
    "inc_ocm = inc_opened_count('current-month')\n",
    "inc_olm = inc_opened_count('last-month')\n",
    "inc_ocy = inc_opened_count('current-year')\n",
    "inc_oytd = inc_opened_count('ytd')\n",
    "\n",
    "print(f\"inc_ocm: {inc_ocm}\")\n",
    "print(f\"inc_olm: {inc_olm}\")\n",
    "print(f\"inc_ocy: {inc_ocy}\")\n",
    "print(f\"inc_oytd: {inc_oytd}\")"
   ]
  },
  {
   "cell_type": "markdown",
   "metadata": {},
   "source": [
    "CARD COUNTS - INC Resolved"
   ]
  },
  {
   "cell_type": "code",
   "execution_count": 24,
   "metadata": {},
   "outputs": [],
   "source": [
    "def inc_resolved_count(timeline):\n",
    "    count = 0\n",
    "\n",
    "    if timeline == 'current-month':\n",
    "        date_filter_inc_currmonth = (df_task['resolved_at'] >= month_first_day) & (df_task['resolved_at'] != '2200-01-01')\n",
    "        count = len(date_filter_inc_currmonth.loc[date_filter_inc_currmonth])\n",
    "        return count\n",
    "    elif timeline == 'last-month':\n",
    "        return count\n",
    "    elif timeline == 'current-year':\n",
    "        year_first_month = month_first_day.replace(str(f\"-{split_month_date_today[1]}\"), str(f\"-01\"))\n",
    "        date_filter_inc_curryear = (df_task['resolved_at'] >= year_first_month) & (df_task['resolved_at'] != '2200-01-01')\n",
    "        count = len(date_filter_inc_curryear.loc[date_filter_inc_curryear])\n",
    "        return count\n",
    "    elif timeline == 'ytd':\n",
    "        total_closed_count = df_task.loc[df_task['state'] == 'Closed'].shape[0]\n",
    "        total_resolved_count = df_task.loc[df_task['state'] == 'Resolved'].shape[0]\n",
    "        count = total_closed_count + total_resolved_count\n",
    "        return count"
   ]
  },
  {
   "cell_type": "code",
   "execution_count": 25,
   "metadata": {},
   "outputs": [
    {
     "name": "stdout",
     "output_type": "stream",
     "text": [
      "inc_rcm: 1\n",
      "inc_rlm: 0\n",
      "inc_ocy: 37\n",
      "inc_rytd: 75\n"
     ]
    }
   ],
   "source": [
    "inc_rcm = inc_resolved_count('current-month')\n",
    "inc_rlm = inc_resolved_count('last-month')\n",
    "inc_rcy = inc_resolved_count('current-year')\n",
    "inc_rytd = inc_resolved_count('ytd')\n",
    "\n",
    "print(f\"inc_rcm: {inc_rcm}\")\n",
    "print(f\"inc_rlm: {inc_rlm}\")\n",
    "print(f\"inc_ocy: {inc_rcy}\")\n",
    "print(f\"inc_rytd: {inc_rytd}\")"
   ]
  },
  {
   "cell_type": "markdown",
   "metadata": {},
   "source": [
    "Volume of Incidents by Issue Type"
   ]
  },
  {
   "cell_type": "code",
   "execution_count": null,
   "metadata": {},
   "outputs": [],
   "source": [
    "# Get all 'Research Assessment' types\n",
    "research_assessment_types = df_task[\"u_research_assessment\"].unique().tolist()\n",
    "\n",
    "print(research_assessment_types)"
   ]
  },
  {
   "cell_type": "code",
   "execution_count": null,
   "metadata": {},
   "outputs": [],
   "source": [
    "# Get Count for each 'Research Assessment'\n",
    "\n",
    "research_assessment_count = []\n",
    "\n",
    "for issue_type in research_assessment_types:\n",
    "    count = df_task.loc[df_task[\"u_research_assessment\"] == issue_type].shape[0]\n",
    "    research_assessment_count.append(count)\n",
    "\n",
    "    print(f\"issue_type: {issue_type} - {count}\")\n",
    "\n",
    "print(research_assessment_count)"
   ]
  },
  {
   "cell_type": "code",
   "execution_count": null,
   "metadata": {},
   "outputs": [],
   "source": [
    "# Create DataFrame for Research Assessment Count\n",
    "df_research_assessment = pd.DataFrame({\n",
    "    \"Research Assessment\": research_assessment_types,\n",
    "    \"\": research_assessment_count\n",
    "})\n",
    "\n",
    "df_research_assessment = df_research_assessment.sort_values('', ascending=False)\n",
    "\n",
    "df_research_assessment"
   ]
  },
  {
   "cell_type": "code",
   "execution_count": null,
   "metadata": {},
   "outputs": [],
   "source": [
    "# Make Bar Chart for df_research_assessment\n",
    "fig = px.bar(df_research_assessment, x=\"Research Assessment\", y=\"\", barmode=\"group\", text_auto=True)\n",
    "fig.show()"
   ]
  },
  {
   "cell_type": "markdown",
   "metadata": {},
   "source": [
    "CARD"
   ]
  },
  {
   "cell_type": "code",
   "execution_count": null,
   "metadata": {},
   "outputs": [],
   "source": [
    "first_card = dbc.Card(\n",
    "    dbc.CardBody(\n",
    "        [\n",
    "            html.H5(\"Incident Tickets (Opened)- Current Month\", className=\"card-title\", style={'font-size': '1.5rem'}),\n",
    "            html.P(currmonth_opened_ticket, style={'font-size': '5rem', 'font-weight': 'bold'}),\n",
    "        ]\n",
    "    )\n",
    ")\n",
    "\n",
    "second_card = dbc.Card(\n",
    "    dbc.CardBody(\n",
    "        [\n",
    "            html.H5(\"Incident Tickets(Resolved) - Current Month\", className=\"card-title\", style={'font-size': '1.5rem'}),\n",
    "            html.P(currmonth_resolved_ticket, style={'font-size': '5rem', 'font-weight': 'bold'}),\n",
    "        ]\n",
    "    )\n",
    ")\n",
    "\n",
    "third_card = dbc.Card(\n",
    "    dbc.CardBody(\n",
    "        [\n",
    "            html.H5(\"Incident Volume - Closed\", className=\"card-title\", style={'font-size': '1.5rem'}),\n",
    "            html.P(total_closed_count, style={'font-size': '5rem', 'font-weight': 'bold'}),\n",
    "        ]\n",
    "    )\n",
    ")\n",
    "\n",
    "fourth_card = dbc.Card(\n",
    "    dbc.CardBody(\n",
    "        [\n",
    "            html.H5(\"Incident Volume - Resolved - Current Month\", className=\"card-title\", style={'font-size': '1.5rem'}),\n",
    "            html.P(total_resolved_count, style={'font-size': '5rem', 'font-weight': 'bold'}),\n",
    "        ]\n",
    "    )\n",
    "),\n",
    "\n",
    "cards = dbc.Row(\n",
    "    [\n",
    "        dbc.Col(first_card, width = 3),\n",
    "        dbc.Col(second_card, width = 3),\n",
    "        dbc.Col(third_card, width = 3),\n",
    "        dbc.Col(fourth_card, width = 3),\n",
    "    ]\n",
    ")"
   ]
  },
  {
   "cell_type": "markdown",
   "metadata": {},
   "source": [
    "AP Incident Tickets Opened and Resolved"
   ]
  },
  {
   "cell_type": "code",
   "execution_count": null,
   "metadata": {},
   "outputs": [],
   "source": [
    "# Get distinct values of Year-Month from all data and store in a list\n",
    "\n",
    "selected_year = '2022'\n",
    "\n",
    "initial_year_month_list = df_task['opened_at'].dt.strftime('%Y-%m').unique().tolist()\n",
    "year_month_list = []\n",
    "\n",
    "for x in initial_year_month_list:\n",
    "    if selected_year in x:\n",
    "        year_month_list.append(x)\n",
    "\n",
    "print(year_month_list)\n",
    "\n",
    "# Get available month names for selected year\n",
    "get_month_names = df_task.loc[df_task['opened_at'] > selected_year]['opened_at'].dt.strftime('%b').unique().tolist()\n",
    "print(f\"get_month_names: {get_month_names}\")"
   ]
  },
  {
   "cell_type": "code",
   "execution_count": null,
   "metadata": {},
   "outputs": [],
   "source": [
    "# Get Opened Ticket Count for each Year-Month\n",
    "year_month_count_opened = []\n",
    "\n",
    "for get_curr_year_month in year_month_list:\n",
    "\n",
    "    get_curr_month = get_curr_year_month.split('-')[1]\n",
    "    get_curr_year = get_curr_year_month.split('-')[0]\n",
    "    get_next_month = int(get_curr_month) + 1\n",
    "    get_next_year = int(get_curr_year) + 1\n",
    "\n",
    "    if get_next_month > 12:\n",
    "        \n",
    "        get_next_month = 1;\n",
    "        get_next_year_month = get_curr_year_month.replace(str(f\"-{get_curr_month}\"), str(f\"-{get_next_month}\"))\n",
    "        get_next_year_month = get_next_year_month.replace(str(get_curr_year), str(get_next_year))\n",
    "\n",
    "        count = df_task.loc[(df_task['opened_at'] < f\"{get_next_year_month}-01\") & \n",
    "                                (df_task['opened_at'] >= f\"{get_curr_year_month}-01\")]\n",
    "\n",
    "        year_month_count_opened.append(count.shape[0])\n",
    "    else:\n",
    "        get_next_year_month = get_curr_year_month.replace(str(f\"-{get_curr_month}\"), str(f\"-{get_next_month}\"))\n",
    "\n",
    "        count = df_task.loc[(df_task['opened_at'] < f\"{get_next_year_month}-01\") & \n",
    "                                (df_task['opened_at'] >= f\"{get_curr_year_month}-01\")]\n",
    "\n",
    "        year_month_count_opened.append(count.shape[0])\n",
    "\n",
    "print(year_month_count_opened)"
   ]
  },
  {
   "cell_type": "code",
   "execution_count": null,
   "metadata": {},
   "outputs": [],
   "source": [
    "# Get Resolved Ticket Count for each Year-Month\n",
    "year_month_count_resolved = []\n",
    "\n",
    "for get_curr_year_month in year_month_list:\n",
    "\n",
    "    get_curr_month = get_curr_year_month.split('-')[1]\n",
    "    get_curr_year = get_curr_year_month.split('-')[0]\n",
    "    get_next_month = int(get_curr_month) + 1\n",
    "    get_next_year = int(get_curr_year) + 1\n",
    "\n",
    "    if get_next_month > 12:\n",
    "        \n",
    "        get_next_month = 1;\n",
    "        get_next_year_month = get_curr_year_month.replace(str(f\"-{get_curr_month}\"), str(f\"-{get_next_month}\"))\n",
    "        get_next_year_month = get_next_year_month.replace(str(get_curr_year), str(get_next_year))\n",
    "\n",
    "        count = df_task.loc[(df_task['resolved_at'] < f\"{get_next_year_month}-01\") & \n",
    "                                (df_task['resolved_at'] >= f\"{get_curr_year_month}-01\")]\n",
    "\n",
    "        year_month_count_resolved.append(count.shape[0])\n",
    "    else:\n",
    "        get_next_year_month = get_curr_year_month.replace(str(f\"-{get_curr_month}\"), str(f\"-{get_next_month}\"))\n",
    "\n",
    "        count = df_task.loc[(df_task['resolved_at'] < f\"{get_next_year_month}-01\") & \n",
    "                                (df_task['resolved_at'] >= f\"{get_curr_year_month}-01\")]\n",
    "\n",
    "        year_month_count_resolved.append(count.shape[0])\n",
    "\n",
    "print(year_month_count_resolved)"
   ]
  },
  {
   "cell_type": "code",
   "execution_count": null,
   "metadata": {},
   "outputs": [],
   "source": [
    "# Create DataFrame for 'opened_at' column based on 'year_month_list' and 'year_month_count'\n",
    "df_inc_open_and_close = pd.DataFrame({\n",
    "    \"month_year\": year_month_list,\n",
    "    \"count_open\": year_month_count_opened,\n",
    "    \"count_resolved\": year_month_count_resolved\n",
    "})\n",
    "\n",
    "df_inc_open_and_close"
   ]
  },
  {
   "cell_type": "code",
   "execution_count": null,
   "metadata": {},
   "outputs": [],
   "source": [
    "# Create figure for 'df_inc_open_and_close'\n",
    "colors = px.colors.qualitative.Set3\n",
    "\n",
    "fig2 = go.Figure(data=[\n",
    "    go.Bar(name='Opened', x=get_month_names, y=year_month_count_opened, text=year_month_count_opened, marker=dict(color=colors[4])),\n",
    "    go.Bar(name='Resolved', x=get_month_names, y=year_month_count_resolved, text=year_month_count_resolved, marker=dict(color=colors[3])),\n",
    "])\n",
    "\n",
    "fig2.show()"
   ]
  },
  {
   "cell_type": "markdown",
   "metadata": {},
   "source": [
    "TASK TICKETS"
   ]
  },
  {
   "cell_type": "code",
   "execution_count": null,
   "metadata": {},
   "outputs": [],
   "source": [
    "# Fill any null values\n",
    "df_task['closed_at'].fillna('1/1/2200', inplace=True)\n",
    "df_task.info()"
   ]
  },
  {
   "cell_type": "code",
   "execution_count": null,
   "metadata": {},
   "outputs": [],
   "source": [
    "# Create SCTASK DataFrame\n",
    "\n",
    "d_parser = lambda x: pd.datetime.strptime(x, '%m/%d/%Y')\n",
    "\n",
    "df_task = pd.read_csv('/Users/noel.c.joaquin/Desktop/Python/TASK_YTD_nov2022.csv', parse_dates=['opened_at', 'closed_at'], date_parser = d_parser, encoding='unicode_escape')\n",
    "\n",
    "df_task.head()"
   ]
  },
  {
   "cell_type": "code",
   "execution_count": null,
   "metadata": {},
   "outputs": [],
   "source": [
    "# Get Opened Task Count for each Year-opened_task = []\n",
    "\n",
    "year_month_count_opened_task = []\n",
    "\n",
    "for get_curr_year_month in year_month_list:\n",
    "\n",
    "    get_curr_month = get_curr_year_month.split('-')[1]\n",
    "    get_curr_year = get_curr_year_month.split('-')[0]\n",
    "    get_next_month = int(get_curr_month) + 1\n",
    "    get_next_year = int(get_curr_year) + 1\n",
    "\n",
    "    if get_next_month > 12:\n",
    "        \n",
    "        get_next_month = 1;\n",
    "        get_next_year_month = get_curr_year_month.replace(str(f\"-{get_curr_month}\"), str(f\"-{get_next_month}\"))\n",
    "        get_next_year_month = get_next_year_month.replace(str(get_curr_year), str(get_next_year))\n",
    "\n",
    "        count = df_task.loc[(df_task['opened_at'] < f\"{get_next_year_month}-01\") & \n",
    "                                (df_task['opened_at'] >= f\"{get_curr_year_month}-01\")]\n",
    "\n",
    "        year_month_count_opened_task.append(count.shape[0])\n",
    "    else:\n",
    "        get_next_year_month = get_curr_year_month.replace(str(f\"-{get_curr_month}\"), str(f\"-{get_next_month}\"))\n",
    "\n",
    "        count = df_task.loc[(df_task['opened_at'] < f\"{get_next_year_month}-01\") & \n",
    "                                (df_task['opened_at'] >= f\"{get_curr_year_month}-01\")]\n",
    "\n",
    "        year_month_count_opened_task.append(count.shape[0])\n",
    "\n",
    "print(year_month_count_opened_task)"
   ]
  },
  {
   "cell_type": "code",
   "execution_count": null,
   "metadata": {},
   "outputs": [],
   "source": [
    "# Create DataFrame\n",
    "df_inc_and_task_open = pd.DataFrame({\n",
    "    \"month_year\": year_month_list,\n",
    "    \"count_open_inc\": year_month_count_opened,\n",
    "    \"count_open_task\": year_month_count_opened_task\n",
    "})\n",
    "\n",
    "print(df_inc_and_task_open)"
   ]
  },
  {
   "cell_type": "code",
   "execution_count": null,
   "metadata": {},
   "outputs": [],
   "source": [
    "# Create figure for 'df_inc_and_task_open'\n",
    "colors = px.colors.qualitative.Set3\n",
    "\n",
    "fig3 = go.Figure(data=[\n",
    "    go.Bar(name='Incidents', x=get_month_names, y=year_month_count_opened, text=year_month_count_opened, marker=dict(color=colors[4])),\n",
    "    go.Bar(name='Tasks', x=get_month_names, y=year_month_count_opened_task, text=year_month_count_opened_task, marker=dict(color=colors[3])),\n",
    "])\n",
    "\n",
    "fig3"
   ]
  },
  {
   "cell_type": "code",
   "execution_count": null,
   "metadata": {},
   "outputs": [],
   "source": [
    "# Filler Pie Chart\n",
    "df_pie = px.data.tips()\n",
    "fig_pie = px.pie(df_pie, values='tip', names='day', color='day',\n",
    "             color_discrete_map={'Thur':'lightcyan',\n",
    "                                 'Fri':'cyan',\n",
    "                                 'Sat':'royalblue',\n",
    "                                 'Sun':'darkblue'})\n",
    "fig_pie.show()"
   ]
  },
  {
   "cell_type": "code",
   "execution_count": null,
   "metadata": {},
   "outputs": [],
   "source": [
    "# Create server variable with Flask server object for use with gunicorn\n",
    "server = app.server\n",
    "\n",
    "# Construct App Layout\n",
    "app.layout = html.Div(children=[\n",
    "    html.H1('Analytics Platform Ticket Dashboard'),\n",
    "    dcc.Tabs(id=\"tabs-content-input\", value='current-month', children=[\n",
    "        dcc.Tab(label='Current Month', value='current-month'),\n",
    "        dcc.Tab(label='Last Month', value='last-month'),\n",
    "        dcc.Tab(label='Current Year', value='current-year'),\n",
    "        dcc.Tab(label='Year to Date', value='ytd')\n",
    "    ]),\n",
    "    html.Div(id='tabs-content-output')\n",
    "])\n",
    "\n",
    "@app.callback(Output('tabs-content-output', 'children'),\n",
    "              Input('tabs-content-input', 'value'))\n",
    "def render_content(tab):\n",
    "    if tab == 'current-month':\n",
    "        return html.Div([\n",
    "\n",
    "        ])\n",
    "    elif tab == 'last-month':\n",
    "        return html.Div([\n",
    "\n",
    "        ])\n",
    "    elif tab == 'current-year':\n",
    "        return html.Div([\n",
    "\n",
    "        ])\n",
    "    elif tab == 'ytd':\n",
    "        return html.Div([\n",
    "\n",
    "        ])\n",
    "\n",
    "app.run_server()"
   ]
  },
  {
   "cell_type": "code",
   "execution_count": null,
   "metadata": {},
   "outputs": [],
   "source": []
  }
 ],
 "metadata": {
  "kernelspec": {
   "display_name": "Python 3.10.4 64-bit",
   "language": "python",
   "name": "python3"
  },
  "language_info": {
   "codemirror_mode": {
    "name": "ipython",
    "version": 3
   },
   "file_extension": ".py",
   "mimetype": "text/x-python",
   "name": "python",
   "nbconvert_exporter": "python",
   "pygments_lexer": "ipython3",
   "version": "3.10.4"
  },
  "orig_nbformat": 4,
  "vscode": {
   "interpreter": {
    "hash": "b769e006912ec37d22d70e5a86561f700ac3296e9c585175429d129c45e25b86"
   }
  }
 },
 "nbformat": 4,
 "nbformat_minor": 2
}
