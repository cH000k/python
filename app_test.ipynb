{
 "cells": [
  {
   "cell_type": "code",
   "execution_count": 126,
   "metadata": {},
   "outputs": [],
   "source": [
    "import dash\n",
    "# import dash_core_components as dcc\n",
    "from dash import dcc\n",
    "# import dash_html_components as html\n",
    "from dash import html\n",
    "from dash import dash_table\n",
    "import dash_bootstrap_components as dbc"
   ]
  },
  {
   "cell_type": "code",
   "execution_count": 127,
   "metadata": {},
   "outputs": [],
   "source": [
    "import pandas as pd\n",
    "import plotly.express as px\n",
    "import plotly.graph_objects as go\n",
    "from datetime import date\n",
    "from pandasql import sqldf"
   ]
  },
  {
   "cell_type": "code",
   "execution_count": 128,
   "metadata": {},
   "outputs": [],
   "source": [
    "from jupyter_dash import JupyterDash\n",
    "from dash.dependencies import Input, Output\n",
    "app = JupyterDash(__name__, external_stylesheets=[dbc.themes.MATERIA])\n"
   ]
  },
  {
   "cell_type": "code",
   "execution_count": 129,
   "metadata": {},
   "outputs": [
    {
     "data": {
      "text/plain": [
       "(28, 7)"
      ]
     },
     "execution_count": 129,
     "metadata": {},
     "output_type": "execute_result"
    }
   ],
   "source": [
    "df3 = pd.read_csv(\"test_data_2.csv\")\n",
    "df3.shape"
   ]
  },
  {
   "cell_type": "code",
   "execution_count": 130,
   "metadata": {},
   "outputs": [
    {
     "data": {
      "text/plain": [
       "False"
      ]
     },
     "execution_count": 130,
     "metadata": {},
     "output_type": "execute_result"
    }
   ],
   "source": [
    "\"5_2024\" in df3['Month'].values"
   ]
  },
  {
   "cell_type": "code",
   "execution_count": 131,
   "metadata": {},
   "outputs": [
    {
     "data": {
      "text/plain": [
       "(28, 7)"
      ]
     },
     "execution_count": 131,
     "metadata": {},
     "output_type": "execute_result"
    }
   ],
   "source": [
    "dfdfdfdf = df3[df3.Month != \"12_2023\"]\n",
    "dfdfdfdf.shape"
   ]
  },
  {
   "cell_type": "code",
   "execution_count": null,
   "metadata": {},
   "outputs": [],
   "source": []
  },
  {
   "cell_type": "code",
   "execution_count": 132,
   "metadata": {},
   "outputs": [],
   "source": [
    "# import plotly.express as px\n",
    "# df = px.data.tips()\n",
    "# fig = px.histogram(df2, x=\"By Product Type\", y=\"Total Resolved\",\n",
    "#              color='By Product Type', barmode='group')\n",
    "# fig.show()"
   ]
  },
  {
   "cell_type": "code",
   "execution_count": 133,
   "metadata": {},
   "outputs": [],
   "source": [
    "# fig_pt = px.bar(df2, x=\"By Product Type\", y=\"Total Resolved\", barmode=\"group\", text_auto=True, color=\"By Product Type\", width=800) #title=\"By Product Type\")\n",
    "# fig_pt.update_traces(textposition='outside', width=1.2)"
   ]
  },
  {
   "cell_type": "code",
   "execution_count": 134,
   "metadata": {},
   "outputs": [
    {
     "data": {
      "text/html": [
       "<div>\n",
       "<style scoped>\n",
       "    .dataframe tbody tr th:only-of-type {\n",
       "        vertical-align: middle;\n",
       "    }\n",
       "\n",
       "    .dataframe tbody tr th {\n",
       "        vertical-align: top;\n",
       "    }\n",
       "\n",
       "    .dataframe thead th {\n",
       "        text-align: right;\n",
       "    }\n",
       "</style>\n",
       "<table border=\"1\" class=\"dataframe\">\n",
       "  <thead>\n",
       "    <tr style=\"text-align: right;\">\n",
       "      <th></th>\n",
       "      <th>By Product Type</th>\n",
       "      <th>Total Opened</th>\n",
       "      <th>SLA MET</th>\n",
       "      <th>SLA MISSED</th>\n",
       "      <th>Total Resolved</th>\n",
       "      <th>Data Source</th>\n",
       "      <th>Month</th>\n",
       "    </tr>\n",
       "  </thead>\n",
       "  <tbody>\n",
       "    <tr>\n",
       "      <th>23</th>\n",
       "      <td>Reporting Hub</td>\n",
       "      <td>1</td>\n",
       "      <td>2</td>\n",
       "      <td>1</td>\n",
       "      <td>3</td>\n",
       "      <td>NaN</td>\n",
       "      <td>2024_11</td>\n",
       "    </tr>\n",
       "    <tr>\n",
       "      <th>24</th>\n",
       "      <td>HCTA</td>\n",
       "      <td>2</td>\n",
       "      <td>2</td>\n",
       "      <td>0</td>\n",
       "      <td>2</td>\n",
       "      <td>NaN</td>\n",
       "      <td>2024_12</td>\n",
       "    </tr>\n",
       "    <tr>\n",
       "      <th>25</th>\n",
       "      <td>OD</td>\n",
       "      <td>3</td>\n",
       "      <td>1</td>\n",
       "      <td>1</td>\n",
       "      <td>2</td>\n",
       "      <td>NaN</td>\n",
       "      <td>2024_12</td>\n",
       "    </tr>\n",
       "    <tr>\n",
       "      <th>26</th>\n",
       "      <td>PMT</td>\n",
       "      <td>4</td>\n",
       "      <td>1</td>\n",
       "      <td>0</td>\n",
       "      <td>1</td>\n",
       "      <td>NaN</td>\n",
       "      <td>2024_12</td>\n",
       "    </tr>\n",
       "    <tr>\n",
       "      <th>27</th>\n",
       "      <td>Reporting Hub</td>\n",
       "      <td>1</td>\n",
       "      <td>1</td>\n",
       "      <td>1</td>\n",
       "      <td>2</td>\n",
       "      <td>NaN</td>\n",
       "      <td>2024_12</td>\n",
       "    </tr>\n",
       "  </tbody>\n",
       "</table>\n",
       "</div>"
      ],
      "text/plain": [
       "   By Product Type  Total Opened  SLA MET  SLA MISSED  Total Resolved  \\\n",
       "23   Reporting Hub             1        2           1               3   \n",
       "24            HCTA             2        2           0               2   \n",
       "25              OD             3        1           1               2   \n",
       "26             PMT             4        1           0               1   \n",
       "27   Reporting Hub             1        1           1               2   \n",
       "\n",
       "    Data Source    Month  \n",
       "23          NaN  2024_11  \n",
       "24          NaN  2024_12  \n",
       "25          NaN  2024_12  \n",
       "26          NaN  2024_12  \n",
       "27          NaN  2024_12  "
      ]
     },
     "execution_count": 134,
     "metadata": {},
     "output_type": "execute_result"
    }
   ],
   "source": [
    "df3.tail()"
   ]
  },
  {
   "cell_type": "code",
   "execution_count": 192,
   "metadata": {},
   "outputs": [
    {
     "name": "stdout",
     "output_type": "stream",
     "text": [
      "month_list_1m: ['2024_12']\n",
      "month_list_3m: ['2024_04', '2024_11', '2024_12']\n"
     ]
    }
   ],
   "source": [
    "def get_rep_month_list(df, date_range):\n",
    "    month_list = list(set([x for x in df[\"Month\"]]))\n",
    "    # month_list = ['2023_12', '2024_12', '2024_01', '2024_02', '2024_03', '2024_04','2024_11']\n",
    "    month_list.sort()\n",
    "    if date_range == 1:\n",
    "        return month_list[-1:]\n",
    "    if date_range == 3:\n",
    "        return month_list[-3:]\n",
    "    return print(\"Please provide a valid date range: 1 or 3\")\n",
    "\n",
    "month_list_1m = get_rep_month_list(df3, 1)\n",
    "month_list_3m = get_rep_month_list(df3, 3)\n",
    "print(f\"month_list_1m: {month_list_1m}\")\n",
    "print(f\"month_list_3m: {month_list_3m}\")"
   ]
  },
  {
   "cell_type": "code",
   "execution_count": 199,
   "metadata": {},
   "outputs": [],
   "source": [
    "# df_prod_type_1m_mask = df3['Month'].isin(month_list_1m)\n",
    "# df_prod_type_1m = df3[df_prod_type_1m_mask]\n",
    "# df_prod_type_1m\n",
    "\n",
    "def get_report_by_range(df, month_list):\n",
    "    mask = df['Month'].isin(month_list)\n",
    "    return df[mask]\n",
    "\n",
    "prod_type_1m = get_report_by_range(df3, month_list_1m)\n",
    "prod_type_3m = get_report_by_range(df3, month_list_3m)\n",
    "# prod_type_1m\n",
    "# prod_type_3m"
   ]
  },
  {
   "cell_type": "code",
   "execution_count": 201,
   "metadata": {},
   "outputs": [
    {
     "data": {
      "application/vnd.plotly.v1+json": {
       "config": {
        "plotlyServerURL": "https://plot.ly"
       },
       "data": [
        {
         "alignmentgroup": "True",
         "hovertemplate": "By Product Type=%{x}<br>Total Resolved=%{y}<extra></extra>",
         "legendgroup": "HCTA",
         "marker": {
          "color": "#636efa",
          "pattern": {
           "shape": ""
          }
         },
         "name": "HCTA",
         "offsetgroup": "HCTA",
         "orientation": "v",
         "showlegend": true,
         "textposition": "outside",
         "texttemplate": "%{y}",
         "type": "bar",
         "width": 1.2,
         "x": [
          "HCTA"
         ],
         "xaxis": "x",
         "y": [
          2
         ],
         "yaxis": "y"
        },
        {
         "alignmentgroup": "True",
         "hovertemplate": "By Product Type=%{x}<br>Total Resolved=%{y}<extra></extra>",
         "legendgroup": "OD",
         "marker": {
          "color": "#EF553B",
          "pattern": {
           "shape": ""
          }
         },
         "name": "OD",
         "offsetgroup": "OD",
         "orientation": "v",
         "showlegend": true,
         "textposition": "outside",
         "texttemplate": "%{y}",
         "type": "bar",
         "width": 1.2,
         "x": [
          "OD"
         ],
         "xaxis": "x",
         "y": [
          2
         ],
         "yaxis": "y"
        },
        {
         "alignmentgroup": "True",
         "hovertemplate": "By Product Type=%{x}<br>Total Resolved=%{y}<extra></extra>",
         "legendgroup": "PMT",
         "marker": {
          "color": "#00cc96",
          "pattern": {
           "shape": ""
          }
         },
         "name": "PMT",
         "offsetgroup": "PMT",
         "orientation": "v",
         "showlegend": true,
         "textposition": "outside",
         "texttemplate": "%{y}",
         "type": "bar",
         "width": 1.2,
         "x": [
          "PMT"
         ],
         "xaxis": "x",
         "y": [
          1
         ],
         "yaxis": "y"
        },
        {
         "alignmentgroup": "True",
         "hovertemplate": "By Product Type=%{x}<br>Total Resolved=%{y}<extra></extra>",
         "legendgroup": "Reporting Hub",
         "marker": {
          "color": "#ab63fa",
          "pattern": {
           "shape": ""
          }
         },
         "name": "Reporting Hub",
         "offsetgroup": "Reporting Hub",
         "orientation": "v",
         "showlegend": true,
         "textposition": "outside",
         "texttemplate": "%{y}",
         "type": "bar",
         "width": 1.2,
         "x": [
          "Reporting Hub"
         ],
         "xaxis": "x",
         "y": [
          2
         ],
         "yaxis": "y"
        }
       ],
       "layout": {
        "barmode": "group",
        "legend": {
         "title": {
          "text": "By Product Type"
         },
         "tracegroupgap": 0
        },
        "margin": {
         "t": 60
        },
        "template": {
         "data": {
          "bar": [
           {
            "error_x": {
             "color": "#2a3f5f"
            },
            "error_y": {
             "color": "#2a3f5f"
            },
            "marker": {
             "line": {
              "color": "#E5ECF6",
              "width": 0.5
             },
             "pattern": {
              "fillmode": "overlay",
              "size": 10,
              "solidity": 0.2
             }
            },
            "type": "bar"
           }
          ],
          "barpolar": [
           {
            "marker": {
             "line": {
              "color": "#E5ECF6",
              "width": 0.5
             },
             "pattern": {
              "fillmode": "overlay",
              "size": 10,
              "solidity": 0.2
             }
            },
            "type": "barpolar"
           }
          ],
          "carpet": [
           {
            "aaxis": {
             "endlinecolor": "#2a3f5f",
             "gridcolor": "white",
             "linecolor": "white",
             "minorgridcolor": "white",
             "startlinecolor": "#2a3f5f"
            },
            "baxis": {
             "endlinecolor": "#2a3f5f",
             "gridcolor": "white",
             "linecolor": "white",
             "minorgridcolor": "white",
             "startlinecolor": "#2a3f5f"
            },
            "type": "carpet"
           }
          ],
          "choropleth": [
           {
            "colorbar": {
             "outlinewidth": 0,
             "ticks": ""
            },
            "type": "choropleth"
           }
          ],
          "contour": [
           {
            "colorbar": {
             "outlinewidth": 0,
             "ticks": ""
            },
            "colorscale": [
             [
              0,
              "#0d0887"
             ],
             [
              0.1111111111111111,
              "#46039f"
             ],
             [
              0.2222222222222222,
              "#7201a8"
             ],
             [
              0.3333333333333333,
              "#9c179e"
             ],
             [
              0.4444444444444444,
              "#bd3786"
             ],
             [
              0.5555555555555556,
              "#d8576b"
             ],
             [
              0.6666666666666666,
              "#ed7953"
             ],
             [
              0.7777777777777778,
              "#fb9f3a"
             ],
             [
              0.8888888888888888,
              "#fdca26"
             ],
             [
              1,
              "#f0f921"
             ]
            ],
            "type": "contour"
           }
          ],
          "contourcarpet": [
           {
            "colorbar": {
             "outlinewidth": 0,
             "ticks": ""
            },
            "type": "contourcarpet"
           }
          ],
          "heatmap": [
           {
            "colorbar": {
             "outlinewidth": 0,
             "ticks": ""
            },
            "colorscale": [
             [
              0,
              "#0d0887"
             ],
             [
              0.1111111111111111,
              "#46039f"
             ],
             [
              0.2222222222222222,
              "#7201a8"
             ],
             [
              0.3333333333333333,
              "#9c179e"
             ],
             [
              0.4444444444444444,
              "#bd3786"
             ],
             [
              0.5555555555555556,
              "#d8576b"
             ],
             [
              0.6666666666666666,
              "#ed7953"
             ],
             [
              0.7777777777777778,
              "#fb9f3a"
             ],
             [
              0.8888888888888888,
              "#fdca26"
             ],
             [
              1,
              "#f0f921"
             ]
            ],
            "type": "heatmap"
           }
          ],
          "heatmapgl": [
           {
            "colorbar": {
             "outlinewidth": 0,
             "ticks": ""
            },
            "colorscale": [
             [
              0,
              "#0d0887"
             ],
             [
              0.1111111111111111,
              "#46039f"
             ],
             [
              0.2222222222222222,
              "#7201a8"
             ],
             [
              0.3333333333333333,
              "#9c179e"
             ],
             [
              0.4444444444444444,
              "#bd3786"
             ],
             [
              0.5555555555555556,
              "#d8576b"
             ],
             [
              0.6666666666666666,
              "#ed7953"
             ],
             [
              0.7777777777777778,
              "#fb9f3a"
             ],
             [
              0.8888888888888888,
              "#fdca26"
             ],
             [
              1,
              "#f0f921"
             ]
            ],
            "type": "heatmapgl"
           }
          ],
          "histogram": [
           {
            "marker": {
             "pattern": {
              "fillmode": "overlay",
              "size": 10,
              "solidity": 0.2
             }
            },
            "type": "histogram"
           }
          ],
          "histogram2d": [
           {
            "colorbar": {
             "outlinewidth": 0,
             "ticks": ""
            },
            "colorscale": [
             [
              0,
              "#0d0887"
             ],
             [
              0.1111111111111111,
              "#46039f"
             ],
             [
              0.2222222222222222,
              "#7201a8"
             ],
             [
              0.3333333333333333,
              "#9c179e"
             ],
             [
              0.4444444444444444,
              "#bd3786"
             ],
             [
              0.5555555555555556,
              "#d8576b"
             ],
             [
              0.6666666666666666,
              "#ed7953"
             ],
             [
              0.7777777777777778,
              "#fb9f3a"
             ],
             [
              0.8888888888888888,
              "#fdca26"
             ],
             [
              1,
              "#f0f921"
             ]
            ],
            "type": "histogram2d"
           }
          ],
          "histogram2dcontour": [
           {
            "colorbar": {
             "outlinewidth": 0,
             "ticks": ""
            },
            "colorscale": [
             [
              0,
              "#0d0887"
             ],
             [
              0.1111111111111111,
              "#46039f"
             ],
             [
              0.2222222222222222,
              "#7201a8"
             ],
             [
              0.3333333333333333,
              "#9c179e"
             ],
             [
              0.4444444444444444,
              "#bd3786"
             ],
             [
              0.5555555555555556,
              "#d8576b"
             ],
             [
              0.6666666666666666,
              "#ed7953"
             ],
             [
              0.7777777777777778,
              "#fb9f3a"
             ],
             [
              0.8888888888888888,
              "#fdca26"
             ],
             [
              1,
              "#f0f921"
             ]
            ],
            "type": "histogram2dcontour"
           }
          ],
          "mesh3d": [
           {
            "colorbar": {
             "outlinewidth": 0,
             "ticks": ""
            },
            "type": "mesh3d"
           }
          ],
          "parcoords": [
           {
            "line": {
             "colorbar": {
              "outlinewidth": 0,
              "ticks": ""
             }
            },
            "type": "parcoords"
           }
          ],
          "pie": [
           {
            "automargin": true,
            "type": "pie"
           }
          ],
          "scatter": [
           {
            "fillpattern": {
             "fillmode": "overlay",
             "size": 10,
             "solidity": 0.2
            },
            "type": "scatter"
           }
          ],
          "scatter3d": [
           {
            "line": {
             "colorbar": {
              "outlinewidth": 0,
              "ticks": ""
             }
            },
            "marker": {
             "colorbar": {
              "outlinewidth": 0,
              "ticks": ""
             }
            },
            "type": "scatter3d"
           }
          ],
          "scattercarpet": [
           {
            "marker": {
             "colorbar": {
              "outlinewidth": 0,
              "ticks": ""
             }
            },
            "type": "scattercarpet"
           }
          ],
          "scattergeo": [
           {
            "marker": {
             "colorbar": {
              "outlinewidth": 0,
              "ticks": ""
             }
            },
            "type": "scattergeo"
           }
          ],
          "scattergl": [
           {
            "marker": {
             "colorbar": {
              "outlinewidth": 0,
              "ticks": ""
             }
            },
            "type": "scattergl"
           }
          ],
          "scattermapbox": [
           {
            "marker": {
             "colorbar": {
              "outlinewidth": 0,
              "ticks": ""
             }
            },
            "type": "scattermapbox"
           }
          ],
          "scatterpolar": [
           {
            "marker": {
             "colorbar": {
              "outlinewidth": 0,
              "ticks": ""
             }
            },
            "type": "scatterpolar"
           }
          ],
          "scatterpolargl": [
           {
            "marker": {
             "colorbar": {
              "outlinewidth": 0,
              "ticks": ""
             }
            },
            "type": "scatterpolargl"
           }
          ],
          "scatterternary": [
           {
            "marker": {
             "colorbar": {
              "outlinewidth": 0,
              "ticks": ""
             }
            },
            "type": "scatterternary"
           }
          ],
          "surface": [
           {
            "colorbar": {
             "outlinewidth": 0,
             "ticks": ""
            },
            "colorscale": [
             [
              0,
              "#0d0887"
             ],
             [
              0.1111111111111111,
              "#46039f"
             ],
             [
              0.2222222222222222,
              "#7201a8"
             ],
             [
              0.3333333333333333,
              "#9c179e"
             ],
             [
              0.4444444444444444,
              "#bd3786"
             ],
             [
              0.5555555555555556,
              "#d8576b"
             ],
             [
              0.6666666666666666,
              "#ed7953"
             ],
             [
              0.7777777777777778,
              "#fb9f3a"
             ],
             [
              0.8888888888888888,
              "#fdca26"
             ],
             [
              1,
              "#f0f921"
             ]
            ],
            "type": "surface"
           }
          ],
          "table": [
           {
            "cells": {
             "fill": {
              "color": "#EBF0F8"
             },
             "line": {
              "color": "white"
             }
            },
            "header": {
             "fill": {
              "color": "#C8D4E3"
             },
             "line": {
              "color": "white"
             }
            },
            "type": "table"
           }
          ]
         },
         "layout": {
          "annotationdefaults": {
           "arrowcolor": "#2a3f5f",
           "arrowhead": 0,
           "arrowwidth": 1
          },
          "autotypenumbers": "strict",
          "coloraxis": {
           "colorbar": {
            "outlinewidth": 0,
            "ticks": ""
           }
          },
          "colorscale": {
           "diverging": [
            [
             0,
             "#8e0152"
            ],
            [
             0.1,
             "#c51b7d"
            ],
            [
             0.2,
             "#de77ae"
            ],
            [
             0.3,
             "#f1b6da"
            ],
            [
             0.4,
             "#fde0ef"
            ],
            [
             0.5,
             "#f7f7f7"
            ],
            [
             0.6,
             "#e6f5d0"
            ],
            [
             0.7,
             "#b8e186"
            ],
            [
             0.8,
             "#7fbc41"
            ],
            [
             0.9,
             "#4d9221"
            ],
            [
             1,
             "#276419"
            ]
           ],
           "sequential": [
            [
             0,
             "#0d0887"
            ],
            [
             0.1111111111111111,
             "#46039f"
            ],
            [
             0.2222222222222222,
             "#7201a8"
            ],
            [
             0.3333333333333333,
             "#9c179e"
            ],
            [
             0.4444444444444444,
             "#bd3786"
            ],
            [
             0.5555555555555556,
             "#d8576b"
            ],
            [
             0.6666666666666666,
             "#ed7953"
            ],
            [
             0.7777777777777778,
             "#fb9f3a"
            ],
            [
             0.8888888888888888,
             "#fdca26"
            ],
            [
             1,
             "#f0f921"
            ]
           ],
           "sequentialminus": [
            [
             0,
             "#0d0887"
            ],
            [
             0.1111111111111111,
             "#46039f"
            ],
            [
             0.2222222222222222,
             "#7201a8"
            ],
            [
             0.3333333333333333,
             "#9c179e"
            ],
            [
             0.4444444444444444,
             "#bd3786"
            ],
            [
             0.5555555555555556,
             "#d8576b"
            ],
            [
             0.6666666666666666,
             "#ed7953"
            ],
            [
             0.7777777777777778,
             "#fb9f3a"
            ],
            [
             0.8888888888888888,
             "#fdca26"
            ],
            [
             1,
             "#f0f921"
            ]
           ]
          },
          "colorway": [
           "#636efa",
           "#EF553B",
           "#00cc96",
           "#ab63fa",
           "#FFA15A",
           "#19d3f3",
           "#FF6692",
           "#B6E880",
           "#FF97FF",
           "#FECB52"
          ],
          "font": {
           "color": "#2a3f5f"
          },
          "geo": {
           "bgcolor": "white",
           "lakecolor": "white",
           "landcolor": "#E5ECF6",
           "showlakes": true,
           "showland": true,
           "subunitcolor": "white"
          },
          "hoverlabel": {
           "align": "left"
          },
          "hovermode": "closest",
          "mapbox": {
           "style": "light"
          },
          "paper_bgcolor": "white",
          "plot_bgcolor": "#E5ECF6",
          "polar": {
           "angularaxis": {
            "gridcolor": "white",
            "linecolor": "white",
            "ticks": ""
           },
           "bgcolor": "#E5ECF6",
           "radialaxis": {
            "gridcolor": "white",
            "linecolor": "white",
            "ticks": ""
           }
          },
          "scene": {
           "xaxis": {
            "backgroundcolor": "#E5ECF6",
            "gridcolor": "white",
            "gridwidth": 2,
            "linecolor": "white",
            "showbackground": true,
            "ticks": "",
            "zerolinecolor": "white"
           },
           "yaxis": {
            "backgroundcolor": "#E5ECF6",
            "gridcolor": "white",
            "gridwidth": 2,
            "linecolor": "white",
            "showbackground": true,
            "ticks": "",
            "zerolinecolor": "white"
           },
           "zaxis": {
            "backgroundcolor": "#E5ECF6",
            "gridcolor": "white",
            "gridwidth": 2,
            "linecolor": "white",
            "showbackground": true,
            "ticks": "",
            "zerolinecolor": "white"
           }
          },
          "shapedefaults": {
           "line": {
            "color": "#2a3f5f"
           }
          },
          "ternary": {
           "aaxis": {
            "gridcolor": "white",
            "linecolor": "white",
            "ticks": ""
           },
           "baxis": {
            "gridcolor": "white",
            "linecolor": "white",
            "ticks": ""
           },
           "bgcolor": "#E5ECF6",
           "caxis": {
            "gridcolor": "white",
            "linecolor": "white",
            "ticks": ""
           }
          },
          "title": {
           "x": 0.05
          },
          "xaxis": {
           "automargin": true,
           "gridcolor": "white",
           "linecolor": "white",
           "ticks": "",
           "title": {
            "standoff": 15
           },
           "zerolinecolor": "white",
           "zerolinewidth": 2
          },
          "yaxis": {
           "automargin": true,
           "gridcolor": "white",
           "linecolor": "white",
           "ticks": "",
           "title": {
            "standoff": 15
           },
           "zerolinecolor": "white",
           "zerolinewidth": 2
          }
         }
        },
        "width": 800,
        "xaxis": {
         "anchor": "y",
         "categoryarray": [
          "HCTA",
          "OD",
          "PMT",
          "Reporting Hub"
         ],
         "categoryorder": "array",
         "domain": [
          0,
          1
         ],
         "title": {
          "text": "By Product Type"
         }
        },
        "yaxis": {
         "anchor": "x",
         "domain": [
          0,
          1
         ],
         "title": {
          "text": "Total Resolved"
         }
        }
       }
      }
     },
     "metadata": {},
     "output_type": "display_data"
    }
   ],
   "source": [
    "def my_graph(df, date_range):\n",
    "    report_type = df.columns[0]\n",
    "    month_list = get_rep_month_list(df, date_range)\n",
    "    df_report = get_report_by_range(df, month_list)\n",
    "    if date_range == 1:\n",
    "        fig = px.bar(df_report, x=report_type, y=\"Total Resolved\", barmode=\"group\", text_auto=True, color=report_type, width=800)\n",
    "        fig.update_traces(textposition='outside', width=1.2)\n",
    "        return fig\n",
    "    if date_range == 3:\n",
    "        fig = px.bar(df_report, x=\"Month\", y=\"Total Resolved\", barmode=\"group\", text_auto=True, color=report_type, width=800)\n",
    "        fig.update_traces(textposition='outside')\n",
    "        return fig\n",
    "    return \"Input Error\"\n",
    "\n",
    "my_graph(df3, 1)"
   ]
  },
  {
   "cell_type": "code",
   "execution_count": null,
   "metadata": {},
   "outputs": [],
   "source": []
  },
  {
   "attachments": {},
   "cell_type": "markdown",
   "metadata": {},
   "source": [
    "IMPORT INCIDENT TICKETS"
   ]
  },
  {
   "cell_type": "code",
   "execution_count": 138,
   "metadata": {},
   "outputs": [],
   "source": [
    "# Create initial Dataframe\n",
    "df_incident = pd.read_csv('/Users/noel.c.joaquin/Desktop/BASE_DATA/INC_YTD_nov2022.csv')\n",
    "# df_incident.info()"
   ]
  },
  {
   "cell_type": "code",
   "execution_count": 139,
   "metadata": {},
   "outputs": [],
   "source": [
    "# Replace NaN values with '01-01-2200' \n",
    "df_incident['resolved_at'].fillna('01/01/2200', inplace=True)\n",
    "df_incident['closed_at'].fillna('01/01/2200', inplace=True)\n",
    "df_incident['u_research_assessment'].fillna('Empty', inplace=True)\n",
    "df_incident['u_previous_assignment_group'].fillna('Analytics Platform L1 Support', inplace=True)\n",
    "df_incident['reassignment_count'].fillna('1', inplace=True)\n",
    "# df_incident.info()"
   ]
  },
  {
   "cell_type": "code",
   "execution_count": 140,
   "metadata": {},
   "outputs": [],
   "source": [
    "# Save new Dataframe \n",
    "df_incident.to_csv('/Users/noel.c.joaquin/Desktop/Python/INC_YTD_nov2022.csv', index=False)"
   ]
  },
  {
   "cell_type": "code",
   "execution_count": 141,
   "metadata": {},
   "outputs": [
    {
     "name": "stderr",
     "output_type": "stream",
     "text": [
      "C:\\Users\\noel.c.joaquin\\AppData\\Local\\Temp\\ipykernel_18704\\1158756277.py:2: FutureWarning:\n",
      "\n",
      "The pandas.datetime class is deprecated and will be removed from pandas in a future version. Import from datetime module instead.\n",
      "\n",
      "C:\\Users\\noel.c.joaquin\\AppData\\Local\\Temp\\ipykernel_18704\\1158756277.py:2: FutureWarning:\n",
      "\n",
      "The pandas.datetime class is deprecated and will be removed from pandas in a future version. Import from datetime module instead.\n",
      "\n",
      "C:\\Users\\noel.c.joaquin\\AppData\\Local\\Temp\\ipykernel_18704\\1158756277.py:2: FutureWarning:\n",
      "\n",
      "The pandas.datetime class is deprecated and will be removed from pandas in a future version. Import from datetime module instead.\n",
      "\n"
     ]
    }
   ],
   "source": [
    "# Recreate Dataframe and conver Date columns to Datetime format\n",
    "d_parser = lambda x: pd.datetime.strptime(x, '%m/%d/%Y')\n",
    "\n",
    "df_incident = pd.read_csv('/Users/noel.c.joaquin/Desktop/Python/INC_YTD_nov2022.csv', parse_dates=['opened_at', 'closed_at', 'resolved_at'],\n",
    "                            date_parser = d_parser , encoding = 'unicode_escape')\n",
    "                            \n",
    "# df_incident.head()"
   ]
  },
  {
   "attachments": {},
   "cell_type": "markdown",
   "metadata": {},
   "source": [
    "IMPORT TASK TICKETS"
   ]
  },
  {
   "cell_type": "code",
   "execution_count": 142,
   "metadata": {},
   "outputs": [],
   "source": [
    "# Create initial Dataframe\n",
    "df_task = pd.read_csv('/Users/noel.c.joaquin/Desktop/BASE_DATA/TASK_YTD_nov2022.csv')\n",
    "# df_task.info()"
   ]
  },
  {
   "cell_type": "code",
   "execution_count": 143,
   "metadata": {},
   "outputs": [],
   "source": [
    "# Fill any null values\n",
    "df_task['closed_at'].fillna('01/01/2200', inplace=True)\n",
    "# df_task.info()"
   ]
  },
  {
   "cell_type": "code",
   "execution_count": 144,
   "metadata": {},
   "outputs": [],
   "source": [
    "# Save new Dataframe \n",
    "df_task.to_csv('/Users/noel.c.joaquin/Desktop/Python/TASK_YTD_nov2022.csv', index=False)"
   ]
  },
  {
   "cell_type": "code",
   "execution_count": 145,
   "metadata": {},
   "outputs": [
    {
     "name": "stderr",
     "output_type": "stream",
     "text": [
      "C:\\Users\\noel.c.joaquin\\AppData\\Local\\Temp\\ipykernel_18704\\2542818920.py:2: FutureWarning:\n",
      "\n",
      "The pandas.datetime class is deprecated and will be removed from pandas in a future version. Import from datetime module instead.\n",
      "\n",
      "C:\\Users\\noel.c.joaquin\\AppData\\Local\\Temp\\ipykernel_18704\\2542818920.py:2: FutureWarning:\n",
      "\n",
      "The pandas.datetime class is deprecated and will be removed from pandas in a future version. Import from datetime module instead.\n",
      "\n"
     ]
    }
   ],
   "source": [
    "# Create SCTASK DataFrame\n",
    "d_parser = lambda x: pd.datetime.strptime(x, '%m/%d/%Y')\n",
    "\n",
    "df_task = pd.read_csv('/Users/noel.c.joaquin/Desktop/Python/TASK_YTD_nov2022.csv', parse_dates=['opened_at', 'closed_at'], date_parser = d_parser, encoding='unicode_escape')\n",
    "\n",
    "# df_task.head()"
   ]
  },
  {
   "attachments": {},
   "cell_type": "markdown",
   "metadata": {},
   "source": [
    "GLOBAL VARIABLES"
   ]
  },
  {
   "cell_type": "code",
   "execution_count": 146,
   "metadata": {},
   "outputs": [
    {
     "name": "stdout",
     "output_type": "stream",
     "text": [
      "--- INITIAL DATA ---\n",
      "month_date_today: 2024-03-20\n",
      "split_month_date_today: ['2024', '03', '01']\n",
      "get_last_year : 2023\n",
      "get_last_month: 2\n",
      "month_first_day: 2024-03-01\n",
      "year_first_day: 2024-01-01\n",
      "--- RESULTING DATA ---\n",
      "month_date_today: 2024-03-20\n",
      "split_month_date_today: ['2024', '2', '01']\n",
      "get_last_year : 2023\n",
      "get_last_month: 2\n",
      "month_first_day: 2024-03-01\n",
      "year_first_day: 2024-01-01\n",
      "last_month: 2024-2-01\n"
     ]
    }
   ],
   "source": [
    "print(\"--- INITIAL DATA ---\")\n",
    "\n",
    "month_date_today = date.today()\n",
    "print(f\"month_date_today: {month_date_today}\")\n",
    "\n",
    "# Get first day of current month\n",
    "split_month_date_today = str(month_date_today).split('-')\n",
    "split_month_date_today[2] = '01'\n",
    "print(f\"split_month_date_today: {split_month_date_today}\")\n",
    "\n",
    "\n",
    "# Get Year Last Year\n",
    "get_last_year = str(int(split_month_date_today[0]) - 1 )\n",
    "print(f\"get_last_year : {get_last_year }\")\n",
    "\n",
    "# Get Month of Last Month\n",
    "get_last_month = str(int(split_month_date_today[1]) - 1 )\n",
    "print(f\"get_last_month: {get_last_month}\")\n",
    "\n",
    "# split_year_today = split_month_date_today[0]\n",
    "# Get Date for first date of current month\n",
    "month_first_day = '-'.join([str(elem) for elem in split_month_date_today])\n",
    "print(f\"month_first_day: {month_first_day}\")\n",
    "\n",
    "\n",
    "# Get January 01 of current year\n",
    "split_month_date_today[1] = '01'\n",
    "year_first_day = '-'.join([str(elem) for elem in split_month_date_today])\n",
    "print(f\"year_first_day: {year_first_day}\")\n",
    "\n",
    "# # Applicable during new year January\n",
    "if get_last_month == '0':\n",
    "    get_last_month = '12'\n",
    "    split_month_date_today[0] = get_last_year\n",
    "    split_month_date_today[1] = get_last_month = '12'\n",
    "    last_month = '-'.join([str(elem) for elem in split_month_date_today])\n",
    "else:\n",
    "    split_month_date_today[1] = get_last_month\n",
    "    last_month = '-'.join([str(elem) for elem in split_month_date_today])\n",
    "    \n",
    "\n",
    "research_assessment_types = df_incident[\"u_research_assessment\"].unique().tolist()\n",
    "\n",
    "print(\"--- RESULTING DATA ---\")\n",
    "print(f\"month_date_today: {month_date_today}\")\n",
    "print(f\"split_month_date_today: {split_month_date_today}\")\n",
    "print(f\"get_last_year : {get_last_year }\")\n",
    "print(f\"get_last_month: {get_last_month}\")\n",
    "print(f\"month_first_day: {month_first_day}\")\n",
    "print(f\"year_first_day: {year_first_day}\")\n",
    "print(f\"last_month: {last_month}\")\n",
    "# print(research_assessment_types)\n",
    "# print(\"-----------\")\n",
    "# for i in research_assessment_types:\n",
    "#     print(i)\n"
   ]
  },
  {
   "attachments": {},
   "cell_type": "markdown",
   "metadata": {},
   "source": [
    "[CARD] Incident and Tasks Count"
   ]
  },
  {
   "cell_type": "code",
   "execution_count": 147,
   "metadata": {},
   "outputs": [],
   "source": [
    "def ticket_count_opened(timeline, df):    \n",
    "    count = 0\n",
    "\n",
    "    if timeline == 'current-month':\n",
    "        date_filter = (df['opened_at'] >= month_first_day)\n",
    "        count = len(date_filter.loc[date_filter])\n",
    "        return count\n",
    "    elif timeline == 'last-month':\n",
    "        date_filter = (df['opened_at'] < month_first_day) & (df['opened_at'] >= last_month)\n",
    "        count = len(date_filter.loc[date_filter])\n",
    "        return count\n",
    "    elif timeline == 'current-year':\n",
    "        count = df.loc[df['opened_at'] >= year_first_day].shape[0]\n",
    "        return count\n",
    "    elif timeline == 'ytd':\n",
    "        count = df.shape[0]\n",
    "        return count\n",
    "\n",
    "def ticket_count_resolved(timeline, state, df):    \n",
    "    count = 0\n",
    "\n",
    "    if timeline == 'current-month':\n",
    "        date_filter = (df[state] >= month_first_day) & (df[state] < '2200-01-01')\n",
    "        count = len(date_filter.loc[date_filter])\n",
    "        return count\n",
    "    elif timeline == 'last-month':\n",
    "        date_filter = (df[state] < month_first_day) & (df[state] >= last_month)\n",
    "        count = len(date_filter.loc[date_filter])\n",
    "        return count\n",
    "    elif timeline == 'current-year':\n",
    "        date_filter = (df[state] >= year_first_day) & (df[state] < '2200-1-1')\n",
    "        count = df.loc[date_filter].shape[0]\n",
    "        return count\n",
    "    elif timeline == 'ytd':\n",
    "        date_filter = (df[state] < '2200-1-1')\n",
    "        count = df.loc[date_filter].shape[0]\n",
    "        return count"
   ]
  },
  {
   "cell_type": "code",
   "execution_count": 148,
   "metadata": {},
   "outputs": [],
   "source": [
    "inc_count_opened_cm = ticket_count_opened('current-month', df_incident)\n",
    "inc_count_opened_lm = ticket_count_opened('last-month', df_incident)\n",
    "inc_count_opened_cy = ticket_count_opened('current-year', df_incident)\n",
    "inc_count_opened_ytd = ticket_count_opened('ytd', df_incident)\n",
    "\n",
    "task_count_opened_cm = ticket_count_opened('current-month', df_task)\n",
    "task_count_opened_lm = ticket_count_opened('last-month', df_task)\n",
    "task_count_opened_cy = ticket_count_opened('current-year', df_task)\n",
    "task_count_opened_ytd = ticket_count_opened('ytd', df_task)\n",
    "\n",
    "# print(f\"inc_count_opened_cm: {inc_count_opened_cm}\")\n",
    "# print(f\"inc_count_opened_lm: {inc_count_opened_lm}\")\n",
    "# print(f\"inc_count_opened_cy: {inc_count_opened_cy}\")\n",
    "# print(f\"inc_count_opened_ytd: {inc_count_opened_ytd}\")\n",
    "# print(\"-----------------------\")\n",
    "# print(f\"task_count_opened_cm: {task_count_opened_cm}\")\n",
    "# print(f\"task_count_opened_lm: {task_count_opened_lm}\")\n",
    "# print(f\"task_count_opened_cy: {task_count_opened_cy}\")\n",
    "# print(f\"task_count_opened_ytd: {task_count_opened_ytd}\")"
   ]
  },
  {
   "cell_type": "code",
   "execution_count": 149,
   "metadata": {},
   "outputs": [],
   "source": [
    "inc_count_resolved_cm = ticket_count_resolved('current-month', 'resolved_at', df_incident)\n",
    "inc_count_resolved_lm = ticket_count_resolved('last-month', 'resolved_at', df_incident)\n",
    "inc_count_resolved_cy = ticket_count_resolved('current-year', 'resolved_at', df_incident) \n",
    "inc_count_resolved_ytd = ticket_count_resolved('ytd', 'resolved_at', df_incident) \n",
    "\n",
    "\n",
    "task_count_resolved_cm = ticket_count_resolved('current-month', 'closed_at', df_task)\n",
    "task_count_resolved_lm = ticket_count_resolved('last-month', 'closed_at', df_task)\n",
    "task_count_resolved_cy = ticket_count_resolved('current-year', 'closed_at', df_task)\n",
    "task_count_resolved_ytd = ticket_count_resolved('ytd', 'closed_at', df_task)\n",
    "\n",
    "# print(f\"inc_count_resolved_cm: {inc_count_resolved_cm}\")\n",
    "# print(f\"inc_count_resolved_lm: {inc_count_resolved_lm}\")\n",
    "# print(f\"inc_count_resolved_cy: {inc_count_resolved_cy}\")\n",
    "# print(f\"inc_count_resolved_ytd: {inc_count_resolved_ytd}\")\n",
    "# print(\"-----------------------\")\n",
    "# print(f\"task_count_resolved_cm: {task_count_resolved_cm}\")\n",
    "# print(f\"task_count_resolved_lm: {task_count_resolved_lm}\")\n",
    "# print(f\"task_count_resolved_cy: {task_count_resolved_cy}\")\n",
    "# print(f\"task_count_resolved_ytd: {task_count_resolved_ytd}\")"
   ]
  },
  {
   "cell_type": "code",
   "execution_count": 150,
   "metadata": {},
   "outputs": [],
   "source": [
    "def card_count(title, title_size, data, data_size):\n",
    "    card = dbc.Card(\n",
    "            dbc.CardBody(\n",
    "                [\n",
    "                    html.H5(title, className=\"card-title\", style={'font-size': title_size}),\n",
    "                    html.P(data, style={'font-size': data_size, 'font-weight': 'bold', 'text-align':'center', 'margin-bottom':'0rem'}),\n",
    "                    \n",
    "                ]\n",
    "            )\n",
    "        )\n",
    "    \n",
    "    return card\n",
    "\n",
    "# For Current Month\n",
    "card_inc_opened_cm = card_count('Incidents Opened', '1.5rem', inc_count_opened_cm, '10rem')\n",
    "card_inc_resolved_cm = card_count('Incidents Resolved', '1.5rem', inc_count_resolved_cm, '10rem')\n",
    "card_task_opened_cm = card_count('Tasks Opened', '1.5rem', task_count_opened_cm, '10rem')\n",
    "card_task_resolved_cm = card_count('Tasks Resolved', '1.5rem', task_count_resolved_cm, '10rem')\n",
    "\n",
    "# For Last Month\n",
    "card_inc_opened_lm = card_count('Incidents Opened', '1.5rem', inc_count_opened_lm, '10rem')\n",
    "card_inc_resolved_lm = card_count('Incidents Resolved', '1.5rem', inc_count_resolved_lm, '10rem')\n",
    "card_task_opened_lm = card_count('Tasks Opened', '1.5rem', task_count_opened_lm, '10rem')\n",
    "card_task_resolved_lm = card_count('Tasks Resolved', '1.5rem', task_count_resolved_lm, '10rem')\n",
    "\n",
    "# For Current Year\n",
    "card_inc_opened_cy = card_count('Incidents Opened', '1.5rem', inc_count_opened_cy, '10rem')\n",
    "card_inc_resolved_cy = card_count('Incidents Resolved', '1.5rem', inc_count_resolved_cy, '10rem')\n",
    "card_task_opened_cy = card_count('Tasks Opened', '1.5rem', task_count_opened_cy, '10rem')\n",
    "card_task_resolved_cy = card_count('Tasks Resolved', '1.5rem', task_count_resolved_cy, '10rem')\n",
    "\n",
    "# For YTD\n",
    "card_inc_opened_ytd = card_count('Incidents Opened', '1.5rem', inc_count_opened_ytd, '10rem')\n",
    "card_inc_resolved_ytd = card_count('Incidents Resolved', '1.5rem', inc_count_resolved_ytd, '10rem')\n",
    "card_task_opened_ytd = card_count('Tasks Opened', '1.5rem', task_count_opened_ytd, '10rem')\n",
    "card_task_resolved_ytd = card_count('Tasks Resolved', '1.5rem', task_count_resolved_ytd, '10rem')\n"
   ]
  },
  {
   "attachments": {},
   "cell_type": "markdown",
   "metadata": {},
   "source": [
    "[BAR CHART] Volume of Incidents by Issue Type"
   ]
  },
  {
   "cell_type": "code",
   "execution_count": 151,
   "metadata": {},
   "outputs": [],
   "source": [
    "# # NOTE: Blank Research assessment needs to be addressed\n",
    "\n",
    "# def inc_issue_type(timeline):\n",
    "#     df_research_assessment = \"\"\n",
    "#     research_assessment_count = []\n",
    "\n",
    "#     if timeline == 'current-month':\n",
    "#         date_filter = (df_incident['resolved_at'] >= month_first_day) & (df_incident['resolved_at'] < '2200-01-01')\n",
    "#         df_filtered = df_incident.loc[date_filter]\n",
    "\n",
    "#         # Get Count for each 'Research Assessment'\n",
    "#         for issue_type in research_assessment_types:\n",
    "#             count = df_filtered.loc[df_filtered[\"u_research_assessment\"] == issue_type].shape[0]\n",
    "#             research_assessment_count.append(count)\n",
    "\n",
    "#         # Create DataFrame for Research Assessment Count\n",
    "#         df_research_assessment = pd.DataFrame({\n",
    "#             \"Research Assessment\": research_assessment_types,\n",
    "#             \"\": research_assessment_count\n",
    "#         })\n",
    "\n",
    "#         df_research_assessment = df_research_assessment.sort_values('', ascending=True)\n",
    "#         return df_research_assessment\n",
    "#         # return df_filtered\n",
    "\n",
    "#     elif timeline == 'last-month':\n",
    "#         date_filter = (df_incident['resolved_at'] < month_first_day) & (df_incident['resolved_at'] >= last_month)\n",
    "#         df_filtered = df_incident.loc[date_filter]\n",
    "\n",
    "#         # Get Count for each 'Research Assessment'\n",
    "        \n",
    "#         for issue_type in research_assessment_types:\n",
    "#             count = df_filtered.loc[df_filtered[\"u_research_assessment\"] == issue_type].shape[0]\n",
    "#             research_assessment_count.append(count)\n",
    "#             # print(f\"issue_type: {issue_type} - {count}\")\n",
    "\n",
    "#         # Create DataFrame for Research Assessment Count\n",
    "#         df_research_assessment = pd.DataFrame({\n",
    "#             \"Research Assessment\": research_assessment_types,\n",
    "#             \"\": research_assessment_count\n",
    "#         })\n",
    "\n",
    "#         df_research_assessment = df_research_assessment.sort_values('', ascending=True)\n",
    "#         return df_research_assessment\n",
    "\n",
    "#     elif timeline == 'current-year':\n",
    "#         # first_month = month_first_day.replace(str(f\"-{split_month_date_today[1]}\"), str(f\"-01\"))\n",
    "#         date_filter = (df_incident['resolved_at'] < '2200-01-01') & (df_incident['resolved_at'] >= year_first_day)\n",
    "#         df_filtered = df_incident.loc[date_filter]\n",
    "\n",
    "#         # Get Count for each 'Research Assessment'\n",
    "        \n",
    "#         for issue_type in research_assessment_types:\n",
    "#             count = df_filtered.loc[df_filtered[\"u_research_assessment\"] == issue_type].shape[0]\n",
    "#             research_assessment_count.append(count)\n",
    "\n",
    "#         # Create DataFrame for Research Assessment Count\n",
    "#         df_research_assessment = pd.DataFrame({\n",
    "#             \"Research Assessment\": research_assessment_types,\n",
    "#             \"\": research_assessment_count\n",
    "#         })\n",
    "\n",
    "#         df_research_assessment = df_research_assessment.sort_values('', ascending=False)\n",
    "#         return df_research_assessment\n",
    "        \n",
    "#     elif timeline == 'ytd':\n",
    "#         for issue_type in research_assessment_types:\n",
    "#             count = df_incident.loc[df_incident[\"u_research_assessment\"] == issue_type].shape[0]\n",
    "#             research_assessment_count.append(count)\n",
    "\n",
    "#         # Create DataFrame for Research Assessment Count\n",
    "#         df_research_assessment = pd.DataFrame({\n",
    "#             \"Research Assessment\": research_assessment_types,\n",
    "#             \"\": research_assessment_count\n",
    "#         })\n",
    "\n",
    "#         df_research_assessment = df_research_assessment.sort_values('', ascending=False)\n",
    "#         return df_research_assessment\n",
    "\n",
    "# df_assessment_cm = inc_issue_type('current-month')\n",
    "# df_assessment_lm = inc_issue_type('last-month')\n",
    "# df_assessment_cy = inc_issue_type('current-year')\n",
    "# df_assessment_ytd = inc_issue_type('ytd')\n"
   ]
  },
  {
   "cell_type": "code",
   "execution_count": 152,
   "metadata": {},
   "outputs": [],
   "source": [
    "# NOTE: EDITED\n",
    "\n",
    "def inc_issue_type(timeline):\n",
    "    df_research_assessment = \"\"\n",
    "    research_assessment_count = []\n",
    "\n",
    "    if timeline == 'current-month':\n",
    "        date_filter = (df_incident['resolved_at'] >= month_first_day) & (df_incident['resolved_at'] < '2200-01-01')\n",
    "        df_filtered = df_incident.loc[date_filter]\n",
    "\n",
    "        filtered_research_assessment_types = df_filtered[\"u_research_assessment\"].unique().tolist()\n",
    "\n",
    "        # Get Count for each 'Research Assessment'\n",
    "        for issue_type in filtered_research_assessment_types:\n",
    "            count = df_filtered.loc[df_filtered[\"u_research_assessment\"] == issue_type].shape[0]\n",
    "            research_assessment_count.append(count)\n",
    "\n",
    "        df_research_assessment = pd.DataFrame({\n",
    "            \"Research Assessment\": filtered_research_assessment_types,\n",
    "            \"\": research_assessment_count\n",
    "        })\n",
    "\n",
    "        df_research_assessment = df_research_assessment.sort_values('', ascending=True)\n",
    "        return df_research_assessment\n",
    "        # return df_filtered\n",
    "\n",
    "    elif timeline == 'last-month':\n",
    "        date_filter = (df_incident['resolved_at'] < month_first_day) & (df_incident['resolved_at'] >= last_month)\n",
    "        df_filtered = df_incident.loc[date_filter]\n",
    "\n",
    "        filtered_research_assessment_types = df_filtered[\"u_research_assessment\"].unique().tolist()\n",
    "\n",
    "        # Get Count for each 'Research Assessment'\n",
    "        for issue_type in filtered_research_assessment_types:\n",
    "            count = df_filtered.loc[df_filtered[\"u_research_assessment\"] == issue_type].shape[0]\n",
    "            research_assessment_count.append(count)\n",
    "\n",
    "        df_research_assessment = pd.DataFrame({\n",
    "            \"Research Assessment\": filtered_research_assessment_types,\n",
    "            \"\": research_assessment_count\n",
    "        })\n",
    "\n",
    "        df_research_assessment = df_research_assessment.sort_values('', ascending=True)\n",
    "        return df_research_assessment\n",
    "\n",
    "    elif timeline == 'current-year':\n",
    "        # first_month = month_first_day.replace(str(f\"-{split_month_date_today[1]}\"), str(f\"-01\"))\n",
    "        date_filter = (df_incident['resolved_at'] < '2200-01-01') & (df_incident['resolved_at'] >= year_first_day)\n",
    "        df_filtered = df_incident.loc[date_filter]\n",
    "\n",
    "        filtered_research_assessment_types = df_filtered[\"u_research_assessment\"].unique().tolist()\n",
    "\n",
    "        # Get Count for each 'Research Assessment'\n",
    "        for issue_type in filtered_research_assessment_types:\n",
    "            count = df_filtered.loc[df_filtered[\"u_research_assessment\"] == issue_type].shape[0]\n",
    "            research_assessment_count.append(count)\n",
    "\n",
    "        df_research_assessment = pd.DataFrame({\n",
    "            \"Research Assessment\": filtered_research_assessment_types,\n",
    "            \"\": research_assessment_count\n",
    "        })\n",
    "\n",
    "        df_research_assessment = df_research_assessment.sort_values('', ascending=False)\n",
    "        return df_research_assessment\n",
    "        \n",
    "    elif timeline == 'ytd':\n",
    "        for issue_type in research_assessment_types:\n",
    "            count = df_incident.loc[df_incident[\"u_research_assessment\"] == issue_type].shape[0]\n",
    "            research_assessment_count.append(count)\n",
    "\n",
    "        # Create DataFrame for Research Assessment Count\n",
    "        df_research_assessment = pd.DataFrame({\n",
    "            \"Research Assessment\": research_assessment_types,\n",
    "            \"\": research_assessment_count\n",
    "        })\n",
    "\n",
    "        df_research_assessment = df_research_assessment.sort_values('', ascending=False)\n",
    "        return df_research_assessment\n",
    "\n",
    "df_assessment_cm = inc_issue_type('current-month')\n",
    "df_assessment_lm = inc_issue_type('last-month')\n",
    "df_assessment_cy = inc_issue_type('current-year')\n",
    "df_assessment_ytd = inc_issue_type('ytd')\n"
   ]
  },
  {
   "cell_type": "code",
   "execution_count": 153,
   "metadata": {},
   "outputs": [
    {
     "data": {
      "application/vnd.plotly.v1+json": {
       "config": {
        "plotlyServerURL": "https://plot.ly"
       },
       "data": [
        {
         "alignmentgroup": "True",
         "hovertemplate": "Research Assessment=%{x}<br>=%{y}<extra></extra>",
         "legendgroup": "",
         "marker": {
          "color": "#636efa",
          "pattern": {
           "shape": ""
          }
         },
         "name": "",
         "offsetgroup": "",
         "orientation": "v",
         "showlegend": false,
         "textposition": "outside",
         "texttemplate": "%{y}",
         "type": "bar",
         "x": [
          "Login Issue",
          "Product Issue",
          "Workspace Issue",
          "Data Issue",
          "System Issue",
          "Credential Issue",
          "Empty",
          "ESHD Alert",
          "Failure > Alert",
          "Tableau Issue"
         ],
         "xaxis": "x",
         "y": [
          16,
          13,
          13,
          12,
          12,
          12,
          4,
          2,
          2,
          2
         ],
         "yaxis": "y"
        }
       ],
       "layout": {
        "barmode": "group",
        "legend": {
         "tracegroupgap": 0
        },
        "margin": {
         "t": 60
        },
        "template": {
         "data": {
          "bar": [
           {
            "error_x": {
             "color": "#2a3f5f"
            },
            "error_y": {
             "color": "#2a3f5f"
            },
            "marker": {
             "line": {
              "color": "#E5ECF6",
              "width": 0.5
             },
             "pattern": {
              "fillmode": "overlay",
              "size": 10,
              "solidity": 0.2
             }
            },
            "type": "bar"
           }
          ],
          "barpolar": [
           {
            "marker": {
             "line": {
              "color": "#E5ECF6",
              "width": 0.5
             },
             "pattern": {
              "fillmode": "overlay",
              "size": 10,
              "solidity": 0.2
             }
            },
            "type": "barpolar"
           }
          ],
          "carpet": [
           {
            "aaxis": {
             "endlinecolor": "#2a3f5f",
             "gridcolor": "white",
             "linecolor": "white",
             "minorgridcolor": "white",
             "startlinecolor": "#2a3f5f"
            },
            "baxis": {
             "endlinecolor": "#2a3f5f",
             "gridcolor": "white",
             "linecolor": "white",
             "minorgridcolor": "white",
             "startlinecolor": "#2a3f5f"
            },
            "type": "carpet"
           }
          ],
          "choropleth": [
           {
            "colorbar": {
             "outlinewidth": 0,
             "ticks": ""
            },
            "type": "choropleth"
           }
          ],
          "contour": [
           {
            "colorbar": {
             "outlinewidth": 0,
             "ticks": ""
            },
            "colorscale": [
             [
              0,
              "#0d0887"
             ],
             [
              0.1111111111111111,
              "#46039f"
             ],
             [
              0.2222222222222222,
              "#7201a8"
             ],
             [
              0.3333333333333333,
              "#9c179e"
             ],
             [
              0.4444444444444444,
              "#bd3786"
             ],
             [
              0.5555555555555556,
              "#d8576b"
             ],
             [
              0.6666666666666666,
              "#ed7953"
             ],
             [
              0.7777777777777778,
              "#fb9f3a"
             ],
             [
              0.8888888888888888,
              "#fdca26"
             ],
             [
              1,
              "#f0f921"
             ]
            ],
            "type": "contour"
           }
          ],
          "contourcarpet": [
           {
            "colorbar": {
             "outlinewidth": 0,
             "ticks": ""
            },
            "type": "contourcarpet"
           }
          ],
          "heatmap": [
           {
            "colorbar": {
             "outlinewidth": 0,
             "ticks": ""
            },
            "colorscale": [
             [
              0,
              "#0d0887"
             ],
             [
              0.1111111111111111,
              "#46039f"
             ],
             [
              0.2222222222222222,
              "#7201a8"
             ],
             [
              0.3333333333333333,
              "#9c179e"
             ],
             [
              0.4444444444444444,
              "#bd3786"
             ],
             [
              0.5555555555555556,
              "#d8576b"
             ],
             [
              0.6666666666666666,
              "#ed7953"
             ],
             [
              0.7777777777777778,
              "#fb9f3a"
             ],
             [
              0.8888888888888888,
              "#fdca26"
             ],
             [
              1,
              "#f0f921"
             ]
            ],
            "type": "heatmap"
           }
          ],
          "heatmapgl": [
           {
            "colorbar": {
             "outlinewidth": 0,
             "ticks": ""
            },
            "colorscale": [
             [
              0,
              "#0d0887"
             ],
             [
              0.1111111111111111,
              "#46039f"
             ],
             [
              0.2222222222222222,
              "#7201a8"
             ],
             [
              0.3333333333333333,
              "#9c179e"
             ],
             [
              0.4444444444444444,
              "#bd3786"
             ],
             [
              0.5555555555555556,
              "#d8576b"
             ],
             [
              0.6666666666666666,
              "#ed7953"
             ],
             [
              0.7777777777777778,
              "#fb9f3a"
             ],
             [
              0.8888888888888888,
              "#fdca26"
             ],
             [
              1,
              "#f0f921"
             ]
            ],
            "type": "heatmapgl"
           }
          ],
          "histogram": [
           {
            "marker": {
             "pattern": {
              "fillmode": "overlay",
              "size": 10,
              "solidity": 0.2
             }
            },
            "type": "histogram"
           }
          ],
          "histogram2d": [
           {
            "colorbar": {
             "outlinewidth": 0,
             "ticks": ""
            },
            "colorscale": [
             [
              0,
              "#0d0887"
             ],
             [
              0.1111111111111111,
              "#46039f"
             ],
             [
              0.2222222222222222,
              "#7201a8"
             ],
             [
              0.3333333333333333,
              "#9c179e"
             ],
             [
              0.4444444444444444,
              "#bd3786"
             ],
             [
              0.5555555555555556,
              "#d8576b"
             ],
             [
              0.6666666666666666,
              "#ed7953"
             ],
             [
              0.7777777777777778,
              "#fb9f3a"
             ],
             [
              0.8888888888888888,
              "#fdca26"
             ],
             [
              1,
              "#f0f921"
             ]
            ],
            "type": "histogram2d"
           }
          ],
          "histogram2dcontour": [
           {
            "colorbar": {
             "outlinewidth": 0,
             "ticks": ""
            },
            "colorscale": [
             [
              0,
              "#0d0887"
             ],
             [
              0.1111111111111111,
              "#46039f"
             ],
             [
              0.2222222222222222,
              "#7201a8"
             ],
             [
              0.3333333333333333,
              "#9c179e"
             ],
             [
              0.4444444444444444,
              "#bd3786"
             ],
             [
              0.5555555555555556,
              "#d8576b"
             ],
             [
              0.6666666666666666,
              "#ed7953"
             ],
             [
              0.7777777777777778,
              "#fb9f3a"
             ],
             [
              0.8888888888888888,
              "#fdca26"
             ],
             [
              1,
              "#f0f921"
             ]
            ],
            "type": "histogram2dcontour"
           }
          ],
          "mesh3d": [
           {
            "colorbar": {
             "outlinewidth": 0,
             "ticks": ""
            },
            "type": "mesh3d"
           }
          ],
          "parcoords": [
           {
            "line": {
             "colorbar": {
              "outlinewidth": 0,
              "ticks": ""
             }
            },
            "type": "parcoords"
           }
          ],
          "pie": [
           {
            "automargin": true,
            "type": "pie"
           }
          ],
          "scatter": [
           {
            "fillpattern": {
             "fillmode": "overlay",
             "size": 10,
             "solidity": 0.2
            },
            "type": "scatter"
           }
          ],
          "scatter3d": [
           {
            "line": {
             "colorbar": {
              "outlinewidth": 0,
              "ticks": ""
             }
            },
            "marker": {
             "colorbar": {
              "outlinewidth": 0,
              "ticks": ""
             }
            },
            "type": "scatter3d"
           }
          ],
          "scattercarpet": [
           {
            "marker": {
             "colorbar": {
              "outlinewidth": 0,
              "ticks": ""
             }
            },
            "type": "scattercarpet"
           }
          ],
          "scattergeo": [
           {
            "marker": {
             "colorbar": {
              "outlinewidth": 0,
              "ticks": ""
             }
            },
            "type": "scattergeo"
           }
          ],
          "scattergl": [
           {
            "marker": {
             "colorbar": {
              "outlinewidth": 0,
              "ticks": ""
             }
            },
            "type": "scattergl"
           }
          ],
          "scattermapbox": [
           {
            "marker": {
             "colorbar": {
              "outlinewidth": 0,
              "ticks": ""
             }
            },
            "type": "scattermapbox"
           }
          ],
          "scatterpolar": [
           {
            "marker": {
             "colorbar": {
              "outlinewidth": 0,
              "ticks": ""
             }
            },
            "type": "scatterpolar"
           }
          ],
          "scatterpolargl": [
           {
            "marker": {
             "colorbar": {
              "outlinewidth": 0,
              "ticks": ""
             }
            },
            "type": "scatterpolargl"
           }
          ],
          "scatterternary": [
           {
            "marker": {
             "colorbar": {
              "outlinewidth": 0,
              "ticks": ""
             }
            },
            "type": "scatterternary"
           }
          ],
          "surface": [
           {
            "colorbar": {
             "outlinewidth": 0,
             "ticks": ""
            },
            "colorscale": [
             [
              0,
              "#0d0887"
             ],
             [
              0.1111111111111111,
              "#46039f"
             ],
             [
              0.2222222222222222,
              "#7201a8"
             ],
             [
              0.3333333333333333,
              "#9c179e"
             ],
             [
              0.4444444444444444,
              "#bd3786"
             ],
             [
              0.5555555555555556,
              "#d8576b"
             ],
             [
              0.6666666666666666,
              "#ed7953"
             ],
             [
              0.7777777777777778,
              "#fb9f3a"
             ],
             [
              0.8888888888888888,
              "#fdca26"
             ],
             [
              1,
              "#f0f921"
             ]
            ],
            "type": "surface"
           }
          ],
          "table": [
           {
            "cells": {
             "fill": {
              "color": "#EBF0F8"
             },
             "line": {
              "color": "white"
             }
            },
            "header": {
             "fill": {
              "color": "#C8D4E3"
             },
             "line": {
              "color": "white"
             }
            },
            "type": "table"
           }
          ]
         },
         "layout": {
          "annotationdefaults": {
           "arrowcolor": "#2a3f5f",
           "arrowhead": 0,
           "arrowwidth": 1
          },
          "autotypenumbers": "strict",
          "coloraxis": {
           "colorbar": {
            "outlinewidth": 0,
            "ticks": ""
           }
          },
          "colorscale": {
           "diverging": [
            [
             0,
             "#8e0152"
            ],
            [
             0.1,
             "#c51b7d"
            ],
            [
             0.2,
             "#de77ae"
            ],
            [
             0.3,
             "#f1b6da"
            ],
            [
             0.4,
             "#fde0ef"
            ],
            [
             0.5,
             "#f7f7f7"
            ],
            [
             0.6,
             "#e6f5d0"
            ],
            [
             0.7,
             "#b8e186"
            ],
            [
             0.8,
             "#7fbc41"
            ],
            [
             0.9,
             "#4d9221"
            ],
            [
             1,
             "#276419"
            ]
           ],
           "sequential": [
            [
             0,
             "#0d0887"
            ],
            [
             0.1111111111111111,
             "#46039f"
            ],
            [
             0.2222222222222222,
             "#7201a8"
            ],
            [
             0.3333333333333333,
             "#9c179e"
            ],
            [
             0.4444444444444444,
             "#bd3786"
            ],
            [
             0.5555555555555556,
             "#d8576b"
            ],
            [
             0.6666666666666666,
             "#ed7953"
            ],
            [
             0.7777777777777778,
             "#fb9f3a"
            ],
            [
             0.8888888888888888,
             "#fdca26"
            ],
            [
             1,
             "#f0f921"
            ]
           ],
           "sequentialminus": [
            [
             0,
             "#0d0887"
            ],
            [
             0.1111111111111111,
             "#46039f"
            ],
            [
             0.2222222222222222,
             "#7201a8"
            ],
            [
             0.3333333333333333,
             "#9c179e"
            ],
            [
             0.4444444444444444,
             "#bd3786"
            ],
            [
             0.5555555555555556,
             "#d8576b"
            ],
            [
             0.6666666666666666,
             "#ed7953"
            ],
            [
             0.7777777777777778,
             "#fb9f3a"
            ],
            [
             0.8888888888888888,
             "#fdca26"
            ],
            [
             1,
             "#f0f921"
            ]
           ]
          },
          "colorway": [
           "#636efa",
           "#EF553B",
           "#00cc96",
           "#ab63fa",
           "#FFA15A",
           "#19d3f3",
           "#FF6692",
           "#B6E880",
           "#FF97FF",
           "#FECB52"
          ],
          "font": {
           "color": "#2a3f5f"
          },
          "geo": {
           "bgcolor": "white",
           "lakecolor": "white",
           "landcolor": "#E5ECF6",
           "showlakes": true,
           "showland": true,
           "subunitcolor": "white"
          },
          "hoverlabel": {
           "align": "left"
          },
          "hovermode": "closest",
          "mapbox": {
           "style": "light"
          },
          "paper_bgcolor": "white",
          "plot_bgcolor": "#E5ECF6",
          "polar": {
           "angularaxis": {
            "gridcolor": "white",
            "linecolor": "white",
            "ticks": ""
           },
           "bgcolor": "#E5ECF6",
           "radialaxis": {
            "gridcolor": "white",
            "linecolor": "white",
            "ticks": ""
           }
          },
          "scene": {
           "xaxis": {
            "backgroundcolor": "#E5ECF6",
            "gridcolor": "white",
            "gridwidth": 2,
            "linecolor": "white",
            "showbackground": true,
            "ticks": "",
            "zerolinecolor": "white"
           },
           "yaxis": {
            "backgroundcolor": "#E5ECF6",
            "gridcolor": "white",
            "gridwidth": 2,
            "linecolor": "white",
            "showbackground": true,
            "ticks": "",
            "zerolinecolor": "white"
           },
           "zaxis": {
            "backgroundcolor": "#E5ECF6",
            "gridcolor": "white",
            "gridwidth": 2,
            "linecolor": "white",
            "showbackground": true,
            "ticks": "",
            "zerolinecolor": "white"
           }
          },
          "shapedefaults": {
           "line": {
            "color": "#2a3f5f"
           }
          },
          "ternary": {
           "aaxis": {
            "gridcolor": "white",
            "linecolor": "white",
            "ticks": ""
           },
           "baxis": {
            "gridcolor": "white",
            "linecolor": "white",
            "ticks": ""
           },
           "bgcolor": "#E5ECF6",
           "caxis": {
            "gridcolor": "white",
            "linecolor": "white",
            "ticks": ""
           }
          },
          "title": {
           "x": 0.05
          },
          "xaxis": {
           "automargin": true,
           "gridcolor": "white",
           "linecolor": "white",
           "ticks": "",
           "title": {
            "standoff": 15
           },
           "zerolinecolor": "white",
           "zerolinewidth": 2
          },
          "yaxis": {
           "automargin": true,
           "gridcolor": "white",
           "linecolor": "white",
           "ticks": "",
           "title": {
            "standoff": 15
           },
           "zerolinecolor": "white",
           "zerolinewidth": 2
          }
         }
        },
        "xaxis": {
         "anchor": "y",
         "domain": [
          0,
          1
         ],
         "title": {
          "text": "Research Assessment"
         }
        },
        "yaxis": {
         "anchor": "x",
         "domain": [
          0,
          1
         ],
         "title": {
          "text": ""
         }
        }
       }
      }
     },
     "metadata": {},
     "output_type": "display_data"
    }
   ],
   "source": [
    "fig_df_assessment_cm = px.bar(df_assessment_cm, x=\"\", y=\"Research Assessment\", barmode=\"group\", text_auto=True, orientation=\"h\", title=\"Research Assessment\")\n",
    "fig_df_assessment_lm = px.bar(df_assessment_lm, x=\"\", y=\"Research Assessment\", barmode=\"group\", text_auto=True, orientation=\"h\")\n",
    "# fig_df_assessment_cy = px.bar(df_assessment_cy, x=\"\", y=\"Research Assessment\", barmode=\"group\", text_auto=True, orientation=\"h\")\n",
    "# fig_df_assessment_ytd = px.bar(df_assessment_ytd, x=\"\", y=\"Research Assessment\", barmode=\"group\", text_auto=True, orientation=\"h\")\n",
    "fig_df_assessment_cy = px.bar(df_assessment_cy, x=\"Research Assessment\", y=\"\", barmode=\"group\", text_auto=True)\n",
    "fig_df_assessment_ytd = px.bar(df_assessment_ytd, x=\"Research Assessment\", y=\"\", barmode=\"group\", text_auto=True)\n",
    "\n",
    "# fig_df_assessment_cy.update_traces(textposition='outside')\n",
    "fig_df_assessment_ytd.update_traces(textposition='outside')"
   ]
  },
  {
   "attachments": {},
   "cell_type": "markdown",
   "metadata": {},
   "source": [
    "[BAR CHART] Tickets Opened and Resolved **IN-PROGRESS**"
   ]
  },
  {
   "cell_type": "code",
   "execution_count": 154,
   "metadata": {},
   "outputs": [
    {
     "name": "stdout",
     "output_type": "stream",
     "text": [
      "['2022-01', '2022-02', '2022-03', '2022-04', '2022-05', '2022-06', '2022-07', '2022-08', '2022-09', '2022-10', '2022-11', '2022-12']\n"
     ]
    }
   ],
   "source": [
    "def year_month_data(selected_year, state, df):\n",
    "\n",
    "    initial_year_month_list = df[state].dt.strftime('%Y-%m').unique().tolist()\n",
    "    year_month_list = []\n",
    "\n",
    "    for x in initial_year_month_list:\n",
    "        if selected_year in x:\n",
    "            year_month_list.append(x)\n",
    "\n",
    "    # Get available month names for selected year\n",
    "    get_month_names = df.loc[df[state] > selected_year][state].dt.strftime('%b').unique().tolist()\n",
    "\n",
    "    return year_month_list, get_month_names\n",
    "    \n",
    "inc_ym_2022, inc_mn_2022 = year_month_data('2022', 'opened_at', df_incident)\n",
    "\n",
    "print(inc_ym_2022)\n",
    "# print(inc_mn_2022)"
   ]
  },
  {
   "cell_type": "code",
   "execution_count": 155,
   "metadata": {},
   "outputs": [
    {
     "name": "stdout",
     "output_type": "stream",
     "text": [
      "inc_ymc_opened_2022: [5, 3, 4, 2, 4, 3, 2, 4, 3, 4, 5, 4]\n",
      "inc_ymc_resolved_2022: [7, 3, 3, 3, 3, 2, 4, 3, 4, 4, 5, 4]\n",
      "task_ymc_opened_2022: [4, 3, 2, 2, 3, 1, 2, 2, 2, 4, 2, 3]\n",
      "task_ymc_resolved_2022 : [1, 6, 3, 1, 3, 2, 1, 3, 2, 2, 6, 3]\n"
     ]
    }
   ],
   "source": [
    "def year_month_count_opened(year_month_list, state, df):\n",
    "    year_month_count_opened = []\n",
    "\n",
    "    for get_curr_year_month in year_month_list:\n",
    "\n",
    "        get_curr_month = get_curr_year_month.split('-')[1]\n",
    "        get_curr_year = get_curr_year_month.split('-')[0]\n",
    "        get_next_month = int(get_curr_month) + 1\n",
    "        get_next_year = int(get_curr_year) + 1\n",
    "\n",
    "        if get_next_month > 12:\n",
    "            \n",
    "            get_next_month = 1;\n",
    "            get_next_year_month = get_curr_year_month.replace(str(f\"-{get_curr_month}\"), str(f\"-{get_next_month}\"))\n",
    "            get_next_year_month = get_next_year_month.replace(str(get_curr_year), str(get_next_year))\n",
    "\n",
    "            count = df.loc[(df[state] < f\"{get_next_year_month}-01\") & \n",
    "                                    (df[state] >= f\"{get_curr_year_month}-01\")]\n",
    "\n",
    "            year_month_count_opened.append(count.shape[0])\n",
    "        else:\n",
    "            get_next_year_month = get_curr_year_month.replace(str(f\"-{get_curr_month}\"), str(f\"-{get_next_month}\"))\n",
    "\n",
    "            count = df.loc[(df[state] < f\"{get_next_year_month}-01\") & \n",
    "                                    (df[state] >= f\"{get_curr_year_month}-01\")]\n",
    "\n",
    "            year_month_count_opened.append(count.shape[0])\n",
    "\n",
    "    return year_month_count_opened\n",
    "\n",
    "inc_ymc_opened_2022 = year_month_count_opened(inc_ym_2022, 'opened_at' ,df_incident)\n",
    "inc_ymc_resolved_2022 = year_month_count_opened(inc_ym_2022, 'resolved_at' ,df_incident)\n",
    "\n",
    "task_ymc_opened_2022 = year_month_count_opened(inc_ym_2022, 'opened_at' ,df_task)\n",
    "task_ymc_resolved_2022 = year_month_count_opened(inc_ym_2022, 'closed_at' ,df_task)\n",
    "\n",
    "print(f\"inc_ymc_opened_2022: {inc_ymc_opened_2022}\")\n",
    "print(f\"inc_ymc_resolved_2022: {inc_ymc_resolved_2022}\")\n",
    "print(f\"task_ymc_opened_2022: {task_ymc_opened_2022}\")\n",
    "print(f\"task_ymc_resolved_2022 : {task_ymc_resolved_2022}\")\n"
   ]
  },
  {
   "cell_type": "code",
   "execution_count": 156,
   "metadata": {},
   "outputs": [],
   "source": [
    "# Create DataFrame for 'opened_at' column based on 'year_month_list' and 'year_month_count'\n",
    "df_inc_open_and_close = pd.DataFrame({\n",
    "    \"month_year\": inc_ym_2022,\n",
    "    \"count_open\": inc_ymc_opened_2022,\n",
    "    \"count_resolved\": inc_ymc_resolved_2022\n",
    "})\n",
    "\n",
    "# df_inc_open_and_close"
   ]
  },
  {
   "cell_type": "code",
   "execution_count": 157,
   "metadata": {},
   "outputs": [
    {
     "data": {
      "application/vnd.plotly.v1+json": {
       "config": {
        "plotlyServerURL": "https://plot.ly"
       },
       "data": [
        {
         "marker": {
          "color": "rgb(128,177,211)"
         },
         "name": "Opened",
         "text": [
          "5",
          "3",
          "4",
          "2",
          "4",
          "3",
          "2",
          "4",
          "3",
          "4",
          "5",
          "4"
         ],
         "type": "bar",
         "x": [
          "Jan",
          "Feb",
          "Mar",
          "Apr",
          "May",
          "Jun",
          "Jul",
          "Aug",
          "Sep",
          "Oct",
          "Nov",
          "Dec"
         ],
         "y": [
          5,
          3,
          4,
          2,
          4,
          3,
          2,
          4,
          3,
          4,
          5,
          4
         ]
        },
        {
         "marker": {
          "color": "rgb(251,128,114)"
         },
         "name": "Resolved",
         "text": [
          "7",
          "3",
          "3",
          "3",
          "3",
          "2",
          "4",
          "3",
          "4",
          "4",
          "5",
          "4"
         ],
         "type": "bar",
         "x": [
          "Jan",
          "Feb",
          "Mar",
          "Apr",
          "May",
          "Jun",
          "Jul",
          "Aug",
          "Sep",
          "Oct",
          "Nov",
          "Dec"
         ],
         "y": [
          7,
          3,
          3,
          3,
          3,
          2,
          4,
          3,
          4,
          4,
          5,
          4
         ]
        }
       ],
       "layout": {
        "template": {
         "data": {
          "bar": [
           {
            "error_x": {
             "color": "#2a3f5f"
            },
            "error_y": {
             "color": "#2a3f5f"
            },
            "marker": {
             "line": {
              "color": "#E5ECF6",
              "width": 0.5
             },
             "pattern": {
              "fillmode": "overlay",
              "size": 10,
              "solidity": 0.2
             }
            },
            "type": "bar"
           }
          ],
          "barpolar": [
           {
            "marker": {
             "line": {
              "color": "#E5ECF6",
              "width": 0.5
             },
             "pattern": {
              "fillmode": "overlay",
              "size": 10,
              "solidity": 0.2
             }
            },
            "type": "barpolar"
           }
          ],
          "carpet": [
           {
            "aaxis": {
             "endlinecolor": "#2a3f5f",
             "gridcolor": "white",
             "linecolor": "white",
             "minorgridcolor": "white",
             "startlinecolor": "#2a3f5f"
            },
            "baxis": {
             "endlinecolor": "#2a3f5f",
             "gridcolor": "white",
             "linecolor": "white",
             "minorgridcolor": "white",
             "startlinecolor": "#2a3f5f"
            },
            "type": "carpet"
           }
          ],
          "choropleth": [
           {
            "colorbar": {
             "outlinewidth": 0,
             "ticks": ""
            },
            "type": "choropleth"
           }
          ],
          "contour": [
           {
            "colorbar": {
             "outlinewidth": 0,
             "ticks": ""
            },
            "colorscale": [
             [
              0,
              "#0d0887"
             ],
             [
              0.1111111111111111,
              "#46039f"
             ],
             [
              0.2222222222222222,
              "#7201a8"
             ],
             [
              0.3333333333333333,
              "#9c179e"
             ],
             [
              0.4444444444444444,
              "#bd3786"
             ],
             [
              0.5555555555555556,
              "#d8576b"
             ],
             [
              0.6666666666666666,
              "#ed7953"
             ],
             [
              0.7777777777777778,
              "#fb9f3a"
             ],
             [
              0.8888888888888888,
              "#fdca26"
             ],
             [
              1,
              "#f0f921"
             ]
            ],
            "type": "contour"
           }
          ],
          "contourcarpet": [
           {
            "colorbar": {
             "outlinewidth": 0,
             "ticks": ""
            },
            "type": "contourcarpet"
           }
          ],
          "heatmap": [
           {
            "colorbar": {
             "outlinewidth": 0,
             "ticks": ""
            },
            "colorscale": [
             [
              0,
              "#0d0887"
             ],
             [
              0.1111111111111111,
              "#46039f"
             ],
             [
              0.2222222222222222,
              "#7201a8"
             ],
             [
              0.3333333333333333,
              "#9c179e"
             ],
             [
              0.4444444444444444,
              "#bd3786"
             ],
             [
              0.5555555555555556,
              "#d8576b"
             ],
             [
              0.6666666666666666,
              "#ed7953"
             ],
             [
              0.7777777777777778,
              "#fb9f3a"
             ],
             [
              0.8888888888888888,
              "#fdca26"
             ],
             [
              1,
              "#f0f921"
             ]
            ],
            "type": "heatmap"
           }
          ],
          "heatmapgl": [
           {
            "colorbar": {
             "outlinewidth": 0,
             "ticks": ""
            },
            "colorscale": [
             [
              0,
              "#0d0887"
             ],
             [
              0.1111111111111111,
              "#46039f"
             ],
             [
              0.2222222222222222,
              "#7201a8"
             ],
             [
              0.3333333333333333,
              "#9c179e"
             ],
             [
              0.4444444444444444,
              "#bd3786"
             ],
             [
              0.5555555555555556,
              "#d8576b"
             ],
             [
              0.6666666666666666,
              "#ed7953"
             ],
             [
              0.7777777777777778,
              "#fb9f3a"
             ],
             [
              0.8888888888888888,
              "#fdca26"
             ],
             [
              1,
              "#f0f921"
             ]
            ],
            "type": "heatmapgl"
           }
          ],
          "histogram": [
           {
            "marker": {
             "pattern": {
              "fillmode": "overlay",
              "size": 10,
              "solidity": 0.2
             }
            },
            "type": "histogram"
           }
          ],
          "histogram2d": [
           {
            "colorbar": {
             "outlinewidth": 0,
             "ticks": ""
            },
            "colorscale": [
             [
              0,
              "#0d0887"
             ],
             [
              0.1111111111111111,
              "#46039f"
             ],
             [
              0.2222222222222222,
              "#7201a8"
             ],
             [
              0.3333333333333333,
              "#9c179e"
             ],
             [
              0.4444444444444444,
              "#bd3786"
             ],
             [
              0.5555555555555556,
              "#d8576b"
             ],
             [
              0.6666666666666666,
              "#ed7953"
             ],
             [
              0.7777777777777778,
              "#fb9f3a"
             ],
             [
              0.8888888888888888,
              "#fdca26"
             ],
             [
              1,
              "#f0f921"
             ]
            ],
            "type": "histogram2d"
           }
          ],
          "histogram2dcontour": [
           {
            "colorbar": {
             "outlinewidth": 0,
             "ticks": ""
            },
            "colorscale": [
             [
              0,
              "#0d0887"
             ],
             [
              0.1111111111111111,
              "#46039f"
             ],
             [
              0.2222222222222222,
              "#7201a8"
             ],
             [
              0.3333333333333333,
              "#9c179e"
             ],
             [
              0.4444444444444444,
              "#bd3786"
             ],
             [
              0.5555555555555556,
              "#d8576b"
             ],
             [
              0.6666666666666666,
              "#ed7953"
             ],
             [
              0.7777777777777778,
              "#fb9f3a"
             ],
             [
              0.8888888888888888,
              "#fdca26"
             ],
             [
              1,
              "#f0f921"
             ]
            ],
            "type": "histogram2dcontour"
           }
          ],
          "mesh3d": [
           {
            "colorbar": {
             "outlinewidth": 0,
             "ticks": ""
            },
            "type": "mesh3d"
           }
          ],
          "parcoords": [
           {
            "line": {
             "colorbar": {
              "outlinewidth": 0,
              "ticks": ""
             }
            },
            "type": "parcoords"
           }
          ],
          "pie": [
           {
            "automargin": true,
            "type": "pie"
           }
          ],
          "scatter": [
           {
            "fillpattern": {
             "fillmode": "overlay",
             "size": 10,
             "solidity": 0.2
            },
            "type": "scatter"
           }
          ],
          "scatter3d": [
           {
            "line": {
             "colorbar": {
              "outlinewidth": 0,
              "ticks": ""
             }
            },
            "marker": {
             "colorbar": {
              "outlinewidth": 0,
              "ticks": ""
             }
            },
            "type": "scatter3d"
           }
          ],
          "scattercarpet": [
           {
            "marker": {
             "colorbar": {
              "outlinewidth": 0,
              "ticks": ""
             }
            },
            "type": "scattercarpet"
           }
          ],
          "scattergeo": [
           {
            "marker": {
             "colorbar": {
              "outlinewidth": 0,
              "ticks": ""
             }
            },
            "type": "scattergeo"
           }
          ],
          "scattergl": [
           {
            "marker": {
             "colorbar": {
              "outlinewidth": 0,
              "ticks": ""
             }
            },
            "type": "scattergl"
           }
          ],
          "scattermapbox": [
           {
            "marker": {
             "colorbar": {
              "outlinewidth": 0,
              "ticks": ""
             }
            },
            "type": "scattermapbox"
           }
          ],
          "scatterpolar": [
           {
            "marker": {
             "colorbar": {
              "outlinewidth": 0,
              "ticks": ""
             }
            },
            "type": "scatterpolar"
           }
          ],
          "scatterpolargl": [
           {
            "marker": {
             "colorbar": {
              "outlinewidth": 0,
              "ticks": ""
             }
            },
            "type": "scatterpolargl"
           }
          ],
          "scatterternary": [
           {
            "marker": {
             "colorbar": {
              "outlinewidth": 0,
              "ticks": ""
             }
            },
            "type": "scatterternary"
           }
          ],
          "surface": [
           {
            "colorbar": {
             "outlinewidth": 0,
             "ticks": ""
            },
            "colorscale": [
             [
              0,
              "#0d0887"
             ],
             [
              0.1111111111111111,
              "#46039f"
             ],
             [
              0.2222222222222222,
              "#7201a8"
             ],
             [
              0.3333333333333333,
              "#9c179e"
             ],
             [
              0.4444444444444444,
              "#bd3786"
             ],
             [
              0.5555555555555556,
              "#d8576b"
             ],
             [
              0.6666666666666666,
              "#ed7953"
             ],
             [
              0.7777777777777778,
              "#fb9f3a"
             ],
             [
              0.8888888888888888,
              "#fdca26"
             ],
             [
              1,
              "#f0f921"
             ]
            ],
            "type": "surface"
           }
          ],
          "table": [
           {
            "cells": {
             "fill": {
              "color": "#EBF0F8"
             },
             "line": {
              "color": "white"
             }
            },
            "header": {
             "fill": {
              "color": "#C8D4E3"
             },
             "line": {
              "color": "white"
             }
            },
            "type": "table"
           }
          ]
         },
         "layout": {
          "annotationdefaults": {
           "arrowcolor": "#2a3f5f",
           "arrowhead": 0,
           "arrowwidth": 1
          },
          "autotypenumbers": "strict",
          "coloraxis": {
           "colorbar": {
            "outlinewidth": 0,
            "ticks": ""
           }
          },
          "colorscale": {
           "diverging": [
            [
             0,
             "#8e0152"
            ],
            [
             0.1,
             "#c51b7d"
            ],
            [
             0.2,
             "#de77ae"
            ],
            [
             0.3,
             "#f1b6da"
            ],
            [
             0.4,
             "#fde0ef"
            ],
            [
             0.5,
             "#f7f7f7"
            ],
            [
             0.6,
             "#e6f5d0"
            ],
            [
             0.7,
             "#b8e186"
            ],
            [
             0.8,
             "#7fbc41"
            ],
            [
             0.9,
             "#4d9221"
            ],
            [
             1,
             "#276419"
            ]
           ],
           "sequential": [
            [
             0,
             "#0d0887"
            ],
            [
             0.1111111111111111,
             "#46039f"
            ],
            [
             0.2222222222222222,
             "#7201a8"
            ],
            [
             0.3333333333333333,
             "#9c179e"
            ],
            [
             0.4444444444444444,
             "#bd3786"
            ],
            [
             0.5555555555555556,
             "#d8576b"
            ],
            [
             0.6666666666666666,
             "#ed7953"
            ],
            [
             0.7777777777777778,
             "#fb9f3a"
            ],
            [
             0.8888888888888888,
             "#fdca26"
            ],
            [
             1,
             "#f0f921"
            ]
           ],
           "sequentialminus": [
            [
             0,
             "#0d0887"
            ],
            [
             0.1111111111111111,
             "#46039f"
            ],
            [
             0.2222222222222222,
             "#7201a8"
            ],
            [
             0.3333333333333333,
             "#9c179e"
            ],
            [
             0.4444444444444444,
             "#bd3786"
            ],
            [
             0.5555555555555556,
             "#d8576b"
            ],
            [
             0.6666666666666666,
             "#ed7953"
            ],
            [
             0.7777777777777778,
             "#fb9f3a"
            ],
            [
             0.8888888888888888,
             "#fdca26"
            ],
            [
             1,
             "#f0f921"
            ]
           ]
          },
          "colorway": [
           "#636efa",
           "#EF553B",
           "#00cc96",
           "#ab63fa",
           "#FFA15A",
           "#19d3f3",
           "#FF6692",
           "#B6E880",
           "#FF97FF",
           "#FECB52"
          ],
          "font": {
           "color": "#2a3f5f"
          },
          "geo": {
           "bgcolor": "white",
           "lakecolor": "white",
           "landcolor": "#E5ECF6",
           "showlakes": true,
           "showland": true,
           "subunitcolor": "white"
          },
          "hoverlabel": {
           "align": "left"
          },
          "hovermode": "closest",
          "mapbox": {
           "style": "light"
          },
          "paper_bgcolor": "white",
          "plot_bgcolor": "#E5ECF6",
          "polar": {
           "angularaxis": {
            "gridcolor": "white",
            "linecolor": "white",
            "ticks": ""
           },
           "bgcolor": "#E5ECF6",
           "radialaxis": {
            "gridcolor": "white",
            "linecolor": "white",
            "ticks": ""
           }
          },
          "scene": {
           "xaxis": {
            "backgroundcolor": "#E5ECF6",
            "gridcolor": "white",
            "gridwidth": 2,
            "linecolor": "white",
            "showbackground": true,
            "ticks": "",
            "zerolinecolor": "white"
           },
           "yaxis": {
            "backgroundcolor": "#E5ECF6",
            "gridcolor": "white",
            "gridwidth": 2,
            "linecolor": "white",
            "showbackground": true,
            "ticks": "",
            "zerolinecolor": "white"
           },
           "zaxis": {
            "backgroundcolor": "#E5ECF6",
            "gridcolor": "white",
            "gridwidth": 2,
            "linecolor": "white",
            "showbackground": true,
            "ticks": "",
            "zerolinecolor": "white"
           }
          },
          "shapedefaults": {
           "line": {
            "color": "#2a3f5f"
           }
          },
          "ternary": {
           "aaxis": {
            "gridcolor": "white",
            "linecolor": "white",
            "ticks": ""
           },
           "baxis": {
            "gridcolor": "white",
            "linecolor": "white",
            "ticks": ""
           },
           "bgcolor": "#E5ECF6",
           "caxis": {
            "gridcolor": "white",
            "linecolor": "white",
            "ticks": ""
           }
          },
          "title": {
           "x": 0.05
          },
          "xaxis": {
           "automargin": true,
           "gridcolor": "white",
           "linecolor": "white",
           "ticks": "",
           "title": {
            "standoff": 15
           },
           "zerolinecolor": "white",
           "zerolinewidth": 2
          },
          "yaxis": {
           "automargin": true,
           "gridcolor": "white",
           "linecolor": "white",
           "ticks": "",
           "title": {
            "standoff": 15
           },
           "zerolinecolor": "white",
           "zerolinewidth": 2
          }
         }
        }
       }
      }
     },
     "metadata": {},
     "output_type": "display_data"
    }
   ],
   "source": [
    "# Create figure for 'df_inc_open_and_close'\n",
    "colors = px.colors.qualitative.Set3\n",
    "\n",
    "fig2 = go.Figure(data=[\n",
    "    go.Bar(name='Opened', x=inc_mn_2022, y=inc_ymc_opened_2022, text=inc_ymc_opened_2022, marker=dict(color=colors[4])),\n",
    "    go.Bar(name='Resolved', x=inc_mn_2022, y=inc_ymc_resolved_2022, text=inc_ymc_resolved_2022, marker=dict(color=colors[3])),\n",
    "])\n",
    "\n",
    "fig2.show()"
   ]
  },
  {
   "attachments": {},
   "cell_type": "markdown",
   "metadata": {},
   "source": [
    "[BAR CHART] INC & TASK OPENED"
   ]
  },
  {
   "cell_type": "code",
   "execution_count": 158,
   "metadata": {},
   "outputs": [],
   "source": [
    "# # Create DataFrame\n",
    "df_inc_and_task_open = pd.DataFrame({\n",
    "    \"month_year\": inc_ym_2022,\n",
    "    \"count_open_inc\": inc_ymc_opened_2022,\n",
    "    \"count_open_task\": task_ymc_opened_2022,\n",
    "})\n",
    "\n",
    "# print(df_inc_and_task_open)"
   ]
  },
  {
   "cell_type": "code",
   "execution_count": 159,
   "metadata": {},
   "outputs": [
    {
     "data": {
      "application/vnd.plotly.v1+json": {
       "config": {
        "plotlyServerURL": "https://plot.ly"
       },
       "data": [
        {
         "marker": {
          "color": "rgb(128,177,211)"
         },
         "name": "Incidents",
         "text": [
          "5",
          "3",
          "4",
          "2",
          "4",
          "3",
          "2",
          "4",
          "3",
          "4",
          "5",
          "4"
         ],
         "type": "bar",
         "x": [
          "Jan",
          "Feb",
          "Mar",
          "Apr",
          "May",
          "Jun",
          "Jul",
          "Aug",
          "Sep",
          "Oct",
          "Nov",
          "Dec"
         ],
         "y": [
          5,
          3,
          4,
          2,
          4,
          3,
          2,
          4,
          3,
          4,
          5,
          4
         ]
        },
        {
         "marker": {
          "color": "rgb(251,128,114)"
         },
         "name": "Tasks",
         "text": [
          "4",
          "3",
          "2",
          "2",
          "3",
          "1",
          "2",
          "2",
          "2",
          "4",
          "2",
          "3"
         ],
         "type": "bar",
         "x": [
          "Jan",
          "Feb",
          "Mar",
          "Apr",
          "May",
          "Jun",
          "Jul",
          "Aug",
          "Sep",
          "Oct",
          "Nov",
          "Dec"
         ],
         "y": [
          4,
          3,
          2,
          2,
          3,
          1,
          2,
          2,
          2,
          4,
          2,
          3
         ]
        }
       ],
       "layout": {
        "template": {
         "data": {
          "bar": [
           {
            "error_x": {
             "color": "#2a3f5f"
            },
            "error_y": {
             "color": "#2a3f5f"
            },
            "marker": {
             "line": {
              "color": "#E5ECF6",
              "width": 0.5
             },
             "pattern": {
              "fillmode": "overlay",
              "size": 10,
              "solidity": 0.2
             }
            },
            "type": "bar"
           }
          ],
          "barpolar": [
           {
            "marker": {
             "line": {
              "color": "#E5ECF6",
              "width": 0.5
             },
             "pattern": {
              "fillmode": "overlay",
              "size": 10,
              "solidity": 0.2
             }
            },
            "type": "barpolar"
           }
          ],
          "carpet": [
           {
            "aaxis": {
             "endlinecolor": "#2a3f5f",
             "gridcolor": "white",
             "linecolor": "white",
             "minorgridcolor": "white",
             "startlinecolor": "#2a3f5f"
            },
            "baxis": {
             "endlinecolor": "#2a3f5f",
             "gridcolor": "white",
             "linecolor": "white",
             "minorgridcolor": "white",
             "startlinecolor": "#2a3f5f"
            },
            "type": "carpet"
           }
          ],
          "choropleth": [
           {
            "colorbar": {
             "outlinewidth": 0,
             "ticks": ""
            },
            "type": "choropleth"
           }
          ],
          "contour": [
           {
            "colorbar": {
             "outlinewidth": 0,
             "ticks": ""
            },
            "colorscale": [
             [
              0,
              "#0d0887"
             ],
             [
              0.1111111111111111,
              "#46039f"
             ],
             [
              0.2222222222222222,
              "#7201a8"
             ],
             [
              0.3333333333333333,
              "#9c179e"
             ],
             [
              0.4444444444444444,
              "#bd3786"
             ],
             [
              0.5555555555555556,
              "#d8576b"
             ],
             [
              0.6666666666666666,
              "#ed7953"
             ],
             [
              0.7777777777777778,
              "#fb9f3a"
             ],
             [
              0.8888888888888888,
              "#fdca26"
             ],
             [
              1,
              "#f0f921"
             ]
            ],
            "type": "contour"
           }
          ],
          "contourcarpet": [
           {
            "colorbar": {
             "outlinewidth": 0,
             "ticks": ""
            },
            "type": "contourcarpet"
           }
          ],
          "heatmap": [
           {
            "colorbar": {
             "outlinewidth": 0,
             "ticks": ""
            },
            "colorscale": [
             [
              0,
              "#0d0887"
             ],
             [
              0.1111111111111111,
              "#46039f"
             ],
             [
              0.2222222222222222,
              "#7201a8"
             ],
             [
              0.3333333333333333,
              "#9c179e"
             ],
             [
              0.4444444444444444,
              "#bd3786"
             ],
             [
              0.5555555555555556,
              "#d8576b"
             ],
             [
              0.6666666666666666,
              "#ed7953"
             ],
             [
              0.7777777777777778,
              "#fb9f3a"
             ],
             [
              0.8888888888888888,
              "#fdca26"
             ],
             [
              1,
              "#f0f921"
             ]
            ],
            "type": "heatmap"
           }
          ],
          "heatmapgl": [
           {
            "colorbar": {
             "outlinewidth": 0,
             "ticks": ""
            },
            "colorscale": [
             [
              0,
              "#0d0887"
             ],
             [
              0.1111111111111111,
              "#46039f"
             ],
             [
              0.2222222222222222,
              "#7201a8"
             ],
             [
              0.3333333333333333,
              "#9c179e"
             ],
             [
              0.4444444444444444,
              "#bd3786"
             ],
             [
              0.5555555555555556,
              "#d8576b"
             ],
             [
              0.6666666666666666,
              "#ed7953"
             ],
             [
              0.7777777777777778,
              "#fb9f3a"
             ],
             [
              0.8888888888888888,
              "#fdca26"
             ],
             [
              1,
              "#f0f921"
             ]
            ],
            "type": "heatmapgl"
           }
          ],
          "histogram": [
           {
            "marker": {
             "pattern": {
              "fillmode": "overlay",
              "size": 10,
              "solidity": 0.2
             }
            },
            "type": "histogram"
           }
          ],
          "histogram2d": [
           {
            "colorbar": {
             "outlinewidth": 0,
             "ticks": ""
            },
            "colorscale": [
             [
              0,
              "#0d0887"
             ],
             [
              0.1111111111111111,
              "#46039f"
             ],
             [
              0.2222222222222222,
              "#7201a8"
             ],
             [
              0.3333333333333333,
              "#9c179e"
             ],
             [
              0.4444444444444444,
              "#bd3786"
             ],
             [
              0.5555555555555556,
              "#d8576b"
             ],
             [
              0.6666666666666666,
              "#ed7953"
             ],
             [
              0.7777777777777778,
              "#fb9f3a"
             ],
             [
              0.8888888888888888,
              "#fdca26"
             ],
             [
              1,
              "#f0f921"
             ]
            ],
            "type": "histogram2d"
           }
          ],
          "histogram2dcontour": [
           {
            "colorbar": {
             "outlinewidth": 0,
             "ticks": ""
            },
            "colorscale": [
             [
              0,
              "#0d0887"
             ],
             [
              0.1111111111111111,
              "#46039f"
             ],
             [
              0.2222222222222222,
              "#7201a8"
             ],
             [
              0.3333333333333333,
              "#9c179e"
             ],
             [
              0.4444444444444444,
              "#bd3786"
             ],
             [
              0.5555555555555556,
              "#d8576b"
             ],
             [
              0.6666666666666666,
              "#ed7953"
             ],
             [
              0.7777777777777778,
              "#fb9f3a"
             ],
             [
              0.8888888888888888,
              "#fdca26"
             ],
             [
              1,
              "#f0f921"
             ]
            ],
            "type": "histogram2dcontour"
           }
          ],
          "mesh3d": [
           {
            "colorbar": {
             "outlinewidth": 0,
             "ticks": ""
            },
            "type": "mesh3d"
           }
          ],
          "parcoords": [
           {
            "line": {
             "colorbar": {
              "outlinewidth": 0,
              "ticks": ""
             }
            },
            "type": "parcoords"
           }
          ],
          "pie": [
           {
            "automargin": true,
            "type": "pie"
           }
          ],
          "scatter": [
           {
            "fillpattern": {
             "fillmode": "overlay",
             "size": 10,
             "solidity": 0.2
            },
            "type": "scatter"
           }
          ],
          "scatter3d": [
           {
            "line": {
             "colorbar": {
              "outlinewidth": 0,
              "ticks": ""
             }
            },
            "marker": {
             "colorbar": {
              "outlinewidth": 0,
              "ticks": ""
             }
            },
            "type": "scatter3d"
           }
          ],
          "scattercarpet": [
           {
            "marker": {
             "colorbar": {
              "outlinewidth": 0,
              "ticks": ""
             }
            },
            "type": "scattercarpet"
           }
          ],
          "scattergeo": [
           {
            "marker": {
             "colorbar": {
              "outlinewidth": 0,
              "ticks": ""
             }
            },
            "type": "scattergeo"
           }
          ],
          "scattergl": [
           {
            "marker": {
             "colorbar": {
              "outlinewidth": 0,
              "ticks": ""
             }
            },
            "type": "scattergl"
           }
          ],
          "scattermapbox": [
           {
            "marker": {
             "colorbar": {
              "outlinewidth": 0,
              "ticks": ""
             }
            },
            "type": "scattermapbox"
           }
          ],
          "scatterpolar": [
           {
            "marker": {
             "colorbar": {
              "outlinewidth": 0,
              "ticks": ""
             }
            },
            "type": "scatterpolar"
           }
          ],
          "scatterpolargl": [
           {
            "marker": {
             "colorbar": {
              "outlinewidth": 0,
              "ticks": ""
             }
            },
            "type": "scatterpolargl"
           }
          ],
          "scatterternary": [
           {
            "marker": {
             "colorbar": {
              "outlinewidth": 0,
              "ticks": ""
             }
            },
            "type": "scatterternary"
           }
          ],
          "surface": [
           {
            "colorbar": {
             "outlinewidth": 0,
             "ticks": ""
            },
            "colorscale": [
             [
              0,
              "#0d0887"
             ],
             [
              0.1111111111111111,
              "#46039f"
             ],
             [
              0.2222222222222222,
              "#7201a8"
             ],
             [
              0.3333333333333333,
              "#9c179e"
             ],
             [
              0.4444444444444444,
              "#bd3786"
             ],
             [
              0.5555555555555556,
              "#d8576b"
             ],
             [
              0.6666666666666666,
              "#ed7953"
             ],
             [
              0.7777777777777778,
              "#fb9f3a"
             ],
             [
              0.8888888888888888,
              "#fdca26"
             ],
             [
              1,
              "#f0f921"
             ]
            ],
            "type": "surface"
           }
          ],
          "table": [
           {
            "cells": {
             "fill": {
              "color": "#EBF0F8"
             },
             "line": {
              "color": "white"
             }
            },
            "header": {
             "fill": {
              "color": "#C8D4E3"
             },
             "line": {
              "color": "white"
             }
            },
            "type": "table"
           }
          ]
         },
         "layout": {
          "annotationdefaults": {
           "arrowcolor": "#2a3f5f",
           "arrowhead": 0,
           "arrowwidth": 1
          },
          "autotypenumbers": "strict",
          "coloraxis": {
           "colorbar": {
            "outlinewidth": 0,
            "ticks": ""
           }
          },
          "colorscale": {
           "diverging": [
            [
             0,
             "#8e0152"
            ],
            [
             0.1,
             "#c51b7d"
            ],
            [
             0.2,
             "#de77ae"
            ],
            [
             0.3,
             "#f1b6da"
            ],
            [
             0.4,
             "#fde0ef"
            ],
            [
             0.5,
             "#f7f7f7"
            ],
            [
             0.6,
             "#e6f5d0"
            ],
            [
             0.7,
             "#b8e186"
            ],
            [
             0.8,
             "#7fbc41"
            ],
            [
             0.9,
             "#4d9221"
            ],
            [
             1,
             "#276419"
            ]
           ],
           "sequential": [
            [
             0,
             "#0d0887"
            ],
            [
             0.1111111111111111,
             "#46039f"
            ],
            [
             0.2222222222222222,
             "#7201a8"
            ],
            [
             0.3333333333333333,
             "#9c179e"
            ],
            [
             0.4444444444444444,
             "#bd3786"
            ],
            [
             0.5555555555555556,
             "#d8576b"
            ],
            [
             0.6666666666666666,
             "#ed7953"
            ],
            [
             0.7777777777777778,
             "#fb9f3a"
            ],
            [
             0.8888888888888888,
             "#fdca26"
            ],
            [
             1,
             "#f0f921"
            ]
           ],
           "sequentialminus": [
            [
             0,
             "#0d0887"
            ],
            [
             0.1111111111111111,
             "#46039f"
            ],
            [
             0.2222222222222222,
             "#7201a8"
            ],
            [
             0.3333333333333333,
             "#9c179e"
            ],
            [
             0.4444444444444444,
             "#bd3786"
            ],
            [
             0.5555555555555556,
             "#d8576b"
            ],
            [
             0.6666666666666666,
             "#ed7953"
            ],
            [
             0.7777777777777778,
             "#fb9f3a"
            ],
            [
             0.8888888888888888,
             "#fdca26"
            ],
            [
             1,
             "#f0f921"
            ]
           ]
          },
          "colorway": [
           "#636efa",
           "#EF553B",
           "#00cc96",
           "#ab63fa",
           "#FFA15A",
           "#19d3f3",
           "#FF6692",
           "#B6E880",
           "#FF97FF",
           "#FECB52"
          ],
          "font": {
           "color": "#2a3f5f"
          },
          "geo": {
           "bgcolor": "white",
           "lakecolor": "white",
           "landcolor": "#E5ECF6",
           "showlakes": true,
           "showland": true,
           "subunitcolor": "white"
          },
          "hoverlabel": {
           "align": "left"
          },
          "hovermode": "closest",
          "mapbox": {
           "style": "light"
          },
          "paper_bgcolor": "white",
          "plot_bgcolor": "#E5ECF6",
          "polar": {
           "angularaxis": {
            "gridcolor": "white",
            "linecolor": "white",
            "ticks": ""
           },
           "bgcolor": "#E5ECF6",
           "radialaxis": {
            "gridcolor": "white",
            "linecolor": "white",
            "ticks": ""
           }
          },
          "scene": {
           "xaxis": {
            "backgroundcolor": "#E5ECF6",
            "gridcolor": "white",
            "gridwidth": 2,
            "linecolor": "white",
            "showbackground": true,
            "ticks": "",
            "zerolinecolor": "white"
           },
           "yaxis": {
            "backgroundcolor": "#E5ECF6",
            "gridcolor": "white",
            "gridwidth": 2,
            "linecolor": "white",
            "showbackground": true,
            "ticks": "",
            "zerolinecolor": "white"
           },
           "zaxis": {
            "backgroundcolor": "#E5ECF6",
            "gridcolor": "white",
            "gridwidth": 2,
            "linecolor": "white",
            "showbackground": true,
            "ticks": "",
            "zerolinecolor": "white"
           }
          },
          "shapedefaults": {
           "line": {
            "color": "#2a3f5f"
           }
          },
          "ternary": {
           "aaxis": {
            "gridcolor": "white",
            "linecolor": "white",
            "ticks": ""
           },
           "baxis": {
            "gridcolor": "white",
            "linecolor": "white",
            "ticks": ""
           },
           "bgcolor": "#E5ECF6",
           "caxis": {
            "gridcolor": "white",
            "linecolor": "white",
            "ticks": ""
           }
          },
          "title": {
           "x": 0.05
          },
          "xaxis": {
           "automargin": true,
           "gridcolor": "white",
           "linecolor": "white",
           "ticks": "",
           "title": {
            "standoff": 15
           },
           "zerolinecolor": "white",
           "zerolinewidth": 2
          },
          "yaxis": {
           "automargin": true,
           "gridcolor": "white",
           "linecolor": "white",
           "ticks": "",
           "title": {
            "standoff": 15
           },
           "zerolinecolor": "white",
           "zerolinewidth": 2
          }
         }
        }
       }
      }
     },
     "metadata": {},
     "output_type": "display_data"
    }
   ],
   "source": [
    "# # Create figure for 'df_inc_and_task_open'\n",
    "colors = px.colors.qualitative.Set3\n",
    "\n",
    "fig3 = go.Figure(data=[\n",
    "    go.Bar(name='Incidents', x=inc_mn_2022, y=inc_ymc_opened_2022, text=inc_ymc_opened_2022, marker=dict(color=colors[4])),\n",
    "    go.Bar(name='Tasks', x=inc_mn_2022, y=task_ymc_opened_2022, text=task_ymc_opened_2022, marker=dict(color=colors[3])),\n",
    "])\n",
    "\n",
    "fig3"
   ]
  },
  {
   "attachments": {},
   "cell_type": "markdown",
   "metadata": {},
   "source": [
    "[PIE CHART]"
   ]
  },
  {
   "cell_type": "code",
   "execution_count": 160,
   "metadata": {},
   "outputs": [],
   "source": [
    "# Filler Pie Chart\n",
    "df_pie = px.data.tips()\n",
    "fig_pie = px.pie(df_pie, values='tip', names='day', color='day',\n",
    "             color_discrete_map={'Thur':'lightcyan',\n",
    "                                 'Fri':'cyan',\n",
    "                                 'Sat':'royalblue',\n",
    "                                 'Sun':'darkblue'})\n",
    "# fig_pie.show()"
   ]
  },
  {
   "attachments": {},
   "cell_type": "markdown",
   "metadata": {},
   "source": [
    "[TABLE] INC BY T-SHIRT SIZE"
   ]
  },
  {
   "cell_type": "code",
   "execution_count": 161,
   "metadata": {},
   "outputs": [],
   "source": [
    "def countsize_per_type(df):\n",
    "    s = []\n",
    "    m = []\n",
    "    l = []\n",
    "\n",
    "    research_assessment_types = df[\"u_research_assessment\"].unique().tolist()\n",
    "    all_research_assessment = df_incident[\"u_research_assessment\"].unique().tolist()\n",
    "\n",
    "    # Add other Research Assessment types to fill table\n",
    "    # for type in all_research_assessment:\n",
    "    #     if type not in research_assessment_types:\n",
    "    #         research_assessment_types.append(type)\n",
    "            \n",
    "    for type in research_assessment_types:\n",
    "            \n",
    "            count_s = df.loc[(df['u_research_assessment'] == type) & (df['correlation_display'] == 'S')].shape[0]\n",
    "            count_m = df.loc[(df['u_research_assessment'] == type) & (df['correlation_display'] == 'M')].shape[0]\n",
    "            count_l = df.loc[(df['u_research_assessment'] == type) & (df['correlation_display'] == 'L')].shape[0]\n",
    "\n",
    "            s.append(count_s)\n",
    "            m.append(count_m)\n",
    "            l.append(count_l)\n",
    "\n",
    "    return s, m, l, research_assessment_types\n",
    "\n",
    "def create_trbs_df(date_filter):\n",
    "    df = df_incident.loc[date_filter]\n",
    "    s, m, l, research_assessment_types = countsize_per_type(df)\n",
    "    \n",
    "    data = {\n",
    "        'Research Assessment': research_assessment_types,\n",
    "        'S': s,\n",
    "        'M': m,\n",
    "        'L': l\n",
    "    }\n",
    "\n",
    "    df2 = pd.DataFrame(data)\n",
    "\n",
    "    df2['Count'] = df2.iloc[:, 1:4].sum(axis=1) # Add column for row Count\n",
    "    df2.loc[len(df2.index)] = ['Total', df2['S'].sum(), df2['M'].sum(), df2['L'].sum(), df2['Count'].sum()] # Add row for column Total\n",
    "    return df2\n",
    "\n",
    "def df_ticket_resolved_by_size(timeline):    \n",
    "\n",
    "    if timeline == 'current-month':\n",
    "\n",
    "        date_filter = (df_incident['resolved_at'] >= month_first_day) & (df_incident['resolved_at'] < '2200-01-01')\n",
    "        df = create_trbs_df(date_filter)\n",
    "        return df\n",
    "\n",
    "    elif timeline == 'last-month':\n",
    "        \n",
    "        date_filter = (df_incident['resolved_at'] < month_first_day) & (df_incident['resolved_at'] >= last_month)\n",
    "        df = create_trbs_df(date_filter)\n",
    "        return df\n",
    "\n",
    "    elif timeline == 'current-year':\n",
    "        date_filter = (df_incident['resolved_at'] >= year_first_day) & (df_incident['resolved_at'] < '2200-01-01')\n",
    "        df = create_trbs_df(date_filter)\n",
    "        return df\n",
    "\n",
    "    elif timeline == 'ytd':\n",
    "\n",
    "        date_filter = (df_incident['resolved_at'] < '2200-01-01')\n",
    "        df = create_trbs_df(date_filter)\n",
    "        return df"
   ]
  },
  {
   "cell_type": "code",
   "execution_count": 162,
   "metadata": {},
   "outputs": [],
   "source": [
    "# Initialize trbs DataFrame\n",
    "df_by_size_cm = df_ticket_resolved_by_size('current-month')\n",
    "df_by_size_lm = df_ticket_resolved_by_size('last-month')\n",
    "df_by_size_cy = df_ticket_resolved_by_size('current-year')\n",
    "df_by_size_ytd = df_ticket_resolved_by_size('ytd') \n",
    "\n",
    "# df_by_size_cm\n",
    "# df_by_size_lm\n",
    "# df_by_size_cy\n",
    "# df_by_size_ytd"
   ]
  },
  {
   "cell_type": "code",
   "execution_count": 163,
   "metadata": {},
   "outputs": [],
   "source": [
    "# Create DataTables\n",
    "dt_by_size_cm = dash_table.DataTable(\n",
    "    df_by_size_cm.to_dict('records'),\n",
    "    columns = [{\"name\": i, \"id\": i} for i in df_by_size_cm.columns]\n",
    "    # https://dash.plotly.com/datatable/style\n",
    ")\n",
    "dt_by_size_lm = dash_table.DataTable(\n",
    "    df_by_size_lm.to_dict('records'),\n",
    "    columns = [{\"name\": i, \"id\": i} for i in df_by_size_lm.columns]\n",
    ")\n",
    "\n",
    "dt_by_size_cy = dash_table.DataTable(\n",
    "    df_by_size_cy.to_dict('records'),\n",
    "    columns = [{\"name\": i, \"id\": i} for i in df_by_size_cy.columns]\n",
    ")\n",
    "\n",
    "dt_by_size_ytd = dash_table.DataTable(\n",
    "    df_by_size_ytd.to_dict('records'),\n",
    "    columns = [{\"name\": i, \"id\": i} for i in df_by_size_ytd.columns]\n",
    ")\n"
   ]
  },
  {
   "attachments": {},
   "cell_type": "markdown",
   "metadata": {},
   "source": [
    "[TABLE] Tickets Resolved Outside of AP L1"
   ]
  },
  {
   "cell_type": "code",
   "execution_count": 164,
   "metadata": {},
   "outputs": [],
   "source": [
    "def count_per_group(df):\n",
    "    s = []\n",
    "    m = []\n",
    "    l = []\n",
    "\n",
    "    u_previous_assignment_group = df[\"u_previous_assignment_group\"].unique().tolist()\n",
    "    # u_previous_assignment_group.remove('Analytics Platform L1 Support')\n",
    "\n",
    "    for group in u_previous_assignment_group:\n",
    "            \n",
    "            count_s = df.loc[(df['u_previous_assignment_group'] == group) & (df['correlation_display'] == 'S')].shape[0]\n",
    "            count_m = df.loc[(df['u_previous_assignment_group'] == group) & (df['correlation_display'] == 'M')].shape[0]\n",
    "            count_l = df.loc[(df['u_previous_assignment_group'] == group) & (df['correlation_display'] == 'L')].shape[0]\n",
    "\n",
    "            s.append(count_s)\n",
    "            m.append(count_m)\n",
    "            l.append(count_l)\n",
    "\n",
    "    return s, m, l, u_previous_assignment_group\n",
    "\n",
    "def create_trol1_df(date_filter):\n",
    "    df = df_incident.loc[date_filter]\n",
    "    s, m, l, u_previous_assignment_group = count_per_group(df)\n",
    "    \n",
    "    data = {\n",
    "        'Previous Assignment Group': u_previous_assignment_group,\n",
    "        'S': s,\n",
    "        'M': m,\n",
    "        'L': l\n",
    "    }\n",
    "\n",
    "    df2 = pd.DataFrame(data)\n",
    "\n",
    "    df2['Count'] = df2.iloc[:, 1:4].sum(axis=1) # Add column for row Count\n",
    "    df2.loc[len(df2.index)] = ['Total', df2['S'].sum(), df2['M'].sum(), df2['L'].sum(), df2['Count'].sum()] # Add row for column Total\n",
    "    return df2\n",
    "\n",
    "\n",
    "def df_ticket_resolved_outside_l1(timeline):    \n",
    "\n",
    "    if timeline == 'current-month':\n",
    "\n",
    "        date_filter = (df_incident['resolved_at'] >= month_first_day) & (df_incident['resolved_at'] < '2200-01-01') & (df_incident['reassignment_count'] > 1)\n",
    "        df = create_trol1_df(date_filter)\n",
    "        return df\n",
    "\n",
    "    elif timeline == 'last-month':\n",
    "        \n",
    "        date_filter = (df_incident['resolved_at'] < month_first_day) & (df_incident['resolved_at'] >= last_month) & (df_incident['reassignment_count'] > 1)\n",
    "        df = create_trol1_df(date_filter)\n",
    "        return df\n",
    "\n",
    "    elif timeline == 'current-year':\n",
    "        date_filter = (df_incident['resolved_at'] >= year_first_day) & (df_incident['resolved_at'] < '2200-01-01') & (df_incident['reassignment_count'] > 1)\n",
    "        df = create_trol1_df(date_filter)\n",
    "        return df\n",
    "\n",
    "    elif timeline == 'ytd':\n",
    "\n",
    "        date_filter = (df_incident['resolved_at'] < '2200-01-01') & (df_incident['reassignment_count'] > 1)\n",
    "        df = create_trol1_df(date_filter)\n",
    "        return df"
   ]
  },
  {
   "cell_type": "code",
   "execution_count": 165,
   "metadata": {},
   "outputs": [],
   "source": [
    "# Initialize trol1 DataFrame\n",
    "df_by_previous_group_cm = df_ticket_resolved_outside_l1('current-month')\n",
    "df_by_previous_group_lm = df_ticket_resolved_outside_l1('last-month')\n",
    "df_by_previous_group_cy = df_ticket_resolved_outside_l1('current-year')\n",
    "df_by_previous_group_ytd = df_ticket_resolved_outside_l1('ytd')"
   ]
  },
  {
   "cell_type": "code",
   "execution_count": 166,
   "metadata": {},
   "outputs": [],
   "source": [
    "# Create DataTables\n",
    "dt_by_previous_group_cm = dash_table.DataTable(\n",
    "    df_by_previous_group_cm.to_dict('records'),\n",
    "    columns = [{\"name\": i, \"id\": i} for i in df_by_previous_group_cm.columns]\n",
    "    # https://dash.plotly.com/datatable/style\n",
    ")\n",
    "dt_by_previous_group_lm = dash_table.DataTable(\n",
    "    df_by_previous_group_lm.to_dict('records'),\n",
    "    columns = [{\"name\": i, \"id\": i} for i in df_by_previous_group_lm.columns]\n",
    ")\n",
    "\n",
    "dt_by_previous_group_cy = dash_table.DataTable(\n",
    "    df_by_previous_group_cy.to_dict('records'),\n",
    "    columns = [{\"name\": i, \"id\": i} for i in df_by_previous_group_cy.columns]\n",
    ")\n",
    "\n",
    "dt_by_previous_group_ytd = dash_table.DataTable(\n",
    "    df_by_previous_group_ytd.to_dict('records'),\n",
    "    columns = [{\"name\": i, \"id\": i} for i in df_by_previous_group_ytd.columns],\n",
    "    style_cell={'fontSize':'1.1rem'}\n",
    ")\n"
   ]
  },
  {
   "attachments": {},
   "cell_type": "markdown",
   "metadata": {},
   "source": [
    "CARD GRAPHS"
   ]
  },
  {
   "cell_type": "code",
   "execution_count": 167,
   "metadata": {},
   "outputs": [],
   "source": [
    "# def card_graphs(data):\n",
    "#     card = dbc.Card(\n",
    "#             dbc.CardBody(\n",
    "#                     data\n",
    "#             ),\n",
    "#             # className=\"h-100\"\n",
    "#         )\n",
    "    \n",
    "#     return card\n",
    "\n",
    "# # row2 cm \n",
    "# card_dt_by_size_cm = card_graphs([dt_by_size_cm])\n",
    "# card_fig_df_assessment_cm = card_graphs([fig_df_assessment_cm])\n",
    "# card_fig_pie = card_graphs([fig_pie])\n",
    "\n",
    "# # row2 lm \n",
    "# card_dt_by_size_lm = card_graphs([dt_by_size_lm])\n",
    "# card_fig_df_assessment_lm = card_graphs([fig_df_assessment_lm])\n",
    "# card_fig_pie = card_graphs([fig_pie])\n",
    "\n",
    "# # row2 cy \n",
    "# card_dt_by_size_cy = card_graphs([dt_by_size_cy])\n",
    "# card_fig_df_assessment_cy = card_graphs([fig_df_assessment_cy])\n",
    "# card_fig_pie = card_graphs([fig_pie])\n",
    "\n",
    "# card_dt_by_previous_group_cy = card_graphs([dt_by_previous_group_cy])\n",
    "\n",
    "# # row2 ytd \n",
    "# card_dt_by_size_ytd = card_graphs([dt_by_size_ytd])\n",
    "# card_fig_df_assessment_ytd = card_graphs([fig_df_assessment_ytd])\n",
    "# card_fig_pie = card_graphs([fig_pie])\n",
    "\n",
    "# card_dt_by_previous_group_ytd = card_graphs([dt_by_previous_group_ytd])"
   ]
  },
  {
   "cell_type": "code",
   "execution_count": 168,
   "metadata": {},
   "outputs": [],
   "source": [
    "# EDITED\n",
    "def card_graphs(data, graph_title):\n",
    "    card = dbc.Card([\n",
    "            dbc.CardHeader(html.H2(graph_title)),\n",
    "            dbc.CardBody(\n",
    "                    data\n",
    "            ),\n",
    "            # className=\"h-100\"\n",
    "        ])\n",
    "    \n",
    "    return card\n",
    "\n",
    "# row2 cm \n",
    "card_dt_by_size_cm = card_graphs([dt_by_size_cm], \"sample\")\n",
    "card_fig_df_assessment_cm = card_graphs([fig_df_assessment_cm], \"sample\")\n",
    "card_fig_pie = card_graphs([fig_pie], \"sample\")\n",
    "\n",
    "# row2 lm \n",
    "card_dt_by_size_lm = card_graphs([dt_by_size_lm], \"sample\")\n",
    "card_fig_df_assessment_lm = card_graphs([fig_df_assessment_lm], \"sample\")\n",
    "card_fig_pie = card_graphs([fig_pie], \"sample\")\n",
    "\n",
    "# row2 cy \n",
    "card_dt_by_size_cy = card_graphs([dt_by_size_cy], \"sample\")\n",
    "card_fig_df_assessment_cy = card_graphs([fig_df_assessment_cy], \"sample\")\n",
    "card_fig_pie = card_graphs([fig_pie], \"sample\")\n",
    "\n",
    "card_dt_by_previous_group_cy = card_graphs([dt_by_previous_group_cy], \"sample\")\n",
    "\n",
    "# row2 ytd \n",
    "card_dt_by_size_ytd = card_graphs([dt_by_size_ytd], \"sample\")\n",
    "card_fig_df_assessment_ytd = card_graphs([fig_df_assessment_ytd], \"sample\")\n",
    "card_fig_pie = card_graphs([fig_pie], \"sample\")\n",
    "\n",
    "card_dt_by_previous_group_ytd = card_graphs([dt_by_previous_group_ytd], \"sample\")"
   ]
  },
  {
   "attachments": {},
   "cell_type": "markdown",
   "metadata": {},
   "source": [
    "ROW 1 DATA"
   ]
  },
  {
   "cell_type": "code",
   "execution_count": 169,
   "metadata": {},
   "outputs": [],
   "source": [
    "# # Current Month\n",
    "# row1_cm = dbc.Row(\n",
    "#         [\n",
    "#             dbc.Col(card_inc_opened_cm, width = 3),\n",
    "#             dbc.Col(card_inc_resolved_cm, width = 3),\n",
    "#             dbc.Col(card_task_opened_cm, width = 3),\n",
    "#             dbc.Col(card_task_resolved_cm, width = 3),\n",
    "#         ]\n",
    "#     )\n",
    "\n",
    "# # Last Month\n",
    "# row1_lm = dbc.Row(\n",
    "#         [\n",
    "#             dbc.Col(card_inc_opened_lm, width = 3),\n",
    "#             dbc.Col(card_inc_resolved_lm, width = 3),\n",
    "#             dbc.Col(card_task_opened_lm, width = 3),\n",
    "#             dbc.Col(card_task_resolved_lm, width = 3),\n",
    "#         ]\n",
    "#     )\n",
    "    \n",
    "# # Current Year\n",
    "# row1_cy = dbc.Row(\n",
    "#         [\n",
    "#             dbc.Col(card_inc_opened_cy, width = 3),\n",
    "#             dbc.Col(card_inc_resolved_cy, width = 3),\n",
    "#             dbc.Col(card_task_opened_cy, width = 3),\n",
    "#             dbc.Col(card_task_resolved_cy, width = 3),\n",
    "#         ]\n",
    "#     )\n",
    "\n",
    "# # Year to Date\n",
    "# row1_ytd = dbc.Row(\n",
    "#         [\n",
    "#             dbc.Col(card_inc_opened_ytd, width = 3),\n",
    "#             dbc.Col(card_inc_resolved_ytd, width = 3),\n",
    "#             dbc.Col(card_task_opened_ytd, width = 3),\n",
    "#             dbc.Col(card_task_resolved_ytd, width = 3),\n",
    "#         ]\n",
    "#     )"
   ]
  },
  {
   "cell_type": "code",
   "execution_count": 170,
   "metadata": {},
   "outputs": [],
   "source": [
    "# EDITED\n",
    "\n",
    "# Current Month\n",
    "row1_cm = dbc.Row(\n",
    "        [\n",
    "            dbc.Col(card_inc_opened_cm),\n",
    "            dbc.Col(card_inc_resolved_cm),\n",
    "            dbc.Col(card_task_opened_cm),\n",
    "            dbc.Col(card_task_resolved_cm),\n",
    "        ]\n",
    "    )\n",
    "\n",
    "# Last Month\n",
    "row1_lm = dbc.Row(\n",
    "        [\n",
    "            dbc.Col(card_inc_opened_lm),\n",
    "            dbc.Col(card_inc_resolved_lm),\n",
    "            dbc.Col(card_task_opened_lm),\n",
    "            dbc.Col(card_task_resolved_lm),\n",
    "        ]\n",
    "    )\n",
    "    \n",
    "# Current Year\n",
    "row1_cy = dbc.Row(\n",
    "        [\n",
    "            dbc.Col(card_inc_opened_cy),\n",
    "            dbc.Col(card_inc_resolved_cy),\n",
    "            dbc.Col(card_task_opened_cy),\n",
    "            dbc.Col(card_task_resolved_cy),\n",
    "        ]\n",
    "    )\n",
    "\n",
    "# Year to Date\n",
    "row1_ytd = dbc.Row(\n",
    "        [\n",
    "            dbc.Col(card_inc_opened_ytd),\n",
    "            dbc.Col(card_inc_resolved_ytd),\n",
    "            dbc.Col(card_task_opened_ytd),\n",
    "            dbc.Col(card_task_resolved_ytd),\n",
    "        ]\n",
    "    )"
   ]
  },
  {
   "attachments": {},
   "cell_type": "markdown",
   "metadata": {},
   "source": [
    "ROW 2 DATA"
   ]
  },
  {
   "cell_type": "code",
   "execution_count": 171,
   "metadata": {},
   "outputs": [],
   "source": [
    "row2_cm = dbc.Row([\n",
    "    dbc.Col(dcc.Graph(figure=fig_pie), width=4),\n",
    "    dbc.Col(card_dt_by_size_cm, width=4),\n",
    "    dbc.Col(dcc.Graph(figure=fig_df_assessment_cm), width=4),\n",
    "])\n",
    "\n",
    "row2_lm = dbc.Row([\n",
    "    dbc.Col(dcc.Graph(figure=fig_pie), width=4),\n",
    "    dbc.Col(card_dt_by_size_lm, width=4),\n",
    "    dbc.Col(dcc.Graph(figure=fig_df_assessment_lm), width=4),\n",
    "])\n",
    "\n",
    "row2_cy = dbc.Row([\n",
    "    dbc.Col(dcc.Graph(figure=fig_pie), width=4),\n",
    "    dbc.Col(card_dt_by_size_cy, width=4),\n",
    "    # dbc.Col(dcc.Graph(figure=fig_df_assessment_cy), width=4),\n",
    "    dbc.Col(card_dt_by_previous_group_cy, width=4),\n",
    "    \n",
    "])\n",
    "\n",
    "row2_ytd = dbc.Row([\n",
    "    # dbc.Col(dcc.Graph(figure=fig_pie), width=4),\n",
    "    # dbc.Col(card_dt_by_size_ytd, width=4),\n",
    "    # dbc.Col(dcc.Graph(figure=fig_df_assessment_ytd), width=4),\n",
    "\n",
    "    # dbc.Col(dt_by_previous_group_ytd, width=4, style={'padding-left':'1.5rem', 'padding-right': '0rem'}),\n",
    "    # dbc.Col(dt_by_previous_group_ytd, width=4, style={'padding-left':'1.5rem', 'padding-right': '0rem'}),\n",
    "    # dbc.Col(dt_by_previous_group_ytd, width=4, style={'padding-left':'1.5rem', 'padding-right': '0rem'}),\n",
    "\n",
    "    dbc.Col(card_dt_by_previous_group_ytd),\n",
    "    dbc.Col(card_dt_by_size_ytd),\n",
    "    dbc.Col(card_dt_by_previous_group_ytd),\n",
    "])"
   ]
  },
  {
   "attachments": {},
   "cell_type": "markdown",
   "metadata": {},
   "source": [
    "ROW 3 DATA"
   ]
  },
  {
   "cell_type": "code",
   "execution_count": 172,
   "metadata": {},
   "outputs": [],
   "source": [
    "# row3_ytd = dbc.Row([\n",
    "#     dbc.Col(dcc.Graph(figure=fig_df_assessment_ytd)),\n",
    "# ])\n",
    "row3_cy = (dcc.Graph(figure=fig_df_assessment_cy))\n",
    "row3_ytd = (dcc.Graph(figure=fig_df_assessment_ytd))"
   ]
  },
  {
   "attachments": {},
   "cell_type": "markdown",
   "metadata": {},
   "source": [
    "APP LAYOUT"
   ]
  },
  {
   "cell_type": "code",
   "execution_count": 173,
   "metadata": {},
   "outputs": [],
   "source": [
    "# # Create server variable with Flask server object for use with gunicorn\n",
    "# server = app.server\n",
    "\n",
    "# # Construct App Layout\n",
    "# app.layout = html.Div(children=[\n",
    "#     html.H1('Analytics Platform Ticket Dashboard', style={'padding':'20px'}),\n",
    "#     dcc.Tabs(id=\"tabs-content-input\", value='current-month', children=[\n",
    "#         dcc.Tab(label='Current Month', value='current-month'),\n",
    "#         dcc.Tab(label='Last Month', value='last-month'),\n",
    "#         dcc.Tab(label='Current Year', value='current-year'),\n",
    "#         dcc.Tab(label='Overall', value='ytd')\n",
    "#     ]),\n",
    "#     html.Br(),\n",
    "#     html.Div(id='tabs-content-output'),\n",
    "\n",
    "# ])\n",
    "\n",
    "# @app.callback(Output('tabs-content-output', 'children'),\n",
    "#               Input('tabs-content-input', 'value'))\n",
    "# def render_content(tab):\n",
    "#     if tab == 'current-month':\n",
    "#         return html.Div([\n",
    "#             dbc.Row(row1_cm, justify=\"around\"),\n",
    "#             html.Br(),\n",
    "#             dbc.Row(children=[\n",
    "#                 dbc.Col(html.H2('Pie Chart for AP L1 Team', style={'padding-left':'20px'}), width=4),\n",
    "#                 dbc.Col(html.H2('Tickets Resolved by T-Shirt Size and Product'), width=4),\n",
    "#                 dbc.Col(html.H2('Volume of Incidents Resolved by Issue Type'), width=4),\n",
    "#             ]),\n",
    "#             dbc.Row(row2_cm),\n",
    "#         ])\n",
    "#     elif tab == 'last-month':\n",
    "#         return html.Div([\n",
    "#             dbc.Row(row1_lm, justify=\"around\"),\n",
    "#             html.Br(),\n",
    "#             dbc.Row(children=[\n",
    "#                 dbc.Col(html.H2('Pie Chart for AP L1 Team', style={'padding-left':'20px'}), width=4),\n",
    "#                 dbc.Col(html.H2('Tickets Resolved by T-Shirt Size and Product'), width=4),\n",
    "#                 dbc.Col(html.H2('Volume of Incidents Resolved by Issue Type'), width=4),\n",
    "#             ]),\n",
    "#             dbc.Row(row2_lm),  \n",
    "#         ])\n",
    "#     elif tab == 'current-year':\n",
    "#         return html.Div([\n",
    "#             dbc.Row(row1_cy, justify=\"around\"),\n",
    "#             html.Br(),\n",
    "#             dbc.Row(children=[\n",
    "#                 dbc.Col(html.H2('Pie Chart for AP L1 Team', style={'padding-left':'20px'}), width=4),\n",
    "#                 dbc.Col(html.H2('Tickets Resolved by T-Shirt Size and Product'), width=4),\n",
    "#                 dbc.Col(html.H2('Tickets Resolved Outside of AP L1'), width=4),\n",
    "#             ]),\n",
    "#             dbc.Row(row2_cy),  \n",
    "#             dbc.Row(row3_cy),  \n",
    "\n",
    "#         ])\n",
    "#     elif tab == 'ytd':\n",
    "#         return html.Div([\n",
    "#             dbc.Row(row1_ytd, justify=\"around\"),\n",
    "#             html.Br(),\n",
    "#             dbc.Row(children=[\n",
    "#                 dbc.Col(html.H2('Tickets Resolved Outside of AP L1', style={'padding-left':'20px'}), width=4),\n",
    "#                 dbc.Col(html.H2('Tickets Resolved Outside of AP L1'), width=4),\n",
    "#                 dbc.Col(html.H2('Tickets Resolved Outside of AP L1'), width=4),\n",
    "#             ]),\n",
    "#             dbc.Row(row2_ytd),\n",
    "#             html.H2('Volume of Incidents Resolved by Issue Type', style={'padding':'20px'}), \n",
    "#             dbc.Row(row3_ytd), \n",
    "#         ])\n",
    "\n",
    "# app.run_server()"
   ]
  },
  {
   "cell_type": "code",
   "execution_count": 174,
   "metadata": {},
   "outputs": [
    {
     "name": "stdout",
     "output_type": "stream",
     "text": [
      "Dash app running on http://127.0.0.1:8050/\n"
     ]
    }
   ],
   "source": [
    "# EDITED\n",
    "server = app.server\n",
    "\n",
    "# Construct App Layout\n",
    "app.layout = html.Div(children=[\n",
    "    html.H1('Analytics Platform Ticket Dashboard', style={'padding':'20px'}),\n",
    "    dcc.Tabs(id=\"tabs-content-input\", value='current-month', children=[\n",
    "        dcc.Tab(label='Current Month', value='current-month'),\n",
    "        dcc.Tab(label='Last Month', value='last-month'),\n",
    "        dcc.Tab(label='Current Year', value='current-year'),\n",
    "        dcc.Tab(label='Overall', value='ytd')\n",
    "    ]),\n",
    "    html.Br(),\n",
    "    html.Div(id='tabs-content-output'),\n",
    "\n",
    "])\n",
    "\n",
    "@app.callback(Output('tabs-content-output', 'children'),\n",
    "              Input('tabs-content-input', 'value'))\n",
    "def render_content(tab):\n",
    "    if tab == 'current-month':\n",
    "        return html.Div([\n",
    "            dbc.Row(row1_cm, justify=\"around\"),\n",
    "            html.Br(),\n",
    "            dbc.Row(row2_cm, justify=\"around\"),\n",
    "        ])\n",
    "    elif tab == 'last-month':\n",
    "        return html.Div([\n",
    "            dbc.Row(row1_lm, justify=\"around\"),\n",
    "            html.Br(),\n",
    "            dbc.Row(row2_lm, justify=\"around\"),  \n",
    "        ])\n",
    "    elif tab == 'current-year':\n",
    "        return html.Div([\n",
    "            dbc.Row(row1_cy, justify=\"around\"),\n",
    "            html.Br(),\n",
    "            dbc.Row(row2_cy, justify=\"around\"),  \n",
    "            dbc.Row(row3_cy, justify=\"around\"),  \n",
    "\n",
    "        ])\n",
    "    elif tab == 'ytd':\n",
    "        return html.Div([\n",
    "            dbc.Row(row1_ytd, justify=\"around\"),\n",
    "            html.Br(),\n",
    "            dbc.Row(row2_ytd, justify=\"around\"),\n",
    "            html.H2('Volume of Incidents Resolved by Issue Type', style={'padding':'20px'}), \n",
    "            dbc.Row(row3_ytd, justify=\"around\"), \n",
    "        ])\n",
    "\n",
    "app.run_server()"
   ]
  }
 ],
 "metadata": {
  "kernelspec": {
   "display_name": "Python 3.10.4 64-bit",
   "language": "python",
   "name": "python3"
  },
  "language_info": {
   "codemirror_mode": {
    "name": "ipython",
    "version": 3
   },
   "file_extension": ".py",
   "mimetype": "text/x-python",
   "name": "python",
   "nbconvert_exporter": "python",
   "pygments_lexer": "ipython3",
   "version": "3.10.4"
  },
  "orig_nbformat": 4,
  "vscode": {
   "interpreter": {
    "hash": "b769e006912ec37d22d70e5a86561f700ac3296e9c585175429d129c45e25b86"
   }
  }
 },
 "nbformat": 4,
 "nbformat_minor": 2
}
