{
 "cells": [
  {
   "cell_type": "code",
   "execution_count": 1,
   "metadata": {},
   "outputs": [],
   "source": [
    "import dash\n",
    "# import dash_core_components as dcc\n",
    "from dash import dcc\n",
    "# import dash_html_components as html\n",
    "from dash import html\n",
    "from dash import dash_table\n",
    "import dash_bootstrap_components as dbc"
   ]
  },
  {
   "cell_type": "code",
   "execution_count": 2,
   "metadata": {},
   "outputs": [],
   "source": [
    "import pandas as pd\n",
    "import plotly.express as px\n",
    "import plotly.graph_objects as go\n",
    "from datetime import date"
   ]
  },
  {
   "cell_type": "code",
   "execution_count": 3,
   "metadata": {},
   "outputs": [],
   "source": [
    "from jupyter_dash import JupyterDash\n",
    "from dash.dependencies import Input, Output\n",
    "app = JupyterDash(__name__, external_stylesheets=[dbc.themes.MATERIA])"
   ]
  },
  {
   "cell_type": "markdown",
   "metadata": {},
   "source": [
    "IMPORT INCIDENT TICKETS"
   ]
  },
  {
   "cell_type": "code",
   "execution_count": 4,
   "metadata": {},
   "outputs": [],
   "source": [
    "# Create initial Dataframe\n",
    "df_incident = pd.read_csv('/Users/noel.c.joaquin/Desktop/BASE_DATA/INC_YTD_nov2022.csv')\n",
    "# df_incident.info()"
   ]
  },
  {
   "cell_type": "code",
   "execution_count": 5,
   "metadata": {},
   "outputs": [],
   "source": [
    "# Replace NaN values with '01-01-2200' \n",
    "df_incident['resolved_at'].fillna('01/01/2200', inplace=True)\n",
    "df_incident['closed_at'].fillna('01/01/2200', inplace=True)\n",
    "# df_incident.info()"
   ]
  },
  {
   "cell_type": "code",
   "execution_count": 6,
   "metadata": {},
   "outputs": [],
   "source": [
    "# Save new Dataframe \n",
    "df_incident.to_csv('/Users/noel.c.joaquin/Desktop/Python/INC_YTD_nov2022.csv', index=False)"
   ]
  },
  {
   "cell_type": "code",
   "execution_count": 7,
   "metadata": {},
   "outputs": [
    {
     "name": "stderr",
     "output_type": "stream",
     "text": [
      "C:\\Users\\noel.c.joaquin\\AppData\\Local\\Temp\\ipykernel_16224\\1158756277.py:2: FutureWarning: The pandas.datetime class is deprecated and will be removed from pandas in a future version. Import from datetime module instead.\n",
      "  d_parser = lambda x: pd.datetime.strptime(x, '%m/%d/%Y')\n",
      "C:\\Users\\noel.c.joaquin\\AppData\\Local\\Temp\\ipykernel_16224\\1158756277.py:2: FutureWarning: The pandas.datetime class is deprecated and will be removed from pandas in a future version. Import from datetime module instead.\n",
      "  d_parser = lambda x: pd.datetime.strptime(x, '%m/%d/%Y')\n",
      "C:\\Users\\noel.c.joaquin\\AppData\\Local\\Temp\\ipykernel_16224\\1158756277.py:2: FutureWarning: The pandas.datetime class is deprecated and will be removed from pandas in a future version. Import from datetime module instead.\n",
      "  d_parser = lambda x: pd.datetime.strptime(x, '%m/%d/%Y')\n"
     ]
    }
   ],
   "source": [
    "# Recreate Dataframe and conver Date columns to Datetime format\n",
    "d_parser = lambda x: pd.datetime.strptime(x, '%m/%d/%Y')\n",
    "\n",
    "df_incident = pd.read_csv('/Users/noel.c.joaquin/Desktop/Python/INC_YTD_nov2022.csv', parse_dates=['opened_at', 'closed_at', 'resolved_at'],\n",
    "                            date_parser = d_parser , encoding = 'unicode_escape')\n",
    "                            \n",
    "# df_incident.head()"
   ]
  },
  {
   "cell_type": "markdown",
   "metadata": {},
   "source": [
    "IMPORT TASK TICKETS"
   ]
  },
  {
   "cell_type": "code",
   "execution_count": 8,
   "metadata": {},
   "outputs": [],
   "source": [
    "# Create initial Dataframe\n",
    "df_task = pd.read_csv('/Users/noel.c.joaquin/Desktop/BASE_DATA/TASK_YTD_nov2022.csv')\n",
    "# df_task.info()"
   ]
  },
  {
   "cell_type": "code",
   "execution_count": 9,
   "metadata": {},
   "outputs": [],
   "source": [
    "# Fill any null values\n",
    "df_task['closed_at'].fillna('01/01/2200', inplace=True)\n",
    "# df_task.info()"
   ]
  },
  {
   "cell_type": "code",
   "execution_count": 10,
   "metadata": {},
   "outputs": [],
   "source": [
    "# Save new Dataframe \n",
    "df_task.to_csv('/Users/noel.c.joaquin/Desktop/Python/TASK_YTD_nov2022.csv', index=False)"
   ]
  },
  {
   "cell_type": "code",
   "execution_count": 11,
   "metadata": {},
   "outputs": [
    {
     "name": "stderr",
     "output_type": "stream",
     "text": [
      "C:\\Users\\noel.c.joaquin\\AppData\\Local\\Temp\\ipykernel_16224\\2542818920.py:2: FutureWarning: The pandas.datetime class is deprecated and will be removed from pandas in a future version. Import from datetime module instead.\n",
      "  d_parser = lambda x: pd.datetime.strptime(x, '%m/%d/%Y')\n",
      "C:\\Users\\noel.c.joaquin\\AppData\\Local\\Temp\\ipykernel_16224\\2542818920.py:2: FutureWarning: The pandas.datetime class is deprecated and will be removed from pandas in a future version. Import from datetime module instead.\n",
      "  d_parser = lambda x: pd.datetime.strptime(x, '%m/%d/%Y')\n"
     ]
    }
   ],
   "source": [
    "# Create SCTASK DataFrame\n",
    "d_parser = lambda x: pd.datetime.strptime(x, '%m/%d/%Y')\n",
    "\n",
    "df_task = pd.read_csv('/Users/noel.c.joaquin/Desktop/Python/TASK_YTD_nov2022.csv', parse_dates=['opened_at', 'closed_at'], date_parser = d_parser, encoding='unicode_escape')\n",
    "\n",
    "# df_task.head()"
   ]
  },
  {
   "cell_type": "markdown",
   "metadata": {},
   "source": [
    "GLOBAL VARIABLES"
   ]
  },
  {
   "cell_type": "code",
   "execution_count": 12,
   "metadata": {},
   "outputs": [
    {
     "name": "stdout",
     "output_type": "stream",
     "text": [
      "year_first_day: 2022-01-01\n"
     ]
    }
   ],
   "source": [
    "month_date_today = date.today()\n",
    "\n",
    "# Get first day of current month\n",
    "split_month_date_today = str(month_date_today).split('-')\n",
    "split_month_date_today[2] = '01'\n",
    "month_first_day = '-'.join([str(elem) for elem in split_month_date_today])\n",
    "\n",
    "# Get first day of last month\n",
    "get_last_month = str(int(split_month_date_today[1]) - 1 )\n",
    "split_month_date_today[1] = get_last_month\n",
    "last_month = '-'.join([str(elem) for elem in split_month_date_today])\n",
    "\n",
    "# Get January 01 of current year\n",
    "split_month_date_today[1] = '01'\n",
    "year_first_day = '-'.join([str(elem) for elem in split_month_date_today])\n",
    "\n",
    "research_assessment_types = df_incident[\"u_research_assessment\"].unique().tolist()\n",
    "\n",
    "# print(f\"month_date_today: {month_date_today}\")\n",
    "# print(f\"split_month_date_today: {split_month_date_today}\")\n",
    "# print(f\"month_first_day: {month_first_day}\")\n",
    "# print(f\"get_last_month: {get_last_month}\")\n",
    "# print(f\"last_month: {last_month}\")\n",
    "print(f\"year_first_day: {year_first_day}\")\n",
    "\n"
   ]
  },
  {
   "cell_type": "markdown",
   "metadata": {},
   "source": [
    "CARD COUNTS - INC Opened and Resolved"
   ]
  },
  {
   "cell_type": "code",
   "execution_count": 13,
   "metadata": {},
   "outputs": [],
   "source": [
    "def ticket_count_opened(timeline, df):    \n",
    "    count = 0\n",
    "\n",
    "    if timeline == 'current-month':\n",
    "        date_filter = (df['opened_at'] >= month_first_day)\n",
    "        count = len(date_filter.loc[date_filter])\n",
    "        return count\n",
    "    elif timeline == 'last-month':\n",
    "        date_filter = (df['opened_at'] < month_first_day) & (df['opened_at'] >= last_month)\n",
    "        count = len(date_filter.loc[date_filter])\n",
    "        return count\n",
    "    elif timeline == 'current-year':\n",
    "        count = df.loc[df['opened_at'] >= year_first_day].shape[0]\n",
    "        return count\n",
    "    elif timeline == 'ytd':\n",
    "        count = df.shape[0]\n",
    "        return count\n",
    "\n",
    "def ticket_count_resolved(timeline, state, df):    \n",
    "    count = 0\n",
    "\n",
    "    if timeline == 'current-month':\n",
    "        date_filter = (df[state] >= month_first_day) & (df[state] < '2200-01-01')\n",
    "        count = len(date_filter.loc[date_filter])\n",
    "        return count\n",
    "    elif timeline == 'last-month':\n",
    "        date_filter = (df[state] < month_first_day) & (df[state] >= last_month)\n",
    "        count = len(date_filter.loc[date_filter])\n",
    "        return count\n",
    "    elif timeline == 'current-year':\n",
    "        date_filter = (df[state] >= year_first_day) & (df[state] < '2200-1-1')\n",
    "        count = df.loc[date_filter].shape[0]\n",
    "        return count\n",
    "    elif timeline == 'ytd':\n",
    "        date_filter = (df[state] < '2200-1-1')\n",
    "        count = df.loc[date_filter].shape[0]\n",
    "        return count"
   ]
  },
  {
   "cell_type": "code",
   "execution_count": 14,
   "metadata": {},
   "outputs": [],
   "source": [
    "inc_count_opened_cm = ticket_count_opened('current-month', df_incident)\n",
    "inc_count_opened_lm = ticket_count_opened('last-month', df_incident)\n",
    "inc_count_opened_cy = ticket_count_opened('current-year', df_incident)\n",
    "inc_count_opened_ytd = ticket_count_opened('ytd', df_incident)\n",
    "\n",
    "task_count_opened_cm = ticket_count_opened('current-month', df_task)\n",
    "task_count_opened_lm = ticket_count_opened('last-month', df_task)\n",
    "task_count_opened_cy = ticket_count_opened('current-year', df_task)\n",
    "task_count_opened_ytd = ticket_count_opened('ytd', df_task)\n",
    "\n",
    "# print(f\"inc_count_opened_cm: {inc_count_opened_cm}\")\n",
    "# print(f\"inc_count_opened_lm: {inc_count_opened_lm}\")\n",
    "# print(f\"inc_count_opened_cy: {inc_count_opened_cy}\")\n",
    "# print(f\"inc_count_opened_ytd: {inc_count_opened_ytd}\")\n",
    "# print(\"-----------------------\")\n",
    "# print(f\"task_count_opened_cm: {task_count_opened_cm}\")\n",
    "# print(f\"task_count_opened_lm: {task_count_opened_lm}\")\n",
    "# print(f\"task_count_opened_cy: {task_count_opened_cy}\")\n",
    "# print(f\"task_count_opened_ytd: {task_count_opened_ytd}\")"
   ]
  },
  {
   "cell_type": "code",
   "execution_count": 15,
   "metadata": {},
   "outputs": [],
   "source": [
    "inc_count_resolved_cm = ticket_count_resolved('current-month', 'resolved_at', df_incident)\n",
    "inc_count_resolved_lm = ticket_count_resolved('last-month', 'resolved_at', df_incident)\n",
    "inc_count_resolved_cy = ticket_count_resolved('current-year', 'resolved_at', df_incident) \n",
    "inc_count_resolved_ytd = ticket_count_resolved('ytd', 'resolved_at', df_incident) \n",
    "\n",
    "\n",
    "task_count_resolved_cm = ticket_count_resolved('current-month', 'closed_at', df_task)\n",
    "task_count_resolved_lm = ticket_count_resolved('last-month', 'closed_at', df_task)\n",
    "task_count_resolved_cy = ticket_count_resolved('current-year', 'closed_at', df_task)\n",
    "task_count_resolved_ytd = ticket_count_resolved('ytd', 'closed_at', df_task)\n",
    "\n",
    "# print(f\"inc_count_resolved_cm: {inc_count_resolved_cm}\")\n",
    "# print(f\"inc_count_resolved_lm: {inc_count_resolved_lm}\")\n",
    "# print(f\"inc_count_resolved_cy: {inc_count_resolved_cy}\")\n",
    "# print(f\"inc_count_resolved_ytd: {inc_count_resolved_ytd}\")\n",
    "# print(\"-----------------------\")\n",
    "# print(f\"task_count_resolved_cm: {task_count_resolved_cm}\")\n",
    "# print(f\"task_count_resolved_lm: {task_count_resolved_lm}\")\n",
    "# print(f\"task_count_resolved_cy: {task_count_resolved_cy}\")\n",
    "# print(f\"task_count_resolved_ytd: {task_count_resolved_ytd}\")"
   ]
  },
  {
   "cell_type": "markdown",
   "metadata": {},
   "source": [
    "Volume of Incidents by Issue Type"
   ]
  },
  {
   "cell_type": "code",
   "execution_count": 16,
   "metadata": {},
   "outputs": [],
   "source": [
    "# NOTE: Blank Research assessment needs to be addressed\n",
    "\n",
    "def inc_issue_type(timeline):\n",
    "    df_research_assessment = \"\"\n",
    "    research_assessment_count = []\n",
    "\n",
    "    if timeline == 'current-month':\n",
    "        date_filter = (df_incident['opened_at'] >= month_first_day)\n",
    "        df_filtered = df_incident.loc[date_filter]\n",
    "\n",
    "        # Get Count for each 'Research Assessment'\n",
    "        \n",
    "        for issue_type in research_assessment_types:\n",
    "            count = df_filtered.loc[df_filtered[\"u_research_assessment\"] == issue_type].shape[0]\n",
    "            research_assessment_count.append(count)\n",
    "\n",
    "        # Create DataFrame for Research Assessment Count\n",
    "        df_research_assessment = pd.DataFrame({\n",
    "            \"Research Assessment\": research_assessment_types,\n",
    "            \"\": research_assessment_count\n",
    "        })\n",
    "\n",
    "        df_research_assessment = df_research_assessment.sort_values('', ascending=True)\n",
    "        return df_research_assessment\n",
    "\n",
    "    elif timeline == 'last-month':\n",
    "        date_filter = (df_incident['opened_at'] < month_first_day) & (df_incident['opened_at'] >= last_month)\n",
    "        df_filtered = df_incident.loc[date_filter]\n",
    "\n",
    "        # Get Count for each 'Research Assessment'\n",
    "        \n",
    "        for issue_type in research_assessment_types:\n",
    "            count = df_filtered.loc[df_filtered[\"u_research_assessment\"] == issue_type].shape[0]\n",
    "            research_assessment_count.append(count)\n",
    "            # print(f\"issue_type: {issue_type} - {count}\")\n",
    "\n",
    "        # Create DataFrame for Research Assessment Count\n",
    "        df_research_assessment = pd.DataFrame({\n",
    "            \"Research Assessment\": research_assessment_types,\n",
    "            \"\": research_assessment_count\n",
    "        })\n",
    "\n",
    "        df_research_assessment = df_research_assessment.sort_values('', ascending=True)\n",
    "        return df_research_assessment\n",
    "\n",
    "    elif timeline == 'current-year':\n",
    "        first_month = month_first_day.replace(str(f\"-{split_month_date_today[1]}\"), str(f\"-01\"))\n",
    "        date_filter = (df_incident['opened_at'] < '2200-01-01') & (df_incident['opened_at'] >= first_month)\n",
    "        df_filtered = df_incident.loc[date_filter]\n",
    "\n",
    "        # Get Count for each 'Research Assessment'\n",
    "        \n",
    "        for issue_type in research_assessment_types:\n",
    "            count = df_filtered.loc[df_filtered[\"u_research_assessment\"] == issue_type].shape[0]\n",
    "            research_assessment_count.append(count)\n",
    "\n",
    "        # Create DataFrame for Research Assessment Count\n",
    "        df_research_assessment = pd.DataFrame({\n",
    "            \"Research Assessment\": research_assessment_types,\n",
    "            \"\": research_assessment_count\n",
    "        })\n",
    "\n",
    "        df_research_assessment = df_research_assessment.sort_values('', ascending=True)\n",
    "        return df_research_assessment\n",
    "        \n",
    "    elif timeline == 'ytd':\n",
    "        for issue_type in research_assessment_types:\n",
    "            count = df_incident.loc[df_incident[\"u_research_assessment\"] == issue_type].shape[0]\n",
    "            research_assessment_count.append(count)\n",
    "\n",
    "        # Create DataFrame for Research Assessment Count\n",
    "        df_research_assessment = pd.DataFrame({\n",
    "            \"Research Assessment\": research_assessment_types,\n",
    "            \"\": research_assessment_count\n",
    "        })\n",
    "\n",
    "        df_research_assessment = df_research_assessment.sort_values('', ascending=True)\n",
    "        return df_research_assessment\n",
    "\n",
    "df_assessment_cm = inc_issue_type('current-month')\n",
    "df_assessment_lm = inc_issue_type('last-month')\n",
    "df_assessment_cy = inc_issue_type('current-year')\n",
    "df_assessment_ytd = inc_issue_type('ytd')\n"
   ]
  },
  {
   "cell_type": "code",
   "execution_count": 17,
   "metadata": {},
   "outputs": [],
   "source": [
    "fig_df_assessment_cm = px.bar(df_assessment_cm, x=\"\", y=\"Research Assessment\", barmode=\"group\", text_auto=True, orientation=\"h\")\n",
    "fig_df_assessment_lm = px.bar(df_assessment_lm, x=\"\", y=\"Research Assessment\", barmode=\"group\", text_auto=True, orientation=\"h\")\n",
    "fig_df_assessment_cy = px.bar(df_assessment_cy, x=\"\", y=\"Research Assessment\", barmode=\"group\", text_auto=True, orientation=\"h\")\n",
    "fig_df_assessment_ytd = px.bar(df_assessment_ytd, x=\"\", y=\"Research Assessment\", barmode=\"group\", text_auto=True, orientation=\"h\")"
   ]
  },
  {
   "cell_type": "markdown",
   "metadata": {},
   "source": [
    "CARD"
   ]
  },
  {
   "cell_type": "code",
   "execution_count": 18,
   "metadata": {},
   "outputs": [],
   "source": [
    "def card_count(title, title_size, data, data_size):\n",
    "    card = dbc.Card(\n",
    "            dbc.CardBody(\n",
    "                [\n",
    "                    html.H5(title, className=\"card-title\", style={'font-size': title_size}),\n",
    "                    html.P(data, style={'font-size': data_size, 'font-weight': 'bold', 'text-align':'center', 'margin-bottom':'0rem'}),\n",
    "                    \n",
    "                ]\n",
    "            )\n",
    "        )\n",
    "    \n",
    "    return card\n",
    "\n",
    "# For Current Month\n",
    "card_inc_opened_cm = card_count('Incidents Opened', '1.5rem', inc_count_opened_cm, '10rem')\n",
    "card_inc_resolved_cm = card_count('Incidents Resolved', '1.5rem', inc_count_resolved_cm, '10rem')\n",
    "card_task_opened_cm = card_count('Tasks Opened', '1.5rem', task_count_opened_cm, '10rem')\n",
    "card_task_resolved_cm = card_count('Tasks Resolved', '1.5rem', task_count_resolved_cm, '10rem')\n",
    "\n",
    "row1_cm = dbc.Row(\n",
    "        [\n",
    "            dbc.Col(card_inc_opened_cm, width = 3),\n",
    "            dbc.Col(card_inc_resolved_cm, width = 3),\n",
    "            dbc.Col(card_task_opened_cm, width = 3),\n",
    "            dbc.Col(card_task_resolved_cm, width = 3),\n",
    "        ]\n",
    "    )\n",
    "\n",
    "# For Last Month\n",
    "card_inc_opened_lm = card_count('Incidents Opened', '1.5rem', inc_count_opened_lm, '10rem')\n",
    "card_inc_resolved_lm = card_count('Incidents Resolved', '1.5rem', inc_count_resolved_lm, '10rem')\n",
    "card_task_opened_lm = card_count('Tasks Opened', '1.5rem', task_count_opened_lm, '10rem')\n",
    "card_task_resolved_lm = card_count('Tasks Resolved', '1.5rem', task_count_resolved_lm, '10rem')\n",
    "\n",
    "row1_lm = dbc.Row(\n",
    "        [\n",
    "            dbc.Col(card_inc_opened_lm, width = 3),\n",
    "            dbc.Col(card_inc_resolved_lm, width = 3),\n",
    "            dbc.Col(card_task_opened_lm, width = 3),\n",
    "            dbc.Col(card_task_resolved_lm, width = 3),\n",
    "        ]\n",
    "    )\n",
    "\n",
    "# For Current Year\n",
    "card_inc_opened_cy = card_count('Incidents Opened', '1.5rem', inc_count_opened_cy, '10rem')\n",
    "card_inc_resolved_cy = card_count('Incidents Resolved', '1.5rem', inc_count_resolved_cy, '10rem')\n",
    "card_task_opened_cy = card_count('Tasks Opened', '1.5rem', task_count_opened_cy, '10rem')\n",
    "card_task_resolved_cy = card_count('Tasks Resolved', '1.5rem', task_count_resolved_cy, '10rem')\n",
    "\n",
    "row1_cy = dbc.Row(\n",
    "        [\n",
    "            dbc.Col(card_inc_opened_cy, width = 3),\n",
    "            dbc.Col(card_inc_resolved_cy, width = 3),\n",
    "            dbc.Col(card_task_opened_cy, width = 3),\n",
    "            dbc.Col(card_task_resolved_cy, width = 3),\n",
    "        ]\n",
    "    )\n",
    "\n",
    "# For YTD\n",
    "card_inc_opened_ytd = card_count('Incidents Opened', '1.5rem', inc_count_opened_ytd, '10rem')\n",
    "card_inc_resolved_ytd = card_count('Incidents Resolved', '1.5rem', inc_count_resolved_ytd, '10rem')\n",
    "card_task_opened_ytd = card_count('Tasks Opened', '1.5rem', task_count_opened_ytd, '10rem')\n",
    "card_task_resolved_ytd = card_count('Tasks Resolved', '1.5rem', task_count_resolved_ytd, '10rem')\n",
    "\n",
    "row1_ytd = dbc.Row(\n",
    "        [\n",
    "            dbc.Col(card_inc_opened_ytd, width = 3),\n",
    "            dbc.Col(card_inc_resolved_ytd, width = 3),\n",
    "            dbc.Col(card_task_opened_ytd, width = 3),\n",
    "            dbc.Col(card_task_resolved_ytd, width = 3),\n",
    "        ]\n",
    "    )"
   ]
  },
  {
   "cell_type": "markdown",
   "metadata": {},
   "source": [
    "Tickets Opened and Resolved"
   ]
  },
  {
   "cell_type": "code",
   "execution_count": 19,
   "metadata": {},
   "outputs": [],
   "source": [
    "def year_month_data(selected_year, state, df):\n",
    "\n",
    "    initial_year_month_list = df[state].dt.strftime('%Y-%m').unique().tolist()\n",
    "    year_month_list = []\n",
    "\n",
    "    for x in initial_year_month_list:\n",
    "        if selected_year in x:\n",
    "            year_month_list.append(x)\n",
    "\n",
    "    # Get available month names for selected year\n",
    "    get_month_names = df.loc[df[state] > selected_year][state].dt.strftime('%b').unique().tolist()\n",
    "\n",
    "    return year_month_list, get_month_names\n",
    "    \n",
    "inc_ym_2022, inc_mn_2022 = year_month_data('2022', 'opened_at', df_incident)\n",
    "\n",
    "# print(inc_ym_2022)\n",
    "# print(inc_mn_2022)"
   ]
  },
  {
   "cell_type": "code",
   "execution_count": 20,
   "metadata": {},
   "outputs": [],
   "source": [
    "def year_month_count_opened(year_month_list, state, df):\n",
    "    year_month_count_opened = []\n",
    "\n",
    "    for get_curr_year_month in year_month_list:\n",
    "\n",
    "        get_curr_month = get_curr_year_month.split('-')[1]\n",
    "        get_curr_year = get_curr_year_month.split('-')[0]\n",
    "        get_next_month = int(get_curr_month) + 1\n",
    "        get_next_year = int(get_curr_year) + 1\n",
    "\n",
    "        if get_next_month > 12:\n",
    "            \n",
    "            get_next_month = 1;\n",
    "            get_next_year_month = get_curr_year_month.replace(str(f\"-{get_curr_month}\"), str(f\"-{get_next_month}\"))\n",
    "            get_next_year_month = get_next_year_month.replace(str(get_curr_year), str(get_next_year))\n",
    "\n",
    "            count = df.loc[(df[state] < f\"{get_next_year_month}-01\") & \n",
    "                                    (df[state] >= f\"{get_curr_year_month}-01\")]\n",
    "\n",
    "            year_month_count_opened.append(count.shape[0])\n",
    "        else:\n",
    "            get_next_year_month = get_curr_year_month.replace(str(f\"-{get_curr_month}\"), str(f\"-{get_next_month}\"))\n",
    "\n",
    "            count = df.loc[(df[state] < f\"{get_next_year_month}-01\") & \n",
    "                                    (df[state] >= f\"{get_curr_year_month}-01\")]\n",
    "\n",
    "            year_month_count_opened.append(count.shape[0])\n",
    "\n",
    "    return year_month_count_opened\n",
    "\n",
    "inc_ymc_opened_2022 = year_month_count_opened(inc_ym_2022, 'opened_at' ,df_incident)\n",
    "inc_ymc_resolved_2022 = year_month_count_opened(inc_ym_2022, 'resolved_at' ,df_incident)\n",
    "\n",
    "task_ymc_opened_2022 = year_month_count_opened(inc_ym_2022, 'opened_at' ,df_task)\n",
    "task_ymc_resolved_2022 = year_month_count_opened(inc_ym_2022, 'closed_at' ,df_task)\n",
    "\n",
    "# print(f\"inc_ymc_opened_2022: {inc_ymc_opened_2022}\")\n",
    "# print(f\"inc_ymc_resolved_2022: {inc_ymc_resolved_2022}\")\n",
    "# print(f\"task_ymc_opened_2022: {task_ymc_opened_2022}\")\n",
    "# print(f\"task_ymc_resolved_2022 : {task_ymc_resolved_2022}\")\n"
   ]
  },
  {
   "cell_type": "code",
   "execution_count": 21,
   "metadata": {},
   "outputs": [],
   "source": [
    "# Create DataFrame for 'opened_at' column based on 'year_month_list' and 'year_month_count'\n",
    "df_inc_open_and_close = pd.DataFrame({\n",
    "    \"month_year\": inc_ym_2022,\n",
    "    \"count_open\": inc_ymc_opened_2022,\n",
    "    \"count_resolved\": inc_ymc_resolved_2022\n",
    "})\n",
    "\n",
    "# df_inc_open_and_close"
   ]
  },
  {
   "cell_type": "code",
   "execution_count": 22,
   "metadata": {},
   "outputs": [],
   "source": [
    "# Create figure for 'df_inc_open_and_close'\n",
    "colors = px.colors.qualitative.Set3\n",
    "\n",
    "fig2 = go.Figure(data=[\n",
    "    go.Bar(name='Opened', x=inc_mn_2022, y=inc_ymc_opened_2022, text=inc_ymc_opened_2022, marker=dict(color=colors[4])),\n",
    "    go.Bar(name='Resolved', x=inc_mn_2022, y=inc_ymc_resolved_2022, text=inc_ymc_resolved_2022, marker=dict(color=colors[3])),\n",
    "])\n",
    "\n",
    "# fig2.show()"
   ]
  },
  {
   "cell_type": "markdown",
   "metadata": {},
   "source": [
    "INC & TASK OPENED"
   ]
  },
  {
   "cell_type": "code",
   "execution_count": 23,
   "metadata": {},
   "outputs": [],
   "source": [
    "# # Create DataFrame\n",
    "df_inc_and_task_open = pd.DataFrame({\n",
    "    \"month_year\": inc_ym_2022,\n",
    "    \"count_open_inc\": inc_ymc_opened_2022,\n",
    "    \"count_open_task\": task_ymc_opened_2022,\n",
    "})\n",
    "\n",
    "# print(df_inc_and_task_open)"
   ]
  },
  {
   "cell_type": "code",
   "execution_count": 24,
   "metadata": {},
   "outputs": [],
   "source": [
    "# # Create figure for 'df_inc_and_task_open'\n",
    "colors = px.colors.qualitative.Set3\n",
    "\n",
    "fig3 = go.Figure(data=[\n",
    "    go.Bar(name='Incidents', x=inc_mn_2022, y=inc_ymc_opened_2022, text=inc_ymc_opened_2022, marker=dict(color=colors[4])),\n",
    "    go.Bar(name='Tasks', x=inc_mn_2022, y=task_ymc_opened_2022, text=task_ymc_opened_2022, marker=dict(color=colors[3])),\n",
    "])\n",
    "\n",
    "# fig3"
   ]
  },
  {
   "cell_type": "code",
   "execution_count": 25,
   "metadata": {},
   "outputs": [],
   "source": [
    "# Filler Pie Chart\n",
    "df_pie = px.data.tips()\n",
    "fig_pie = px.pie(df_pie, values='tip', names='day', color='day',\n",
    "             color_discrete_map={'Thur':'lightcyan',\n",
    "                                 'Fri':'cyan',\n",
    "                                 'Sat':'royalblue',\n",
    "                                 'Sun':'darkblue'})\n",
    "# fig_pie.show()"
   ]
  },
  {
   "cell_type": "markdown",
   "metadata": {},
   "source": [
    "INC BY T-SHIRT SIZE"
   ]
  },
  {
   "cell_type": "code",
   "execution_count": 26,
   "metadata": {},
   "outputs": [],
   "source": [
    "def countsize_per_type(df):\n",
    "    s = []\n",
    "    m = []\n",
    "    l = []\n",
    "\n",
    "    research_assessment_types = df[\"u_research_assessment\"].unique().tolist()\n",
    "    for type in research_assessment_types:\n",
    "            \n",
    "            count_s = df.loc[(df['u_research_assessment'] == type) & (df['correlation_display'] == 'S')].shape[0]\n",
    "            count_m = df.loc[(df['u_research_assessment'] == type) & (df['correlation_display'] == 'M')].shape[0]\n",
    "            count_l = df.loc[(df['u_research_assessment'] == type) & (df['correlation_display'] == 'L')].shape[0]\n",
    "\n",
    "            s.append(count_s)\n",
    "            m.append(count_m)\n",
    "            l.append(count_l)\n",
    "\n",
    "    return s, m, l, research_assessment_types\n",
    "\n",
    "def create_trbs_df(date_filter):\n",
    "    df = df_incident.loc[date_filter]\n",
    "    s, m, l, research_assessment_types = countsize_per_type(df)\n",
    "    \n",
    "    data = {\n",
    "        'Research Assessment': research_assessment_types,\n",
    "        'S': s,\n",
    "        'M': m,\n",
    "        'L': l\n",
    "    }\n",
    "\n",
    "    df2 = pd.DataFrame(data)\n",
    "    df2['Count'] = df2.iloc[:, 1:4].sum(axis=1) # Add column for row Count\n",
    "    df2.loc[len(df2.index)] = ['Total', df2['S'].sum(), df2['M'].sum(), df2['L'].sum(), df2['Count'].sum()] # Add row for column Total\n",
    "    return df2\n",
    "\n",
    "def df_ticket_resolved_by_size(timeline):    \n",
    "\n",
    "    if timeline == 'current-month':\n",
    "\n",
    "        date_filter = (df_incident['resolved_at'] >= month_first_day) & (df_incident['resolved_at'] < '2200-01-01')\n",
    "        df = create_trbs_df(date_filter)\n",
    "        return df\n",
    "\n",
    "    elif timeline == 'last-month':\n",
    "        \n",
    "        date_filter = (df_incident['resolved_at'] < month_first_day) & (df_incident['resolved_at'] >= last_month)\n",
    "        df = create_trbs_df(date_filter)\n",
    "        return df\n",
    "\n",
    "    elif timeline == 'current-year':\n",
    "        date_filter = (df_incident['resolved_at'] >= year_first_day) & (df_incident['resolved_at'] < '2200-01-01')\n",
    "        df = create_trbs_df(date_filter)\n",
    "        return df\n",
    "\n",
    "    elif timeline == 'ytd':\n",
    "\n",
    "        date_filter = (df_incident['resolved_at'] < '2200-01-01')\n",
    "        df = create_trbs_df(date_filter)\n",
    "        return df"
   ]
  },
  {
   "cell_type": "code",
   "execution_count": 27,
   "metadata": {},
   "outputs": [],
   "source": [
    "# Initialize trbs DataFrame\n",
    "df_by_size_cm = df_ticket_resolved_by_size('current-month')\n",
    "df_by_size_lm = df_ticket_resolved_by_size('last-month')\n",
    "df_by_size_cy = df_ticket_resolved_by_size('current-year')\n",
    "df_by_size_ytd = df_ticket_resolved_by_size('ytd') \n",
    "\n",
    "# df_by_size_cm\n",
    "# df_by_size_lm\n",
    "# df_by_size_cy\n",
    "# df_by_size_ytd"
   ]
  },
  {
   "cell_type": "code",
   "execution_count": 28,
   "metadata": {},
   "outputs": [],
   "source": [
    "# Create DataTables\n",
    "dt_by_size_cm = dash_table.DataTable(\n",
    "    df_by_size_cm.to_dict('records'),\n",
    "    columns = [{\"name\": i, \"id\": i} for i in df_by_size_cm.columns]\n",
    ")\n",
    "\n",
    "dt_by_size_lm = dash_table.DataTable(\n",
    "    df_by_size_lm.to_dict('records'),\n",
    "    columns = [{\"name\": i, \"id\": i} for i in df_by_size_lm.columns]\n",
    ")\n",
    "\n",
    "dt_by_size_cy = dash_table.DataTable(\n",
    "    df_by_size_cy.to_dict('records'),\n",
    "    columns = [{\"name\": i, \"id\": i} for i in df_by_size_cy.columns]\n",
    ")\n",
    "\n",
    "dt_by_size_ytd = dash_table.DataTable(\n",
    "    df_by_size_ytd.to_dict('records'),\n",
    "    columns = [{\"name\": i, \"id\": i} for i in df_by_size_ytd.columns]\n",
    ")\n",
    "\n"
   ]
  },
  {
   "cell_type": "code",
   "execution_count": 29,
   "metadata": {},
   "outputs": [],
   "source": [
    "row2_cm = dbc.Row([\n",
    "    dbc.Col(dt_by_size_cm, width=4),\n",
    "    dbc.Col(dcc.Graph(figure=fig_df_assessment_cm), width=4),\n",
    "    dbc.Col([\n",
    "        dbc.Row(dcc.Graph(figure=fig_pie)),\n",
    "        dbc.Row(dcc.Graph(figure=fig_pie))\n",
    "    ], width=4),\n",
    "])\n",
    "\n",
    "row2_lm = dbc.Row([\n",
    "    dbc.Col(dt_by_size_lm, width=4),\n",
    "    dbc.Col(dcc.Graph(figure=fig_df_assessment_lm), width=4),\n",
    "    dbc.Col([\n",
    "        dbc.Row(dcc.Graph(figure=fig_pie)),\n",
    "        dbc.Row(dcc.Graph(figure=fig_pie))\n",
    "    ], width=4),\n",
    "])\n",
    "\n",
    "row2_cy = dbc.Row([\n",
    "    dbc.Col(dt_by_size_cy, width=4),\n",
    "    dbc.Col(dcc.Graph(figure=fig_df_assessment_cy), width=4),\n",
    "    dbc.Col([\n",
    "        dbc.Row(dcc.Graph(figure=fig_pie)),\n",
    "        dbc.Row(dcc.Graph(figure=fig_pie))\n",
    "    ], width=4),\n",
    "])\n",
    "\n",
    "row2_ytd = dbc.Row([\n",
    "    dbc.Col(dt_by_size_ytd, width=4),\n",
    "    dbc.Col(dcc.Graph(figure=fig_df_assessment_ytd), width=4),\n",
    "    dbc.Col([\n",
    "        dbc.Row(dcc.Graph(figure=fig_pie)),\n",
    "        dbc.Row(dcc.Graph(figure=fig_pie))\n",
    "    ], width=4),\n",
    "])"
   ]
  },
  {
   "cell_type": "code",
   "execution_count": 30,
   "metadata": {},
   "outputs": [
    {
     "name": "stdout",
     "output_type": "stream",
     "text": [
      "Dash app running on http://127.0.0.1:8050/\n"
     ]
    }
   ],
   "source": [
    "# Create server variable with Flask server object for use with gunicorn\n",
    "server = app.server\n",
    "\n",
    "# Construct App Layout\n",
    "app.layout = html.Div(children=[\n",
    "    html.H1('Analytics Platform Ticket Dashboard'),\n",
    "    dcc.Tabs(id=\"tabs-content-input\", value='current-month', children=[\n",
    "        dcc.Tab(label='Current Month', value='current-month'),\n",
    "        dcc.Tab(label='Last Month', value='last-month'),\n",
    "        dcc.Tab(label='Current Year', value='current-year'),\n",
    "        dcc.Tab(label='Year to Date', value='ytd')\n",
    "    ]),\n",
    "    html.Br(),\n",
    "    html.Div(id='tabs-content-output'),\n",
    "\n",
    "])\n",
    "\n",
    "@app.callback(Output('tabs-content-output', 'children'),\n",
    "              Input('tabs-content-input', 'value'))\n",
    "def render_content(tab):\n",
    "    if tab == 'current-month':\n",
    "        return html.Div([\n",
    "            dbc.Row(row1_cm, justify=\"around\"),\n",
    "            html.Br(),\n",
    "            dbc.Row(row2_cm),\n",
    "        ])\n",
    "    elif tab == 'last-month':\n",
    "        return html.Div([\n",
    "            dbc.Row(row1_lm, justify=\"around\"),\n",
    "            html.Br(),\n",
    "            dbc.Row(row2_lm),  \n",
    "        ])\n",
    "    elif tab == 'current-year':\n",
    "        return html.Div([\n",
    "            dbc.Row(row1_cy, justify=\"around\"),\n",
    "            html.Br(),\n",
    "            dbc.Row(row2_cy),  \n",
    "        ])\n",
    "    elif tab == 'ytd':\n",
    "        return html.Div([\n",
    "            dbc.Row(row1_ytd, justify=\"around\"),\n",
    "            html.Br(),\n",
    "            dbc.Row(row2_ytd),  \n",
    "        ])\n",
    "\n",
    "app.run_server()"
   ]
  },
  {
   "cell_type": "code",
   "execution_count": null,
   "metadata": {},
   "outputs": [],
   "source": []
  }
 ],
 "metadata": {
  "kernelspec": {
   "display_name": "Python 3.10.4 64-bit",
   "language": "python",
   "name": "python3"
  },
  "language_info": {
   "codemirror_mode": {
    "name": "ipython",
    "version": 3
   },
   "file_extension": ".py",
   "mimetype": "text/x-python",
   "name": "python",
   "nbconvert_exporter": "python",
   "pygments_lexer": "ipython3",
   "version": "3.10.4"
  },
  "orig_nbformat": 4,
  "vscode": {
   "interpreter": {
    "hash": "b769e006912ec37d22d70e5a86561f700ac3296e9c585175429d129c45e25b86"
   }
  }
 },
 "nbformat": 4,
 "nbformat_minor": 2
}
