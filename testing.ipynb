{
 "cells": [
  {
   "cell_type": "code",
   "execution_count": 1,
   "metadata": {},
   "outputs": [],
   "source": [
    "import pandas as pd\n",
    "import plotly.express as px\n",
    "import plotly.graph_objects as go\n",
    "from datetime import date"
   ]
  },
  {
   "cell_type": "code",
   "execution_count": 2,
   "metadata": {},
   "outputs": [],
   "source": [
    "df_incident = pd.read_csv('/Users/noel.c.joaquin/Desktop/BASE_DATA/INC_YTD_nov2022.csv')"
   ]
  },
  {
   "cell_type": "code",
   "execution_count": 3,
   "metadata": {},
   "outputs": [],
   "source": [
    "df_incident['resolved_at'].fillna('01/01/2200', inplace=True)\n",
    "df_incident['closed_at'].fillna('01/01/2200', inplace=True)\n",
    "df_incident['u_research_assessment'].fillna('Empty', inplace=True)\n",
    "df_incident['u_previous_assignment_group'].fillna('Analytics Platform L1 Support', inplace=True)\n",
    "df_incident['reassignment_count'].fillna('1', inplace=True)"
   ]
  },
  {
   "cell_type": "code",
   "execution_count": 4,
   "metadata": {},
   "outputs": [],
   "source": [
    "df_incident.to_csv('/Users/noel.c.joaquin/Desktop/Python/INC_YTD_nov2022.csv', index=False)"
   ]
  },
  {
   "cell_type": "code",
   "execution_count": 5,
   "metadata": {},
   "outputs": [
    {
     "name": "stderr",
     "output_type": "stream",
     "text": [
      "C:\\Users\\noel.c.joaquin\\AppData\\Local\\Temp\\ipykernel_6720\\3131522104.py:1: FutureWarning: The pandas.datetime class is deprecated and will be removed from pandas in a future version. Import from datetime module instead.\n",
      "  d_parser = lambda x: pd.datetime.strptime(x, '%m/%d/%Y')\n",
      "C:\\Users\\noel.c.joaquin\\AppData\\Local\\Temp\\ipykernel_6720\\3131522104.py:1: FutureWarning: The pandas.datetime class is deprecated and will be removed from pandas in a future version. Import from datetime module instead.\n",
      "  d_parser = lambda x: pd.datetime.strptime(x, '%m/%d/%Y')\n",
      "C:\\Users\\noel.c.joaquin\\AppData\\Local\\Temp\\ipykernel_6720\\3131522104.py:1: FutureWarning: The pandas.datetime class is deprecated and will be removed from pandas in a future version. Import from datetime module instead.\n",
      "  d_parser = lambda x: pd.datetime.strptime(x, '%m/%d/%Y')\n"
     ]
    }
   ],
   "source": [
    "d_parser = lambda x: pd.datetime.strptime(x, '%m/%d/%Y')\n",
    "\n",
    "df_incident = pd.read_csv('/Users/noel.c.joaquin/Desktop/Python/INC_YTD_nov2022.csv', parse_dates=['opened_at', 'closed_at', 'resolved_at'],\n",
    "                            date_parser = d_parser , encoding = 'unicode_escape')"
   ]
  },
  {
   "cell_type": "code",
   "execution_count": 6,
   "metadata": {},
   "outputs": [],
   "source": [
    "df_task = pd.read_csv('/Users/noel.c.joaquin/Desktop/BASE_DATA/TASK_YTD_nov2022.csv')"
   ]
  },
  {
   "cell_type": "code",
   "execution_count": 7,
   "metadata": {},
   "outputs": [],
   "source": [
    "df_task['closed_at'].fillna('01/01/2200', inplace=True)"
   ]
  },
  {
   "cell_type": "code",
   "execution_count": 8,
   "metadata": {},
   "outputs": [],
   "source": [
    "df_task.to_csv('/Users/noel.c.joaquin/Desktop/Python/TASK_YTD_nov2022.csv', index=False)"
   ]
  },
  {
   "cell_type": "code",
   "execution_count": 9,
   "metadata": {},
   "outputs": [
    {
     "name": "stderr",
     "output_type": "stream",
     "text": [
      "C:\\Users\\noel.c.joaquin\\AppData\\Local\\Temp\\ipykernel_6720\\2542818920.py:2: FutureWarning: The pandas.datetime class is deprecated and will be removed from pandas in a future version. Import from datetime module instead.\n",
      "  d_parser = lambda x: pd.datetime.strptime(x, '%m/%d/%Y')\n",
      "C:\\Users\\noel.c.joaquin\\AppData\\Local\\Temp\\ipykernel_6720\\2542818920.py:2: FutureWarning: The pandas.datetime class is deprecated and will be removed from pandas in a future version. Import from datetime module instead.\n",
      "  d_parser = lambda x: pd.datetime.strptime(x, '%m/%d/%Y')\n"
     ]
    }
   ],
   "source": [
    "# Create SCTASK DataFrame\n",
    "d_parser = lambda x: pd.datetime.strptime(x, '%m/%d/%Y')\n",
    "\n",
    "df_task = pd.read_csv('/Users/noel.c.joaquin/Desktop/Python/TASK_YTD_nov2022.csv', parse_dates=['opened_at', 'closed_at'], date_parser = d_parser, encoding='unicode_escape')\n",
    "\n",
    "# df_task.head()"
   ]
  },
  {
   "cell_type": "code",
   "execution_count": 10,
   "metadata": {},
   "outputs": [
    {
     "name": "stdout",
     "output_type": "stream",
     "text": [
      "--- INITIAL DATA ---\n",
      "month_date_today: 2023-01-17\n",
      "split_month_date_today: ['2023', '01', '01']\n",
      "get_last_year : 2022\n",
      "get_last_month: 0\n",
      "month_first_day: 2023-01-01\n",
      "year_first_day: 2023-01-01\n",
      "--- RESULTING DATA ---\n",
      "month_date_today: 2023-01-17\n",
      "split_month_date_today: ['2022', '01', '01']\n",
      "get_last_year : 2022\n",
      "get_last_month: 12\n",
      "month_first_day: 2023-01-01\n",
      "year_first_day: 2023-01-01\n",
      "last_month: 2022-01-01\n",
      "-----------\n"
     ]
    }
   ],
   "source": [
    "print(\"--- INITIAL DATA ---\")\n",
    "\n",
    "month_date_today = date.today()\n",
    "print(f\"month_date_today: {month_date_today}\")\n",
    "\n",
    "\n",
    "# Get first day of current month\n",
    "split_month_date_today = str(month_date_today).split('-')\n",
    "split_month_date_today[2] = '01'\n",
    "print(f\"split_month_date_today: {split_month_date_today}\")\n",
    "\n",
    "\n",
    "\n",
    "# Get Year Last Year\n",
    "get_last_year = str(int(split_month_date_today[0]) - 1 )\n",
    "print(f\"get_last_year : {get_last_year }\")\n",
    "\n",
    "# Get Month of Last Month\n",
    "get_last_month = str(int(split_month_date_today[1]) - 1 )\n",
    "print(f\"get_last_month: {get_last_month}\")\n",
    "\n",
    "# split_year_today = split_month_date_today[0]\n",
    "# Get Date for first date of current month\n",
    "month_first_day = '-'.join([str(elem) for elem in split_month_date_today])\n",
    "print(f\"month_first_day: {month_first_day}\")\n",
    "\n",
    "\n",
    "# Get January 01 of current year\n",
    "split_month_date_today[1] = '01'\n",
    "year_first_day = '-'.join([str(elem) for elem in split_month_date_today])\n",
    "print(f\"year_first_day: {year_first_day}\")\n",
    "\n",
    "# # Applicable during new year January\n",
    "if get_last_month == '0':\n",
    "    get_last_month = '12'\n",
    "    split_month_date_today[0] = get_last_year\n",
    "    last_month = '-'.join([str(elem) for elem in split_month_date_today])\n",
    "else:\n",
    "    split_month_date_today[1] = get_last_month\n",
    "    last_month = '-'.join([str(elem) for elem in split_month_date_today])\n",
    "    \n",
    "\n",
    "research_assessment_types = df_incident[\"u_research_assessment\"].unique().tolist()\n",
    "\n",
    "print(\"--- RESULTING DATA ---\")\n",
    "print(f\"month_date_today: {month_date_today}\")\n",
    "print(f\"split_month_date_today: {split_month_date_today}\")\n",
    "print(f\"get_last_year : {get_last_year }\")\n",
    "print(f\"get_last_month: {get_last_month}\")\n",
    "print(f\"month_first_day: {month_first_day}\")\n",
    "print(f\"year_first_day: {year_first_day}\")\n",
    "print(f\"last_month: {last_month}\")\n",
    "# print(research_assessment_types)\n",
    "print(\"-----------\")\n",
    "# print(f\"day_month_last_year: {day_month_last_year}\")"
   ]
  },
  {
   "cell_type": "markdown",
   "metadata": {},
   "source": []
  },
  {
   "cell_type": "markdown",
   "metadata": {},
   "source": [
    "Variables that have dependencies\n",
    "- month_first_day\n",
    "- year_first_day\n",
    "- last_month"
   ]
  },
  {
   "cell_type": "code",
   "execution_count": null,
   "metadata": {},
   "outputs": [],
   "source": []
  }
 ],
 "metadata": {
  "kernelspec": {
   "display_name": "Python 3",
   "language": "python",
   "name": "python3"
  },
  "language_info": {
   "codemirror_mode": {
    "name": "ipython",
    "version": 3
   },
   "file_extension": ".py",
   "mimetype": "text/x-python",
   "name": "python",
   "nbconvert_exporter": "python",
   "pygments_lexer": "ipython3",
   "version": "3.10.4 (tags/v3.10.4:9d38120, Mar 23 2022, 23:13:41) [MSC v.1929 64 bit (AMD64)]"
  },
  "orig_nbformat": 4,
  "vscode": {
   "interpreter": {
    "hash": "b769e006912ec37d22d70e5a86561f700ac3296e9c585175429d129c45e25b86"
   }
  }
 },
 "nbformat": 4,
 "nbformat_minor": 2
}
